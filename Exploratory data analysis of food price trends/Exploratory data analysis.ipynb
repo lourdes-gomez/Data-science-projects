{
 "cells": [
  {
   "cell_type": "markdown",
   "metadata": {},
   "source": [
    "<H1> Exploratory data analysis"
   ]
  },
  {
   "cell_type": "markdown",
   "metadata": {},
   "source": [
    "\n",
    "It is based on 2 datasets with prices from 3 supermarkets: Mercadona, Carrefour and Consum.<br>\n",
    "One dataset contains the 2020 prices and another contains the 2023 prices.<br>\n",
    "The prices of both years will be analyzed and subsequently a comparison of both years will be made.<br>\n",
    "In this study we are going to focus on 4 main food categories: meat, fish, fruits and vegetables and olive oil.<br>\n",
    "At the end of this analysis we will be able to answer the following questions:<br>\n",
    "- What is the average price in €/kg of meat, fish, fruits and vegetables and fish in each supermarket in 2020?<br>\n",
    "- What is the average price in €/kg of meat, fish, fruits and vegetables and fish in each supermarket in 2023?<br>\n",
    "- How much have the different supermarkets increased prices between 2020 and 2023 for each food category?<br>"
   ]
  },
  {
   "cell_type": "markdown",
   "metadata": {},
   "source": [
    "-------------------------------------"
   ]
  },
  {
   "cell_type": "markdown",
   "metadata": {},
   "source": [
    "### Let's start with 2020"
   ]
  },
  {
   "cell_type": "markdown",
   "metadata": {},
   "source": [
    "Let's take a look to the dataset"
   ]
  },
  {
   "cell_type": "code",
   "execution_count": 1,
   "metadata": {},
   "outputs": [
    {
     "data": {
      "text/html": [
       "<div>\n",
       "<style scoped>\n",
       "    .dataframe tbody tr th:only-of-type {\n",
       "        vertical-align: middle;\n",
       "    }\n",
       "\n",
       "    .dataframe tbody tr th {\n",
       "        vertical-align: top;\n",
       "    }\n",
       "\n",
       "    .dataframe thead th {\n",
       "        text-align: right;\n",
       "    }\n",
       "</style>\n",
       "<table border=\"1\" class=\"dataframe\">\n",
       "  <thead>\n",
       "    <tr style=\"text-align: right;\">\n",
       "      <th></th>\n",
       "      <th>supermarket</th>\n",
       "      <th>category</th>\n",
       "      <th>name</th>\n",
       "      <th>description</th>\n",
       "      <th>price</th>\n",
       "      <th>reference_price</th>\n",
       "      <th>reference_unit</th>\n",
       "      <th>insert_date</th>\n",
       "    </tr>\n",
       "  </thead>\n",
       "  <tbody>\n",
       "    <tr>\n",
       "      <th>0</th>\n",
       "      <td>mercadona-es</td>\n",
       "      <td>postres_y_yogures_yogures_liquidos</td>\n",
       "      <td>Bebida láctea sin lactosa de fresa Hacendado</td>\n",
       "      <td>Pack-4</td>\n",
       "      <td>1.40</td>\n",
       "      <td>2.19</td>\n",
       "      <td>kg</td>\n",
       "      <td>2020-12-23 00:00:00</td>\n",
       "    </tr>\n",
       "    <tr>\n",
       "      <th>1</th>\n",
       "      <td>mercadona-es</td>\n",
       "      <td>bodega_licores</td>\n",
       "      <td>Ginebra 15 botanicals Blumara</td>\n",
       "      <td>Botella</td>\n",
       "      <td>10.75</td>\n",
       "      <td>15.36</td>\n",
       "      <td>L</td>\n",
       "      <td>2020-11-06 12:00:00</td>\n",
       "    </tr>\n",
       "    <tr>\n",
       "      <th>2</th>\n",
       "      <td>mercadona-es</td>\n",
       "      <td>charcuteria_y_quesos_queso_untable_y_fresco</td>\n",
       "      <td>Queso fresco batido desnatado Hacendado 0% mat...</td>\n",
       "      <td>Tarrina</td>\n",
       "      <td>1.09</td>\n",
       "      <td>2.18</td>\n",
       "      <td>kg</td>\n",
       "      <td>2020-09-23 16:06:00</td>\n",
       "    </tr>\n",
       "    <tr>\n",
       "      <th>3</th>\n",
       "      <td>carrefour-es</td>\n",
       "      <td>la_despensa_yogures_y_postres_yogures_desnatados</td>\n",
       "      <td>Yogur bífidus desnatado con lima y limón Danon...</td>\n",
       "      <td>Pack 4x120 G.</td>\n",
       "      <td>2.08</td>\n",
       "      <td>4.33</td>\n",
       "      <td>kg</td>\n",
       "      <td>2020-10-10 00:00:00</td>\n",
       "    </tr>\n",
       "    <tr>\n",
       "      <th>4</th>\n",
       "      <td>carrefour-es</td>\n",
       "      <td>la_despensa_helados_bombon</td>\n",
       "      <td>Helado After Dinner Magnum sin gluten 10 ud.</td>\n",
       "      <td>10 Ud.</td>\n",
       "      <td>4.60</td>\n",
       "      <td>0.46</td>\n",
       "      <td>ud</td>\n",
       "      <td>2020-10-15 00:00:00</td>\n",
       "    </tr>\n",
       "    <tr>\n",
       "      <th>5</th>\n",
       "      <td>carrefour-es</td>\n",
       "      <td>limpieza_y_hogar_cuidado_de_la_ropa_detergentes</td>\n",
       "      <td>Detergente líquido Actilift Ariel 50 lavados.</td>\n",
       "      <td>NaN</td>\n",
       "      <td>13.95</td>\n",
       "      <td>0.28</td>\n",
       "      <td>lavado</td>\n",
       "      <td>2021-01-24 00:00:00</td>\n",
       "    </tr>\n",
       "    <tr>\n",
       "      <th>6</th>\n",
       "      <td>mercadona-es</td>\n",
       "      <td>carne_conejo_y_cordero</td>\n",
       "      <td>Chuletas de cordero paletilla</td>\n",
       "      <td>Bandeja</td>\n",
       "      <td>7.02</td>\n",
       "      <td>11.90</td>\n",
       "      <td>kg</td>\n",
       "      <td>2021-01-08 12:00:00</td>\n",
       "    </tr>\n",
       "    <tr>\n",
       "      <th>7</th>\n",
       "      <td>dia-es</td>\n",
       "      <td>perfumeria_e_higiene_higiene_intima_aseo_intimo</td>\n",
       "      <td>PHARMALINE gel de ducha atopic bote 750 ml</td>\n",
       "      <td>NaN</td>\n",
       "      <td>5.25</td>\n",
       "      <td>7.00</td>\n",
       "      <td>€/l.</td>\n",
       "      <td>2021-01-05 00:00:00</td>\n",
       "    </tr>\n",
       "    <tr>\n",
       "      <th>8</th>\n",
       "      <td>mercadona-es</td>\n",
       "      <td>postres_y_yogures_bifidus</td>\n",
       "      <td>Bífidus con frutas Hacendado</td>\n",
       "      <td>Pack-8</td>\n",
       "      <td>1.90</td>\n",
       "      <td>1.90</td>\n",
       "      <td>kg</td>\n",
       "      <td>2020-08-31 04:00:00</td>\n",
       "    </tr>\n",
       "    <tr>\n",
       "      <th>9</th>\n",
       "      <td>dia-es</td>\n",
       "      <td>perfumeria_e_higiene_higiene_bucal_dentifricos</td>\n",
       "      <td>ORAL B pasta dentífrica repair blanqueante tub...</td>\n",
       "      <td>NaN</td>\n",
       "      <td>3.99</td>\n",
       "      <td>53.20</td>\n",
       "      <td>€/l.</td>\n",
       "      <td>2020-12-11 12:00:00</td>\n",
       "    </tr>\n",
       "  </tbody>\n",
       "</table>\n",
       "</div>"
      ],
      "text/plain": [
       "    supermarket                                          category  \\\n",
       "0  mercadona-es                postres_y_yogures_yogures_liquidos   \n",
       "1  mercadona-es                                    bodega_licores   \n",
       "2  mercadona-es       charcuteria_y_quesos_queso_untable_y_fresco   \n",
       "3  carrefour-es  la_despensa_yogures_y_postres_yogures_desnatados   \n",
       "4  carrefour-es                        la_despensa_helados_bombon   \n",
       "5  carrefour-es   limpieza_y_hogar_cuidado_de_la_ropa_detergentes   \n",
       "6  mercadona-es                            carne_conejo_y_cordero   \n",
       "7        dia-es   perfumeria_e_higiene_higiene_intima_aseo_intimo   \n",
       "8  mercadona-es                         postres_y_yogures_bifidus   \n",
       "9        dia-es    perfumeria_e_higiene_higiene_bucal_dentifricos   \n",
       "\n",
       "                                                name    description  price  \\\n",
       "0       Bebida láctea sin lactosa de fresa Hacendado         Pack-4   1.40   \n",
       "1                      Ginebra 15 botanicals Blumara        Botella  10.75   \n",
       "2  Queso fresco batido desnatado Hacendado 0% mat...        Tarrina   1.09   \n",
       "3  Yogur bífidus desnatado con lima y limón Danon...  Pack 4x120 G.   2.08   \n",
       "4       Helado After Dinner Magnum sin gluten 10 ud.         10 Ud.   4.60   \n",
       "5      Detergente líquido Actilift Ariel 50 lavados.            NaN  13.95   \n",
       "6                      Chuletas de cordero paletilla        Bandeja   7.02   \n",
       "7         PHARMALINE gel de ducha atopic bote 750 ml            NaN   5.25   \n",
       "8                       Bífidus con frutas Hacendado         Pack-8   1.90   \n",
       "9  ORAL B pasta dentífrica repair blanqueante tub...            NaN   3.99   \n",
       "\n",
       "   reference_price reference_unit          insert_date  \n",
       "0             2.19             kg  2020-12-23 00:00:00  \n",
       "1            15.36              L  2020-11-06 12:00:00  \n",
       "2             2.18             kg  2020-09-23 16:06:00  \n",
       "3             4.33             kg  2020-10-10 00:00:00  \n",
       "4             0.46             ud  2020-10-15 00:00:00  \n",
       "5             0.28         lavado  2021-01-24 00:00:00  \n",
       "6            11.90             kg  2021-01-08 12:00:00  \n",
       "7             7.00           €/l.  2021-01-05 00:00:00  \n",
       "8             1.90             kg  2020-08-31 04:00:00  \n",
       "9            53.20           €/l.  2020-12-11 12:00:00  "
      ]
     },
     "execution_count": 1,
     "metadata": {},
     "output_type": "execute_result"
    }
   ],
   "source": [
    "import pandas as pd\n",
    "a= pd.read_csv(r'código\\Data\\productos-de-supermercado-sample2.csv')\n",
    "a.head(10)"
   ]
  },
  {
   "cell_type": "code",
   "execution_count": 2,
   "metadata": {},
   "outputs": [
    {
     "data": {
      "text/plain": [
       "0                        postres_y_yogures_yogures_liquidos\n",
       "1                                            bodega_licores\n",
       "2               charcuteria_y_quesos_queso_untable_y_fresco\n",
       "3          la_despensa_yogures_y_postres_yogures_desnatados\n",
       "4                                la_despensa_helados_bombon\n",
       "                                ...                        \n",
       "149995                                       bodega_cerveza\n",
       "149996                                        mascotas_gato\n",
       "149997                     mascotas_gatos_pienso_para_gatos\n",
       "149998                            bebidas_refrescos_naranja\n",
       "149999    congelados_y_helados_helados_galletas_y_cucuru...\n",
       "Name: category, Length: 150000, dtype: object"
      ]
     },
     "execution_count": 2,
     "metadata": {},
     "output_type": "execute_result"
    }
   ],
   "source": [
    "categorias = a.category\n",
    "categorias"
   ]
  },
  {
   "cell_type": "markdown",
   "metadata": {},
   "source": [
    "<h1> Olive oil"
   ]
  },
  {
   "cell_type": "markdown",
   "metadata": {},
   "source": [
    "<h4>First I'm going to take a look at the categories to see what do I have and what products I want to keep for my analysis and how to clean the data."
   ]
  },
  {
   "cell_type": "code",
   "execution_count": 3,
   "metadata": {},
   "outputs": [
    {
     "data": {
      "text/plain": [
       "['aceite_especias_y_salsas_otras_salsas',\n",
       " 'aceite_especias_y_salsas_mayonesa_ketchup_y_mostaza',\n",
       " 'la_despensa_alimentacion_aceites_y_vinagres',\n",
       " 'la_despensa_alimentacion_aceites_y_vinagres',\n",
       " 'la_despensa_alimentacion_aceites_y_vinagres',\n",
       " 'la_despensa_alimentacion_aceites_y_vinagres',\n",
       " 'alimentacion_aceite_aceite_de_girasol',\n",
       " 'la_despensa_alimentacion_aceites_y_vinagres',\n",
       " 'alimentacion_aceite_aceite_de_oliva_suave_05o',\n",
       " 'bebe_perfumeria_e_higiene_aceite_corporal',\n",
       " 'aceite_especias_y_salsas_especias',\n",
       " 'la_despensa_alimentacion_aceites_y_vinagres',\n",
       " 'aceite_especias_y_salsas_aceite_vinagre_y_sal',\n",
       " ...]"
      ]
     },
     "execution_count": 3,
     "metadata": {},
     "output_type": "execute_result"
    }
   ],
   "source": [
    "aceite = []\n",
    "for i in categorias:\n",
    "    if 'aceite' in i:\n",
    "        aceite.append(i)\n",
    "aceite"
   ]
  },
  {
   "cell_type": "markdown",
   "metadata": {},
   "source": [
    "<h1> Meat"
   ]
  },
  {
   "cell_type": "code",
   "execution_count": 4,
   "metadata": {},
   "outputs": [
    {
     "data": {
      "text/plain": [
       "['carne_conejo_y_cordero',\n",
       " 'carne_aves_y_pollo',\n",
       " 'carne_aves_y_pollo',\n",
       " 'carne_empanados_y_elaborados',\n",
       " 'carne_aves_y_pollo',\n",
       " 'carne_arreglos',\n",
       " 'carne_cerdo',\n",
       " 'carne_embutido',\n",
       " 'carne_cerdo',\n",
       " 'carne_cerdo',\n",
       " 'carne_vacuno',\n",
       " 'carne_vacuno',\n",
       " 'carne_aves_y_pollo',\n",
       " 'carne_vacuno',\n",
       " 'carne_arreglos',\n",
       " 'carne_hamburguesas_y_picadas',\n",
       " 'carne_hamburguesas_y_picadas',\n",
       " 'carne_cerdo',\n",
       " 'carne_cerdo',\n",
       " 'carne_empanados_y_elaborados',\n",
       " 'carne_arreglos',\n",
       " 'carne_empanados_y_elaborados',\n",
       " 'carne_embutido',\n",
       " 'carne_arreglos',\n",
       " ...]"
      ]
     },
     "execution_count": 4,
     "metadata": {},
     "output_type": "execute_result"
    }
   ],
   "source": [
    "carne = []\n",
    "for i in categorias:\n",
    "    if i.startswith('carne'):\n",
    "        carne.append(i)\n",
    "carne\n"
   ]
  },
  {
   "cell_type": "markdown",
   "metadata": {},
   "source": [
    "<h1> Fruits and Vegetables"
   ]
  },
  {
   "cell_type": "code",
   "execution_count": 5,
   "metadata": {},
   "outputs": [
    {
     "data": {
      "text/plain": [
       "['fruta_y_verdura_fruta',\n",
       " 'fruta_y_verdura_verdura',\n",
       " 'fruta_y_verdura_lechuga_y_ensalada_preparada',\n",
       " 'fruta_y_verdura_fruta',\n",
       " 'fruta_y_verdura_lechuga_y_ensalada_preparada',\n",
       " 'fruta_y_verdura_fruta',\n",
       " 'fruta_y_verdura_verdura',\n",
       " 'fruta_y_verdura_lechuga_y_ensalada_preparada',\n",
       " 'fruta_y_verdura_fruta',\n",
       " 'fruta_y_verdura_lechuga_y_ensalada_preparada',\n",
       " 'fruta_y_verdura_verdura',\n",
       " 'fruta_y_verdura_lechuga_y_ensalada_preparada',\n",
       " 'fruta_y_verdura_verdura',\n",
       " 'fruta_y_verdura_fruta',\n",
       " 'fruta_y_verdura_verdura']"
      ]
     },
     "execution_count": 5,
     "metadata": {},
     "output_type": "execute_result"
    }
   ],
   "source": [
    "fruta =[]\n",
    "for i in categorias:\n",
    "    if 'fruta_y_verdura' in i:\n",
    "        fruta.append(i)\n",
    "fruta\n"
   ]
  },
  {
   "cell_type": "markdown",
   "metadata": {},
   "source": [
    "<h1> Fish"
   ]
  },
  {
   "cell_type": "code",
   "execution_count": 6,
   "metadata": {},
   "outputs": [
    {
     "data": {
      "text/plain": [
       "['frescos_pescado_y_marisco_pescado_fresco_azul',\n",
       " 'congelados_y_helados_pescado_y_marisco_marisco',\n",
       " 'frescos_pescado_y_marisco_surimi_gulas_y_derivados',\n",
       " 'congelados_y_helados_pescado_y_marisco_pescado',\n",
       " 'frescos_pescado_y_marisco_pescado_al_corte',\n",
       " 'frescos_pescado_y_marisco_especialidades',\n",
       " 'el_mercado_pescaderia_pescado_y_marisco_congelado',\n",
       " 'el_mercado_pescaderia_pescado_y_marisco_congelado',\n",
       " 'el_mercado_pescaderia_pescado_y_marisco_congelado',\n",
       " 'congelados_y_helados_pescado_y_marisco_marisco',\n",
       " 'frescos_pescado_y_marisco_pescado_fresco_blanco',\n",
       " 'frescos_pescado_y_marisco_pescado_fresco_azul',\n",
       " 'frescos_pescado_y_marisco_pescado_fresco_azul',\n",
       " 'el_mercado_pescaderia_pescado_y_marisco_congelado',\n",
       " 'congelados_y_helados_pescado_y_marisco_marisco',\n",
       " 'el_mercado_pescaderia_pescado_y_marisco_congelado',\n",
       " 'frescos_pescado_y_marisco_pescado_fresco_azul',\n",
       " 'congelados_y_helados_pescado_y_marisco_marisco',\n",
       " 'frescos_pescado_y_marisco_pescado_fresco_blanco',\n",
       " 'congelados_y_helados_pescado_y_marisco_marisco',\n",
       " 'congelados_y_helados_pescado_y_marisco_pescado_preparado',\n",
       " 'el_mercado_pescaderia_preparados_y_elaborados_de_pescado_y_marisco',\n",
       " 'frescos_pescado_y_marisco_pescado_fresco_blanco',\n",
       " 'frescos_pescado_y_marisco_pescado_fresco_blanco',\n",
       " 'el_mercado_pescaderia_preparados_y_elaborados_de_pescado_y_marisco',\n",
       " 'frescos_pescado_y_marisco_pescado_fresco_blanco',\n",
       " 'congelados_y_helados_pescado_y_marisco_pescado',\n",
       " 'congelados_y_helados_pescado_y_marisco_calamar_y_otros_cefalopodos',\n",
       " ...]"
      ]
     },
     "execution_count": 6,
     "metadata": {},
     "output_type": "execute_result"
    }
   ],
   "source": [
    "pescado =[]\n",
    "for i in categorias:\n",
    "    if 'conservas' in i:\n",
    "        pass \n",
    "    elif 'pescado_y_marisco' in i:\n",
    "        pescado.append(i)    \n",
    "pescado"
   ]
  },
  {
   "cell_type": "markdown",
   "metadata": {},
   "source": [
    "<h3>I start cleaning the dataset, taking the products that contain the specific word of the category, for example, for the category Olive oils I take all the products contiaining the word 'olive oil'"
   ]
  },
  {
   "cell_type": "markdown",
   "metadata": {},
   "source": [
    "<h3>Olive oil"
   ]
  },
  {
   "cell_type": "code",
   "execution_count": 7,
   "metadata": {},
   "outputs": [
    {
     "data": {
      "text/html": [
       "<div>\n",
       "<style scoped>\n",
       "    .dataframe tbody tr th:only-of-type {\n",
       "        vertical-align: middle;\n",
       "    }\n",
       "\n",
       "    .dataframe tbody tr th {\n",
       "        vertical-align: top;\n",
       "    }\n",
       "\n",
       "    .dataframe thead th {\n",
       "        text-align: right;\n",
       "    }\n",
       "</style>\n",
       "<table border=\"1\" class=\"dataframe\">\n",
       "  <thead>\n",
       "    <tr style=\"text-align: right;\">\n",
       "      <th></th>\n",
       "      <th>supermarket</th>\n",
       "      <th>category</th>\n",
       "      <th>name</th>\n",
       "      <th>description</th>\n",
       "      <th>price</th>\n",
       "      <th>reference_price</th>\n",
       "      <th>reference_unit</th>\n",
       "      <th>insert_date</th>\n",
       "    </tr>\n",
       "  </thead>\n",
       "  <tbody>\n",
       "    <tr>\n",
       "      <th>77</th>\n",
       "      <td>carrefour-es</td>\n",
       "      <td>la_despensa_alimentacion_aceites_y_vinagres</td>\n",
       "      <td>Aceite de oliva virgen extra De Nuestra Tierra...</td>\n",
       "      <td>500 Ml.</td>\n",
       "      <td>4.99</td>\n",
       "      <td>9.98</td>\n",
       "      <td>l</td>\n",
       "      <td>2020-11-04 01:00:00</td>\n",
       "    </tr>\n",
       "    <tr>\n",
       "      <th>288</th>\n",
       "      <td>carrefour-es</td>\n",
       "      <td>la_despensa_alimentacion_aceites_y_vinagres</td>\n",
       "      <td>Aceite de oliva virgen extra Fuenroble 500 ml.</td>\n",
       "      <td>500 Ml.</td>\n",
       "      <td>7.95</td>\n",
       "      <td>15.90</td>\n",
       "      <td>l</td>\n",
       "      <td>2020-11-05 12:00:00</td>\n",
       "    </tr>\n",
       "    <tr>\n",
       "      <th>385</th>\n",
       "      <td>carrefour-es</td>\n",
       "      <td>la_despensa_alimentacion_aceites_y_vinagres</td>\n",
       "      <td>Aceite de oliva virgen extra picual Carbonell ...</td>\n",
       "      <td>NaN</td>\n",
       "      <td>4.99</td>\n",
       "      <td>4.99</td>\n",
       "      <td>l</td>\n",
       "      <td>2021-01-06 12:00:00</td>\n",
       "    </tr>\n",
       "    <tr>\n",
       "      <th>1216</th>\n",
       "      <td>carrefour-es</td>\n",
       "      <td>la_despensa_alimentacion_aceites_y_vinagres</td>\n",
       "      <td>Aceite de oliva virgen extra La Española 750 ml.</td>\n",
       "      <td>750 Ml.</td>\n",
       "      <td>3.99</td>\n",
       "      <td>5.32</td>\n",
       "      <td>l</td>\n",
       "      <td>2020-10-23 12:00:00</td>\n",
       "    </tr>\n",
       "    <tr>\n",
       "      <th>1365</th>\n",
       "      <td>carrefour-es</td>\n",
       "      <td>la_despensa_alimentacion_aceites_y_vinagres</td>\n",
       "      <td>Aceite de oliva virgen extra De Nuestra Tierra...</td>\n",
       "      <td>5 L.</td>\n",
       "      <td>22.99</td>\n",
       "      <td>4.60</td>\n",
       "      <td>l</td>\n",
       "      <td>2020-11-18 12:00:00</td>\n",
       "    </tr>\n",
       "    <tr>\n",
       "      <th>...</th>\n",
       "      <td>...</td>\n",
       "      <td>...</td>\n",
       "      <td>...</td>\n",
       "      <td>...</td>\n",
       "      <td>...</td>\n",
       "      <td>...</td>\n",
       "      <td>...</td>\n",
       "      <td>...</td>\n",
       "    </tr>\n",
       "    <tr>\n",
       "      <th>149234</th>\n",
       "      <td>carrefour-es</td>\n",
       "      <td>la_despensa_alimentacion_aceites_y_vinagres</td>\n",
       "      <td>Aceite de oliva intenso 1º La Masía garrafa 3 l.</td>\n",
       "      <td>3 L.</td>\n",
       "      <td>8.35</td>\n",
       "      <td>2.78</td>\n",
       "      <td>l</td>\n",
       "      <td>2020-10-29 15:00:00</td>\n",
       "    </tr>\n",
       "    <tr>\n",
       "      <th>149471</th>\n",
       "      <td>carrefour-es</td>\n",
       "      <td>la_despensa_alimentacion_aceites_y_vinagres</td>\n",
       "      <td>Aceite de oliva virgen extra Carbonell spray 2...</td>\n",
       "      <td>200 Ml.</td>\n",
       "      <td>2.49</td>\n",
       "      <td>12.45</td>\n",
       "      <td>l</td>\n",
       "      <td>2020-11-08 12:00:00</td>\n",
       "    </tr>\n",
       "    <tr>\n",
       "      <th>149654</th>\n",
       "      <td>carrefour-es</td>\n",
       "      <td>la_despensa_alimentacion_aceites_y_vinagres</td>\n",
       "      <td>Aceite de oliva 0,4º La Masía 1 l.</td>\n",
       "      <td>NaN</td>\n",
       "      <td>2.99</td>\n",
       "      <td>2.99</td>\n",
       "      <td>l</td>\n",
       "      <td>2021-01-30 12:00:00</td>\n",
       "    </tr>\n",
       "    <tr>\n",
       "      <th>149692</th>\n",
       "      <td>carrefour-es</td>\n",
       "      <td>la_despensa_alimentacion_aceites_y_vinagres</td>\n",
       "      <td>Aceite de oliva virgen extra hojiblanca Carbon...</td>\n",
       "      <td>NaN</td>\n",
       "      <td>4.99</td>\n",
       "      <td>4.99</td>\n",
       "      <td>l</td>\n",
       "      <td>2020-12-30 12:00:00</td>\n",
       "    </tr>\n",
       "    <tr>\n",
       "      <th>149973</th>\n",
       "      <td>carrefour-es</td>\n",
       "      <td>la_despensa_alimentacion_aceites_y_vinagres</td>\n",
       "      <td>Aceite de oliva virgen extra arbequina Coosur ...</td>\n",
       "      <td>1 L.</td>\n",
       "      <td>4.86</td>\n",
       "      <td>4.86</td>\n",
       "      <td>l</td>\n",
       "      <td>2020-11-03 00:00:00</td>\n",
       "    </tr>\n",
       "  </tbody>\n",
       "</table>\n",
       "<p>589 rows × 8 columns</p>\n",
       "</div>"
      ],
      "text/plain": [
       "         supermarket                                     category  \\\n",
       "77      carrefour-es  la_despensa_alimentacion_aceites_y_vinagres   \n",
       "288     carrefour-es  la_despensa_alimentacion_aceites_y_vinagres   \n",
       "385     carrefour-es  la_despensa_alimentacion_aceites_y_vinagres   \n",
       "1216    carrefour-es  la_despensa_alimentacion_aceites_y_vinagres   \n",
       "1365    carrefour-es  la_despensa_alimentacion_aceites_y_vinagres   \n",
       "...              ...                                          ...   \n",
       "149234  carrefour-es  la_despensa_alimentacion_aceites_y_vinagres   \n",
       "149471  carrefour-es  la_despensa_alimentacion_aceites_y_vinagres   \n",
       "149654  carrefour-es  la_despensa_alimentacion_aceites_y_vinagres   \n",
       "149692  carrefour-es  la_despensa_alimentacion_aceites_y_vinagres   \n",
       "149973  carrefour-es  la_despensa_alimentacion_aceites_y_vinagres   \n",
       "\n",
       "                                                     name description  price  \\\n",
       "77      Aceite de oliva virgen extra De Nuestra Tierra...     500 Ml.   4.99   \n",
       "288        Aceite de oliva virgen extra Fuenroble 500 ml.     500 Ml.   7.95   \n",
       "385     Aceite de oliva virgen extra picual Carbonell ...         NaN   4.99   \n",
       "1216     Aceite de oliva virgen extra La Española 750 ml.     750 Ml.   3.99   \n",
       "1365    Aceite de oliva virgen extra De Nuestra Tierra...        5 L.  22.99   \n",
       "...                                                   ...         ...    ...   \n",
       "149234   Aceite de oliva intenso 1º La Masía garrafa 3 l.        3 L.   8.35   \n",
       "149471  Aceite de oliva virgen extra Carbonell spray 2...     200 Ml.   2.49   \n",
       "149654                 Aceite de oliva 0,4º La Masía 1 l.         NaN   2.99   \n",
       "149692  Aceite de oliva virgen extra hojiblanca Carbon...         NaN   4.99   \n",
       "149973  Aceite de oliva virgen extra arbequina Coosur ...        1 L.   4.86   \n",
       "\n",
       "        reference_price reference_unit          insert_date  \n",
       "77                 9.98              l  2020-11-04 01:00:00  \n",
       "288               15.90              l  2020-11-05 12:00:00  \n",
       "385                4.99              l  2021-01-06 12:00:00  \n",
       "1216               5.32              l  2020-10-23 12:00:00  \n",
       "1365               4.60              l  2020-11-18 12:00:00  \n",
       "...                 ...            ...                  ...  \n",
       "149234             2.78              l  2020-10-29 15:00:00  \n",
       "149471            12.45              l  2020-11-08 12:00:00  \n",
       "149654             2.99              l  2021-01-30 12:00:00  \n",
       "149692             4.99              l  2020-12-30 12:00:00  \n",
       "149973             4.86              l  2020-11-03 00:00:00  \n",
       "\n",
       "[589 rows x 8 columns]"
      ]
     },
     "execution_count": 7,
     "metadata": {},
     "output_type": "execute_result"
    }
   ],
   "source": [
    "aceites_df = a[a['name'].str.startswith('Aceite de oliva')]\n",
    "#aceites_df = aceites_df[aceites_df['category'].str.contains('aceite_cor')]\n",
    "aceites_df"
   ]
  },
  {
   "cell_type": "code",
   "execution_count": 8,
   "metadata": {},
   "outputs": [
    {
     "data": {
      "text/plain": [
       "array(['carrefour-es', 'mercadona-es'], dtype=object)"
      ]
     },
     "execution_count": 8,
     "metadata": {},
     "output_type": "execute_result"
    }
   ],
   "source": [
    "aceites_df2 = aceites_df[aceites_df['name'].str.contains('Aceite de oliva')]\n",
    "aceites_df2.supermarket.unique()"
   ]
  },
  {
   "cell_type": "code",
   "execution_count": 9,
   "metadata": {},
   "outputs": [
    {
     "data": {
      "text/plain": [
       "array(['carrefour-es', 'mercadona-es'], dtype=object)"
      ]
     },
     "execution_count": 9,
     "metadata": {},
     "output_type": "execute_result"
    }
   ],
   "source": [
    "aceites_df.supermarket.unique()"
   ]
  },
  {
   "cell_type": "markdown",
   "metadata": {},
   "source": [
    "<h3> Meat\n",
    "<h4> I filter the dataframe for meats, taking those rows where the category contains 'meat' and then I remove the sauces, prepared dishes and baby food"
   ]
  },
  {
   "cell_type": "code",
   "execution_count": 10,
   "metadata": {},
   "outputs": [],
   "source": [
    "carnes_df = a[a['category'].str.contains('carne')]\n",
    "carnes_df_filtro1 = carnes_df[carnes_df['category'].str.contains('salsas')]\n",
    "filas_fuera = carnes_df_filtro1.index\n",
    "filas_fuera\n",
    "carnes_df_1 = carnes_df.drop(filas_fuera, axis= 0)\n"
   ]
  },
  {
   "cell_type": "code",
   "execution_count": 11,
   "metadata": {},
   "outputs": [],
   "source": [
    "string_buscar = ['platos', 'potitos','precocinados']\n",
    "carnes_df_1_filtro2 = carnes_df_1[carnes_df_1['category'].str.contains('|'.join(string_buscar))]\n",
    "filas_fuera2 = carnes_df_1_filtro2.index\n",
    "carnes_df_2 = carnes_df_1.drop(filas_fuera2, axis= 0)\n",
    "ac=carnes_df_2[carnes_df_2['price']==74.97]\n",
    "#me retiro el capón porque es muy caro y me desajusta la media\n",
    "carnes_df_2 = carnes_df_2.drop([47638,82878,96843])\n"
   ]
  },
  {
   "cell_type": "markdown",
   "metadata": {},
   "source": [
    "<h3> Fruits and vegetables"
   ]
  },
  {
   "cell_type": "code",
   "execution_count": 12,
   "metadata": {},
   "outputs": [],
   "source": [
    "frutas_df = a[a['category'].str.contains('fruta')]"
   ]
  },
  {
   "cell_type": "code",
   "execution_count": 13,
   "metadata": {},
   "outputs": [
    {
     "data": {
      "text/plain": [
       "array(['fruta_y_verdura_fruta',\n",
       "       'conservas_caldos_y_cremas_conservas_de_verdura_y_frutas',\n",
       "       'frescos_fruta_manzana_y_pera',\n",
       "       'congelados_y_helados_verdura_y_fruta_otros_vegetales_simples',\n",
       "       'zumos_fruta_variada', 'fruta_y_verdura_verdura',\n",
       "       'la_despensa_aperitivos_frutas_desecadas',\n",
       "       'fruta_y_verdura_lechuga_y_ensalada_preparada',\n",
       "       'bebe_alimentacion_infantil_potitos_de_fruta_y_postre',\n",
       "       'aperitivos_frutos_secos_y_fruta_desecada',\n",
       "       'bebidas_refrescos_bebidas_de_frutas',\n",
       "       'el_mercado_frutas_fruta_de_temporada',\n",
       "       'congelados_y_helados_verdura_y_fruta_patatas',\n",
       "       'el_mercado_frutas_manzanas_y_peras',\n",
       "       'el_mercado_frutas_naranjas_y_otros_citricos',\n",
       "       'el_mercado_frutas_frutos_del_bosque',\n",
       "       'el_mercado_frutas_pinas_kiwis_aguacates_y_tropicales',\n",
       "       'el_mercado_frutas_platanos_y_bananas',\n",
       "       'la_despensa_conservas_sopas_y_precocinados_conservas_de_frutas',\n",
       "       'el_mercado_frutas_uvas',\n",
       "       'congelados_y_helados_verdura_y_fruta_menestras_y_ensaladillas',\n",
       "       'congelados_y_helados_verdura_y_fruta_judias_verdes_habas_y_guisantes',\n",
       "       'frescos_fruta_platano_y_banana',\n",
       "       'lacteos_y_huevos_yogures_yogur_con_frutas_desnatado',\n",
       "       'frescos_fruta_kiwi_pina_y_fruta_tropical',\n",
       "       'frescos_fruta_citricos',\n",
       "       'alimentacion_conservas_dulces_y_mermeladas_frutas_en_almibar_y_en_su_jugo',\n",
       "       'el_mercado_frutas_bio_en_frutas',\n",
       "       'lacteos_y_huevos_yogures_yogur_con_frutas',\n",
       "       'la_despensa_helados_frutas_heladas', 'frescos_fruta_uva',\n",
       "       'frescos_fruta_otras_frutas',\n",
       "       'congelados_y_helados_verdura_y_fruta_espinacas_y_acelgas',\n",
       "       'frescos_fruta_fruta_de_temporada',\n",
       "       'el_mercado_frutas_sandias_y_melones',\n",
       "       'congelados_y_helados_verdura_y_fruta_condimentos'], dtype=object)"
      ]
     },
     "execution_count": 13,
     "metadata": {},
     "output_type": "execute_result"
    }
   ],
   "source": [
    "frutas_df.category.unique()"
   ]
  },
  {
   "cell_type": "code",
   "execution_count": 14,
   "metadata": {},
   "outputs": [],
   "source": [
    "pd.options.display.max_rows = 100"
   ]
  },
  {
   "cell_type": "code",
   "execution_count": 15,
   "metadata": {},
   "outputs": [
    {
     "data": {
      "text/html": [
       "<div>\n",
       "<style scoped>\n",
       "    .dataframe tbody tr th:only-of-type {\n",
       "        vertical-align: middle;\n",
       "    }\n",
       "\n",
       "    .dataframe tbody tr th {\n",
       "        vertical-align: top;\n",
       "    }\n",
       "\n",
       "    .dataframe thead th {\n",
       "        text-align: right;\n",
       "    }\n",
       "</style>\n",
       "<table border=\"1\" class=\"dataframe\">\n",
       "  <thead>\n",
       "    <tr style=\"text-align: right;\">\n",
       "      <th></th>\n",
       "      <th>supermarket</th>\n",
       "      <th>category</th>\n",
       "      <th>name</th>\n",
       "      <th>description</th>\n",
       "      <th>price</th>\n",
       "      <th>reference_price</th>\n",
       "      <th>reference_unit</th>\n",
       "      <th>insert_date</th>\n",
       "    </tr>\n",
       "  </thead>\n",
       "  <tbody>\n",
       "    <tr>\n",
       "      <th>105</th>\n",
       "      <td>mercadona-es</td>\n",
       "      <td>fruta_y_verdura_fruta</td>\n",
       "      <td>Manzana reineta</td>\n",
       "      <td>Pieza</td>\n",
       "      <td>0.46</td>\n",
       "      <td>2.19</td>\n",
       "      <td>kg</td>\n",
       "      <td>2020-11-04 00:00:00</td>\n",
       "    </tr>\n",
       "    <tr>\n",
       "      <th>231</th>\n",
       "      <td>dia-es</td>\n",
       "      <td>frescos_fruta_manzana_y_pera</td>\n",
       "      <td>Pera limonera unidad (320 gr aprox.)</td>\n",
       "      <td>NaN</td>\n",
       "      <td>0.64</td>\n",
       "      <td>1.99</td>\n",
       "      <td>€/Kg.</td>\n",
       "      <td>2020-08-27 16:00:00</td>\n",
       "    </tr>\n",
       "    <tr>\n",
       "      <th>387</th>\n",
       "      <td>mercadona-es</td>\n",
       "      <td>fruta_y_verdura_verdura</td>\n",
       "      <td>Hierbabuena</td>\n",
       "      <td>Paquete</td>\n",
       "      <td>1.15</td>\n",
       "      <td>16.43</td>\n",
       "      <td>kg</td>\n",
       "      <td>2020-12-01 00:00:00</td>\n",
       "    </tr>\n",
       "    <tr>\n",
       "      <th>725</th>\n",
       "      <td>carrefour-es</td>\n",
       "      <td>el_mercado_frutas_fruta_de_temporada</td>\n",
       "      <td>Granada Carrefour a granel 500 g aprox</td>\n",
       "      <td>NaN</td>\n",
       "      <td>0.87</td>\n",
       "      <td>1.75</td>\n",
       "      <td>kg</td>\n",
       "      <td>2021-01-25 00:00:00</td>\n",
       "    </tr>\n",
       "    <tr>\n",
       "      <th>837</th>\n",
       "      <td>mercadona-es</td>\n",
       "      <td>fruta_y_verdura_fruta</td>\n",
       "      <td>Peras conferencia</td>\n",
       "      <td>Bandeja</td>\n",
       "      <td>2.39</td>\n",
       "      <td>1.59</td>\n",
       "      <td>kg</td>\n",
       "      <td>2020-12-05 00:00:00</td>\n",
       "    </tr>\n",
       "    <tr>\n",
       "      <th>...</th>\n",
       "      <td>...</td>\n",
       "      <td>...</td>\n",
       "      <td>...</td>\n",
       "      <td>...</td>\n",
       "      <td>...</td>\n",
       "      <td>...</td>\n",
       "      <td>...</td>\n",
       "      <td>...</td>\n",
       "    </tr>\n",
       "    <tr>\n",
       "      <th>149702</th>\n",
       "      <td>carrefour-es</td>\n",
       "      <td>el_mercado_frutas_pinas_kiwis_aguacates_y_trop...</td>\n",
       "      <td>Coco de agua premium 1 Kg</td>\n",
       "      <td>1 Kg.</td>\n",
       "      <td>2.49</td>\n",
       "      <td>2.49</td>\n",
       "      <td>ud</td>\n",
       "      <td>2020-10-22 15:00:00</td>\n",
       "    </tr>\n",
       "    <tr>\n",
       "      <th>149740</th>\n",
       "      <td>carrefour-es</td>\n",
       "      <td>el_mercado_frutas_uvas</td>\n",
       "      <td>Uva rosada sin pepitas de Brasil Carrefour 500 g</td>\n",
       "      <td>NaN</td>\n",
       "      <td>2.49</td>\n",
       "      <td>4.98</td>\n",
       "      <td>kg</td>\n",
       "      <td>2020-07-23 04:00:00</td>\n",
       "    </tr>\n",
       "    <tr>\n",
       "      <th>149786</th>\n",
       "      <td>mercadona-es</td>\n",
       "      <td>fruta_y_verdura_verdura</td>\n",
       "      <td>Tomates</td>\n",
       "      <td>Malla</td>\n",
       "      <td>2.60</td>\n",
       "      <td>1.30</td>\n",
       "      <td>kg</td>\n",
       "      <td>2020-12-11 12:00:00</td>\n",
       "    </tr>\n",
       "    <tr>\n",
       "      <th>149889</th>\n",
       "      <td>dia-es</td>\n",
       "      <td>frescos_fruta_manzana_y_pera</td>\n",
       "      <td>Pera ercolini unidad (180 gr aprox.)</td>\n",
       "      <td>NaN</td>\n",
       "      <td>0.54</td>\n",
       "      <td>2.99</td>\n",
       "      <td>€/Kg.</td>\n",
       "      <td>2020-07-28 16:00:00</td>\n",
       "    </tr>\n",
       "    <tr>\n",
       "      <th>149941</th>\n",
       "      <td>carrefour-es</td>\n",
       "      <td>el_mercado_frutas_manzanas_y_peras</td>\n",
       "      <td>Pera blanquilla premium 4 uds 500 g aprox</td>\n",
       "      <td>NaN</td>\n",
       "      <td>1.75</td>\n",
       "      <td>3.50</td>\n",
       "      <td>kg</td>\n",
       "      <td>2021-01-04 12:00:00</td>\n",
       "    </tr>\n",
       "  </tbody>\n",
       "</table>\n",
       "<p>1333 rows × 8 columns</p>\n",
       "</div>"
      ],
      "text/plain": [
       "         supermarket                                           category  \\\n",
       "105     mercadona-es                              fruta_y_verdura_fruta   \n",
       "231           dia-es                       frescos_fruta_manzana_y_pera   \n",
       "387     mercadona-es                            fruta_y_verdura_verdura   \n",
       "725     carrefour-es               el_mercado_frutas_fruta_de_temporada   \n",
       "837     mercadona-es                              fruta_y_verdura_fruta   \n",
       "...              ...                                                ...   \n",
       "149702  carrefour-es  el_mercado_frutas_pinas_kiwis_aguacates_y_trop...   \n",
       "149740  carrefour-es                             el_mercado_frutas_uvas   \n",
       "149786  mercadona-es                            fruta_y_verdura_verdura   \n",
       "149889        dia-es                       frescos_fruta_manzana_y_pera   \n",
       "149941  carrefour-es                 el_mercado_frutas_manzanas_y_peras   \n",
       "\n",
       "                                                    name description  price  \\\n",
       "105                                      Manzana reineta       Pieza   0.46   \n",
       "231                 Pera limonera unidad (320 gr aprox.)         NaN   0.64   \n",
       "387                                          Hierbabuena     Paquete   1.15   \n",
       "725               Granada Carrefour a granel 500 g aprox         NaN   0.87   \n",
       "837                                    Peras conferencia     Bandeja   2.39   \n",
       "...                                                  ...         ...    ...   \n",
       "149702                         Coco de agua premium 1 Kg       1 Kg.   2.49   \n",
       "149740  Uva rosada sin pepitas de Brasil Carrefour 500 g         NaN   2.49   \n",
       "149786                                           Tomates       Malla   2.60   \n",
       "149889              Pera ercolini unidad (180 gr aprox.)         NaN   0.54   \n",
       "149941         Pera blanquilla premium 4 uds 500 g aprox         NaN   1.75   \n",
       "\n",
       "        reference_price reference_unit          insert_date  \n",
       "105                2.19             kg  2020-11-04 00:00:00  \n",
       "231                1.99          €/Kg.  2020-08-27 16:00:00  \n",
       "387               16.43             kg  2020-12-01 00:00:00  \n",
       "725                1.75             kg  2021-01-25 00:00:00  \n",
       "837                1.59             kg  2020-12-05 00:00:00  \n",
       "...                 ...            ...                  ...  \n",
       "149702             2.49             ud  2020-10-22 15:00:00  \n",
       "149740             4.98             kg  2020-07-23 04:00:00  \n",
       "149786             1.30             kg  2020-12-11 12:00:00  \n",
       "149889             2.99          €/Kg.  2020-07-28 16:00:00  \n",
       "149941             3.50             kg  2021-01-04 12:00:00  \n",
       "\n",
       "[1333 rows x 8 columns]"
      ]
     },
     "execution_count": 15,
     "metadata": {},
     "output_type": "execute_result"
    }
   ],
   "source": [
    "string_buscar_f = ['conservas', 'zumos', 'bebe','la_despensa','congelados', 'lacteos', 'aperitivos','bebidas','otras','preparada']\n",
    "frutas_df_filtro1 = frutas_df[frutas_df['category'].str.contains('|'.join(string_buscar_f))]\n",
    "filas_fuera_f = frutas_df_filtro1.index\n",
    "frutas_df = frutas_df.drop(filas_fuera_f, axis= 0)\n",
    "#frutas_df = frutas_df.drop([387], axis= 0)\n",
    "frutas_df\n"
   ]
  },
  {
   "cell_type": "markdown",
   "metadata": {},
   "source": [
    "<h3> Deleting what is not considered fresh fruits and vegetables"
   ]
  },
  {
   "cell_type": "code",
   "execution_count": 16,
   "metadata": {},
   "outputs": [],
   "source": [
    "frutas_df_filtro2 = frutas_df[frutas_df['name'].str.contains('|'.join(['setas','picada','Frambuesas','negro','seco','moras','Hierbabuena','Coco']))]\n",
    "frutas_df = frutas_df.drop(frutas_df_filtro2.index, axis=0)\n",
    "frutas_df = frutas_df[frutas_df['reference_price'] <= 5]"
   ]
  },
  {
   "cell_type": "code",
   "execution_count": 17,
   "metadata": {},
   "outputs": [
    {
     "data": {
      "text/plain": [
       "array([2.19, 1.99, 1.75, 1.59, 0.42, 1.3 , 1.65, 1.79, 0.41, 1.29, 3.89,\n",
       "       2.25, 1.09, 4.49, 1.69, 1.  , 1.55, 1.49, 1.95, 1.89, 5.  , 1.39,\n",
       "       3.78, 1.25, 4.29, 1.85, 3.98, 2.89, 3.25, 4.38, 1.19, 3.4 , 3.33,\n",
       "       4.  , 4.6 , 2.29, 1.35, 4.5 , 3.1 , 2.1 , 0.81, 2.69, 3.99, 3.29,\n",
       "       4.3 , 1.45, 2.95, 4.15, 3.19, 4.32, 2.39, 3.5 , 0.85, 1.8 , 0.9 ,\n",
       "       1.26, 3.17, 2.15, 4.4 , 1.4 , 0.95, 3.58, 2.99, 0.62, 4.8 , 3.79,\n",
       "       2.65, 1.72, 0.4 , 2.98, 2.09, 4.69, 4.98, 1.67, 3.59, 3.63, 3.56,\n",
       "       2.58, 0.99, 1.18, 0.79, 1.2 , 3.69, 4.33, 2.79, 2.3 , 4.88, 0.73,\n",
       "       0.74, 0.69, 3.49, 1.9 , 4.9 , 3.8 , 4.75, 0.75, 1.27, 4.59, 2.49,\n",
       "       3.35, 3.7 , 2.88, 1.77, 2.86, 4.48, 1.1 , 3.83, 2.6 , 2.4 , 1.98,\n",
       "       3.6 , 1.46, 0.38, 1.66, 4.99, 3.9 , 1.15, 4.95, 0.89, 4.63, 2.75,\n",
       "       2.35, 1.88, 3.85, 3.61, 0.96, 1.28, 2.16, 3.  , 3.18, 2.5 , 2.59,\n",
       "       2.87, 2.85, 1.01, 4.45, 0.6 , 1.06, 2.11, 3.32, 1.7 , 3.55, 1.04,\n",
       "       4.78, 0.59, 1.03, 3.06, 0.49])"
      ]
     },
     "execution_count": 17,
     "metadata": {},
     "output_type": "execute_result"
    }
   ],
   "source": [
    "frutas_df.reference_price.unique()"
   ]
  },
  {
   "cell_type": "markdown",
   "metadata": {},
   "source": [
    "<h3> Fish"
   ]
  },
  {
   "cell_type": "code",
   "execution_count": 18,
   "metadata": {},
   "outputs": [],
   "source": [
    "pescados_df = a[a['category'].str.contains('pescado')]"
   ]
  },
  {
   "cell_type": "markdown",
   "metadata": {},
   "source": [
    "<h4> I filter the fish, removing products such as preserves, prepared dishes... etc."
   ]
  },
  {
   "cell_type": "code",
   "execution_count": 19,
   "metadata": {},
   "outputs": [
    {
     "name": "stderr",
     "output_type": "stream",
     "text": [
      "C:\\Users\\lour2\\AppData\\Local\\Temp\\ipykernel_12276\\4149352249.py:6: UserWarning: Boolean Series key will be reindexed to match DataFrame index.\n",
      "  pescados_df_filtro2 = pescados_df_1[pescados_df['name'].str.contains('|'.join(['ahumado','bandeja','envase','bolsa','paquete','sushi','ecológico']))]\n"
     ]
    },
    {
     "data": {
      "text/html": [
       "<div>\n",
       "<style scoped>\n",
       "    .dataframe tbody tr th:only-of-type {\n",
       "        vertical-align: middle;\n",
       "    }\n",
       "\n",
       "    .dataframe tbody tr th {\n",
       "        vertical-align: top;\n",
       "    }\n",
       "\n",
       "    .dataframe thead th {\n",
       "        text-align: right;\n",
       "    }\n",
       "</style>\n",
       "<table border=\"1\" class=\"dataframe\">\n",
       "  <thead>\n",
       "    <tr style=\"text-align: right;\">\n",
       "      <th></th>\n",
       "      <th>supermarket</th>\n",
       "      <th>category</th>\n",
       "      <th>name</th>\n",
       "      <th>description</th>\n",
       "      <th>price</th>\n",
       "      <th>reference_price</th>\n",
       "      <th>reference_unit</th>\n",
       "      <th>insert_date</th>\n",
       "    </tr>\n",
       "  </thead>\n",
       "  <tbody>\n",
       "    <tr>\n",
       "      <th>171</th>\n",
       "      <td>mercadona-es</td>\n",
       "      <td>marisco_y_pescado_pescado_fresco</td>\n",
       "      <td>Calamar pequeño limpio descongelado sin barqui...</td>\n",
       "      <td>Pieza</td>\n",
       "      <td>0.18</td>\n",
       "      <td>5.95</td>\n",
       "      <td>kg</td>\n",
       "      <td>2020-12-19 12:00:00</td>\n",
       "    </tr>\n",
       "    <tr>\n",
       "      <th>276</th>\n",
       "      <td>carrefour-es</td>\n",
       "      <td>el_mercado_pescaderia_pescado_fresco</td>\n",
       "      <td>Mendo 500 g aprox</td>\n",
       "      <td>100-125 Gr./ud. Bandeja De  500.0 G. Aprox</td>\n",
       "      <td>2.95</td>\n",
       "      <td>5.90</td>\n",
       "      <td>kg</td>\n",
       "      <td>2020-12-03 00:00:00</td>\n",
       "    </tr>\n",
       "    <tr>\n",
       "      <th>622</th>\n",
       "      <td>mercadona-es</td>\n",
       "      <td>marisco_y_pescado_pescado_fresco</td>\n",
       "      <td>Morralla</td>\n",
       "      <td>Granel</td>\n",
       "      <td>688.05</td>\n",
       "      <td>6.95</td>\n",
       "      <td>kg</td>\n",
       "      <td>2020-08-15 16:00:00</td>\n",
       "    </tr>\n",
       "    <tr>\n",
       "      <th>1421</th>\n",
       "      <td>mercadona-es</td>\n",
       "      <td>marisco_y_pescado_pescado_fresco</td>\n",
       "      <td>Dorada abierta a la espalda con espinas y con ...</td>\n",
       "      <td>Pieza</td>\n",
       "      <td>3.96</td>\n",
       "      <td>6.95</td>\n",
       "      <td>kg</td>\n",
       "      <td>2021-02-05 12:00:00</td>\n",
       "    </tr>\n",
       "    <tr>\n",
       "      <th>1744</th>\n",
       "      <td>mercadona-es</td>\n",
       "      <td>marisco_y_pescado_marisco</td>\n",
       "      <td>Tallarimis Pescanova</td>\n",
       "      <td>Bandeja</td>\n",
       "      <td>1.95</td>\n",
       "      <td>7.80</td>\n",
       "      <td>kg</td>\n",
       "      <td>2020-08-23 16:00:00</td>\n",
       "    </tr>\n",
       "    <tr>\n",
       "      <th>...</th>\n",
       "      <td>...</td>\n",
       "      <td>...</td>\n",
       "      <td>...</td>\n",
       "      <td>...</td>\n",
       "      <td>...</td>\n",
       "      <td>...</td>\n",
       "      <td>...</td>\n",
       "      <td>...</td>\n",
       "    </tr>\n",
       "    <tr>\n",
       "      <th>149585</th>\n",
       "      <td>dia-es</td>\n",
       "      <td>frescos_pescado_y_marisco_pescado_al_corte</td>\n",
       "      <td>Sepia mediana limpia y entera unidad (peso apr...</td>\n",
       "      <td>NaN</td>\n",
       "      <td>4.00</td>\n",
       "      <td>7.99</td>\n",
       "      <td>€/Kg.</td>\n",
       "      <td>2020-10-12 00:00:00</td>\n",
       "    </tr>\n",
       "    <tr>\n",
       "      <th>149697</th>\n",
       "      <td>dia-es</td>\n",
       "      <td>frescos_pescado_y_marisco_marisco_fresco</td>\n",
       "      <td>Anillas de potón (peso aprox. 250 gr)</td>\n",
       "      <td>NaN</td>\n",
       "      <td>1.50</td>\n",
       "      <td>5.99</td>\n",
       "      <td>€/Kg.</td>\n",
       "      <td>2020-10-29 12:00:00</td>\n",
       "    </tr>\n",
       "    <tr>\n",
       "      <th>149714</th>\n",
       "      <td>dia-es</td>\n",
       "      <td>frescos_pescado_y_marisco_pescado_al_corte</td>\n",
       "      <td>Lubina de cultivo limpia y entera unidad (peso...</td>\n",
       "      <td>NaN</td>\n",
       "      <td>4.49</td>\n",
       "      <td>5.99</td>\n",
       "      <td>€/Kg.</td>\n",
       "      <td>2020-11-13 12:00:00</td>\n",
       "    </tr>\n",
       "    <tr>\n",
       "      <th>149891</th>\n",
       "      <td>mercadona-es</td>\n",
       "      <td>marisco_y_pescado_marisco</td>\n",
       "      <td>Gamba pelada cruda tamaño grande Hacendado ult...</td>\n",
       "      <td>Paquete</td>\n",
       "      <td>5.65</td>\n",
       "      <td>15.69</td>\n",
       "      <td>kg</td>\n",
       "      <td>2020-11-26 12:00:00</td>\n",
       "    </tr>\n",
       "    <tr>\n",
       "      <th>149977</th>\n",
       "      <td>dia-es</td>\n",
       "      <td>frescos_pescado_y_marisco_pescado_al_corte</td>\n",
       "      <td>Almeja de cultivo (peso aprox. 250 gr)</td>\n",
       "      <td>NaN</td>\n",
       "      <td>3.00</td>\n",
       "      <td>11.99</td>\n",
       "      <td>€/Kg.</td>\n",
       "      <td>2020-12-30 12:00:00</td>\n",
       "    </tr>\n",
       "  </tbody>\n",
       "</table>\n",
       "<p>706 rows × 8 columns</p>\n",
       "</div>"
      ],
      "text/plain": [
       "         supermarket                                    category  \\\n",
       "171     mercadona-es            marisco_y_pescado_pescado_fresco   \n",
       "276     carrefour-es        el_mercado_pescaderia_pescado_fresco   \n",
       "622     mercadona-es            marisco_y_pescado_pescado_fresco   \n",
       "1421    mercadona-es            marisco_y_pescado_pescado_fresco   \n",
       "1744    mercadona-es                   marisco_y_pescado_marisco   \n",
       "...              ...                                         ...   \n",
       "149585        dia-es  frescos_pescado_y_marisco_pescado_al_corte   \n",
       "149697        dia-es    frescos_pescado_y_marisco_marisco_fresco   \n",
       "149714        dia-es  frescos_pescado_y_marisco_pescado_al_corte   \n",
       "149891  mercadona-es                   marisco_y_pescado_marisco   \n",
       "149977        dia-es  frescos_pescado_y_marisco_pescado_al_corte   \n",
       "\n",
       "                                                     name  \\\n",
       "171     Calamar pequeño limpio descongelado sin barqui...   \n",
       "276                                     Mendo 500 g aprox   \n",
       "622                                              Morralla   \n",
       "1421    Dorada abierta a la espalda con espinas y con ...   \n",
       "1744                                 Tallarimis Pescanova   \n",
       "...                                                   ...   \n",
       "149585  Sepia mediana limpia y entera unidad (peso apr...   \n",
       "149697              Anillas de potón (peso aprox. 250 gr)   \n",
       "149714  Lubina de cultivo limpia y entera unidad (peso...   \n",
       "149891  Gamba pelada cruda tamaño grande Hacendado ult...   \n",
       "149977             Almeja de cultivo (peso aprox. 250 gr)   \n",
       "\n",
       "                                       description   price  reference_price  \\\n",
       "171                                          Pieza    0.18             5.95   \n",
       "276     100-125 Gr./ud. Bandeja De  500.0 G. Aprox    2.95             5.90   \n",
       "622                                         Granel  688.05             6.95   \n",
       "1421                                         Pieza    3.96             6.95   \n",
       "1744                                       Bandeja    1.95             7.80   \n",
       "...                                            ...     ...              ...   \n",
       "149585                                         NaN    4.00             7.99   \n",
       "149697                                         NaN    1.50             5.99   \n",
       "149714                                         NaN    4.49             5.99   \n",
       "149891                                     Paquete    5.65            15.69   \n",
       "149977                                         NaN    3.00            11.99   \n",
       "\n",
       "       reference_unit          insert_date  \n",
       "171                kg  2020-12-19 12:00:00  \n",
       "276                kg  2020-12-03 00:00:00  \n",
       "622                kg  2020-08-15 16:00:00  \n",
       "1421               kg  2021-02-05 12:00:00  \n",
       "1744               kg  2020-08-23 16:00:00  \n",
       "...               ...                  ...  \n",
       "149585          €/Kg.  2020-10-12 00:00:00  \n",
       "149697          €/Kg.  2020-10-29 12:00:00  \n",
       "149714          €/Kg.  2020-11-13 12:00:00  \n",
       "149891             kg  2020-11-26 12:00:00  \n",
       "149977          €/Kg.  2020-12-30 12:00:00  \n",
       "\n",
       "[706 rows x 8 columns]"
      ]
     },
     "execution_count": 19,
     "metadata": {},
     "output_type": "execute_result"
    }
   ],
   "source": [
    "string_quitar = ['conservas','bebe','platos','preparados','palitos','surimi','sushi','salazones','preparado','especialidades','congelado','bandeja']\n",
    "pescados_df_filtro1 = pescados_df[pescados_df['category'].str.contains('|'.join(string_quitar))]\n",
    "#me quito valores que dispersan la media...\n",
    "\n",
    "pescados_df_1 = pescados_df.drop(pescados_df_filtro1.index, axis=0)\n",
    "pescados_df_filtro2 = pescados_df_1[pescados_df['name'].str.contains('|'.join(['ahumado','bandeja','envase','bolsa','paquete','sushi','ecológico']))]\n",
    "pescados_df_1 = pescados_df_1.drop(pescados_df_filtro2.index, axis=0)\n",
    "\n",
    "#pescados_df_1 = pescados_df_1.drop([25574,61746,63755,72649,80329,82849], axis=0)\n",
    "ab=pescados_df_1[pescados_df_1['supermarket']=='carrefour-es']\n",
    "#pescados_df_1.category.unique()\n",
    "pescados_df_1\n"
   ]
  },
  {
   "cell_type": "markdown",
   "metadata": {},
   "source": [
    "<h2> My cleaned datasets"
   ]
  },
  {
   "cell_type": "code",
   "execution_count": 20,
   "metadata": {},
   "outputs": [],
   "source": [
    "#mis variables finales\n",
    "aceites_df.to_csv(r'código\\Notebooks\\Aceites')\n",
    "carnes_df_2.to_csv(r'código\\Notebooks\\Carnes')\n",
    "frutas_df.to_csv(r'código\\Notebooks\\Frutas')\n",
    "pescados_df_1.to_csv(r'código\\Notebooks\\Pescados')"
   ]
  },
  {
   "cell_type": "code",
   "execution_count": 21,
   "metadata": {},
   "outputs": [
    {
     "data": {
      "text/html": [
       "<div>\n",
       "<style scoped>\n",
       "    .dataframe tbody tr th:only-of-type {\n",
       "        vertical-align: middle;\n",
       "    }\n",
       "\n",
       "    .dataframe tbody tr th {\n",
       "        vertical-align: top;\n",
       "    }\n",
       "\n",
       "    .dataframe thead th {\n",
       "        text-align: right;\n",
       "    }\n",
       "</style>\n",
       "<table border=\"1\" class=\"dataframe\">\n",
       "  <thead>\n",
       "    <tr style=\"text-align: right;\">\n",
       "      <th></th>\n",
       "      <th>name</th>\n",
       "    </tr>\n",
       "    <tr>\n",
       "      <th>supermarket</th>\n",
       "      <th></th>\n",
       "    </tr>\n",
       "  </thead>\n",
       "  <tbody>\n",
       "    <tr>\n",
       "      <th>carrefour-es</th>\n",
       "      <td>88444</td>\n",
       "    </tr>\n",
       "    <tr>\n",
       "      <th>dia-es</th>\n",
       "      <td>31674</td>\n",
       "    </tr>\n",
       "    <tr>\n",
       "      <th>mercadona-es</th>\n",
       "      <td>29882</td>\n",
       "    </tr>\n",
       "  </tbody>\n",
       "</table>\n",
       "</div>"
      ],
      "text/plain": [
       "               name\n",
       "supermarket        \n",
       "carrefour-es  88444\n",
       "dia-es        31674\n",
       "mercadona-es  29882"
      ]
     },
     "execution_count": 21,
     "metadata": {},
     "output_type": "execute_result"
    }
   ],
   "source": [
    "a.groupby('supermarket')[['name']].count()"
   ]
  },
  {
   "cell_type": "markdown",
   "metadata": {},
   "source": []
  },
  {
   "cell_type": "markdown",
   "metadata": {},
   "source": [
    "<h1> Now lets do the same with the 2023 prices dataset"
   ]
  },
  {
   "cell_type": "code",
   "execution_count": 22,
   "metadata": {},
   "outputs": [],
   "source": [
    "a= pd.read_csv(r'código\\Data\\productos-de-supermercados-sample.csv')\n",
    "a.head(10)\n",
    "# Dropping unnecessary columns\n",
    "a = a.drop(['id','url','zip_code','description','trademark','trademark_propietary_flag','offer_flag','offer_price','offer_type','insert_date'], axis=1)"
   ]
  },
  {
   "cell_type": "code",
   "execution_count": 23,
   "metadata": {},
   "outputs": [],
   "source": [
    "# Dropping missing values\n",
    "a = a.dropna()"
   ]
  },
  {
   "cell_type": "code",
   "execution_count": 24,
   "metadata": {},
   "outputs": [],
   "source": [
    "pd.options.display.max_rows = 5"
   ]
  },
  {
   "cell_type": "code",
   "execution_count": 25,
   "metadata": {},
   "outputs": [
    {
     "data": {
      "text/plain": [
       "category\n",
       "aceite_especias_y_salsas|aceite_vinagre_y_sal    4.180833\n",
       "aceite_especias_y_salsas|especias                1.603333\n",
       "                                                   ...   \n",
       "zumos|naranja                                    1.682857\n",
       "zumos|tomate_y_otros_sabores                     1.264000\n",
       "Name: price, Length: 625, dtype: float64"
      ]
     },
     "execution_count": 25,
     "metadata": {},
     "output_type": "execute_result"
    }
   ],
   "source": [
    "a.groupby('category')['price'].mean()"
   ]
  },
  {
   "cell_type": "code",
   "execution_count": 26,
   "metadata": {},
   "outputs": [
    {
     "data": {
      "text/plain": [
       "0       huevos_leche_y_mantequilla|mantequilla_y_marga...\n",
       "1              productos_frescos|platos_preparados|fritos\n",
       "                              ...                        \n",
       "4998                 cuidado_del_hogar|cuidado_de_la_ropa\n",
       "4999    panaderia_y_pasteleria|harina_y_preparado_repo...\n",
       "Name: category, Length: 4999, dtype: object"
      ]
     },
     "execution_count": 26,
     "metadata": {},
     "output_type": "execute_result"
    }
   ],
   "source": [
    "categorias = a.category\n",
    "categorias"
   ]
  },
  {
   "cell_type": "markdown",
   "metadata": {},
   "source": [
    "<h1> Olive oil"
   ]
  },
  {
   "cell_type": "markdown",
   "metadata": {},
   "source": [
    "<h4>First I'm going to take a look at the categories to see what do I have and what products I want to keep for my analysis and how to clean the data."
   ]
  },
  {
   "cell_type": "code",
   "execution_count": 27,
   "metadata": {},
   "outputs": [
    {
     "data": {
      "text/plain": [
       "['despensa|aceites_vinagres_y_alinos|aceites',\n",
       " 'aceite_especias_y_salsas|otras_salsas',\n",
       " 'aceite_especias_y_salsas|especias',\n",
       " 'aceite_especias_y_salsas|especias',\n",
       " 'despensa|aceites_vinagres_y_alinos|aceites',\n",
       " 'despensa|aceites_vinagres_y_alinos|vinagres_y_alinos',\n",
       " 'despensa|aceites_vinagres_y_alinos|aceites',\n",
       " 'aceite_especias_y_salsas|especias',\n",
       " 'aceite_especias_y_salsas|aceite_vinagre_y_sal',\n",
       " 'aceite_especias_y_salsas|especias',\n",
       " 'la_despensa|alimentacion|aceites_y_vinagres',\n",
       " 'despensa|aceites_vinagres_y_alinos|vinagres_y_alinos',\n",
       " 'aceite_especias_y_salsas|especias',\n",
       " 'aceite_especias_y_salsas|mayonesa_ketchup_y_mostaza',\n",
       " 'aceite_especias_y_salsas|especias',\n",
       " 'despensa|aceites_vinagres_y_alinos|vinagres_y_alinos',\n",
       " 'aceite_especias_y_salsas|aceite_vinagre_y_sal',\n",
       " 'aceite_especias_y_salsas|especias',\n",
       " 'despensa|aceites_vinagres_y_alinos|aceites',\n",
       " 'aceite_especias_y_salsas|especias',\n",
       " 'despensa|aceites_vinagres_y_alinos|aceites',\n",
       " 'aceite_especias_y_salsas|especias',\n",
       " 'despensa|aceites_vinagres_y_alinos|aceites',\n",
       " 'aceite_especias_y_salsas|mayonesa_ketchup_y_mostaza',\n",
       " 'despensa|aceites_vinagres_y_alinos|aceites',\n",
       " 'aceite_especias_y_salsas|otras_salsas',\n",
       " 'aceite_especias_y_salsas|otras_salsas',\n",
       " 'parafarmacia|bebe|hidratantes_y_aceites_corporales',\n",
       " 'la_despensa|alimentacion|aceites_y_vinagres',\n",
       " 'aceite_especias_y_salsas|aceite_vinagre_y_sal',\n",
       " 'aceite_especias_y_salsas|especias']"
      ]
     },
     "execution_count": 27,
     "metadata": {},
     "output_type": "execute_result"
    }
   ],
   "source": [
    "aceite = []\n",
    "for i in categorias:\n",
    "    if 'aceite' in i:\n",
    "        aceite.append(i)\n",
    "aceite"
   ]
  },
  {
   "cell_type": "markdown",
   "metadata": {},
   "source": [
    "<h1> Meat"
   ]
  },
  {
   "cell_type": "code",
   "execution_count": 28,
   "metadata": {},
   "outputs": [
    {
     "data": {
      "text/plain": [
       "['carne|cerdo',\n",
       " 'carne|aves_y_pollo',\n",
       " 'carne|vacuno',\n",
       " 'carne|cerdo',\n",
       " 'carne|aves_y_pollo',\n",
       " 'carne|hamburguesas_y_picadas',\n",
       " 'carne|aves_y_pollo',\n",
       " 'carne|vacuno',\n",
       " 'carne|aves_y_pollo',\n",
       " 'carne|cerdo',\n",
       " 'carne|aves_y_pollo',\n",
       " 'carne|embutido',\n",
       " 'carne|aves_y_pollo',\n",
       " 'carne|hamburguesas_y_picadas',\n",
       " 'carne|cerdo']"
      ]
     },
     "execution_count": 28,
     "metadata": {},
     "output_type": "execute_result"
    }
   ],
   "source": [
    "carne = []\n",
    "for i in categorias:\n",
    "    if i.startswith('carne'):\n",
    "        carne.append(i)\n",
    "carne"
   ]
  },
  {
   "cell_type": "markdown",
   "metadata": {},
   "source": [
    "<h1> Fruits and vegetables"
   ]
  },
  {
   "cell_type": "code",
   "execution_count": 29,
   "metadata": {},
   "outputs": [
    {
     "data": {
      "text/plain": [
       "['fruta_y_verdura|verdura',\n",
       " 'fruta_y_verdura|verdura',\n",
       " 'fruta_y_verdura|verdura',\n",
       " 'fruta_y_verdura|verdura',\n",
       " 'fruta_y_verdura|verdura',\n",
       " 'fruta_y_verdura|verdura',\n",
       " 'fruta_y_verdura|verdura',\n",
       " 'fruta_y_verdura|fruta',\n",
       " 'fruta_y_verdura|fruta',\n",
       " 'fruta_y_verdura|fruta',\n",
       " 'fruta_y_verdura|fruta',\n",
       " 'fruta_y_verdura|verdura',\n",
       " 'fruta_y_verdura|verdura',\n",
       " 'fruta_y_verdura|fruta',\n",
       " 'fruta_y_verdura|lechuga_y_ensalada_preparada',\n",
       " 'fruta_y_verdura|verdura',\n",
       " 'fruta_y_verdura|verdura',\n",
       " 'fruta_y_verdura|verdura',\n",
       " 'fruta_y_verdura|verdura',\n",
       " 'fruta_y_verdura|lechuga_y_ensalada_preparada',\n",
       " 'fruta_y_verdura|fruta',\n",
       " 'fruta_y_verdura|fruta',\n",
       " 'fruta_y_verdura|verdura',\n",
       " 'fruta_y_verdura|lechuga_y_ensalada_preparada',\n",
       " 'fruta_y_verdura|verdura',\n",
       " 'fruta_y_verdura|verdura',\n",
       " 'fruta_y_verdura|verdura',\n",
       " 'fruta_y_verdura|lechuga_y_ensalada_preparada',\n",
       " 'fruta_y_verdura|lechuga_y_ensalada_preparada',\n",
       " 'fruta_y_verdura|fruta',\n",
       " 'fruta_y_verdura|verdura',\n",
       " 'fruta_y_verdura|lechuga_y_ensalada_preparada',\n",
       " 'fruta_y_verdura|verdura',\n",
       " 'fruta_y_verdura|verdura',\n",
       " 'fruta_y_verdura|verdura',\n",
       " 'fruta_y_verdura|verdura',\n",
       " 'fruta_y_verdura|verdura',\n",
       " 'fruta_y_verdura|verdura',\n",
       " 'fruta_y_verdura|lechuga_y_ensalada_preparada',\n",
       " 'fruta_y_verdura|verdura',\n",
       " 'fruta_y_verdura|verdura',\n",
       " 'fruta_y_verdura|verdura']"
      ]
     },
     "execution_count": 29,
     "metadata": {},
     "output_type": "execute_result"
    }
   ],
   "source": [
    "fruta =[]\n",
    "for i in categorias:\n",
    "    if 'fruta_y_verdura' in i:\n",
    "        fruta.append(i)\n",
    "fruta\n"
   ]
  },
  {
   "cell_type": "markdown",
   "metadata": {},
   "source": [
    "<h1> Fish"
   ]
  },
  {
   "cell_type": "code",
   "execution_count": 30,
   "metadata": {},
   "outputs": [
    {
     "data": {
      "text/plain": [
       "['congelados|pescado_y_marisco',\n",
       " 'frescos|pescado_y_marisco|pescado_y_marisco_fresco',\n",
       " 'congelados|pescado_y_marisco',\n",
       " 'frescos|pescado_y_marisco|gulas_y_surimi',\n",
       " 'congelados|pescado_y_marisco',\n",
       " 'congelados|pescado_y_marisco',\n",
       " 'congelados|pescado_y_marisco',\n",
       " 'frescos|pescado_y_marisco|ahumados_y_salazones',\n",
       " 'congelados|pescado_y_marisco',\n",
       " 'congelados|pescado_y_marisco',\n",
       " 'frescos|pescado_y_marisco|ahumados_y_salazones',\n",
       " 'congelados|pescado_y_marisco',\n",
       " 'frescos|pescado_y_marisco|ahumados_y_salazones',\n",
       " 'congelados|pescado_y_marisco',\n",
       " 'congelados|pescado_y_marisco',\n",
       " 'frescos|pescado_y_marisco|ahumados_y_salazones',\n",
       " 'congelados|pescado_y_marisco',\n",
       " 'congelados|pescado_y_marisco',\n",
       " 'frescos|pescado_y_marisco|gulas_y_surimi',\n",
       " 'frescos|pescado_y_marisco|ahumados_y_salazones',\n",
       " 'productos_frescos|pescaderia|preparados_y_elaborados_de_pescado_y_marisco',\n",
       " 'frescos|pescado_y_marisco|pescado_y_marisco_fresco',\n",
       " 'congelados|pescado_y_marisco',\n",
       " 'congelados|pescado_y_marisco',\n",
       " 'productos_frescos|pescaderia|preparados_y_elaborados_de_pescado_y_marisco']"
      ]
     },
     "execution_count": 30,
     "metadata": {},
     "output_type": "execute_result"
    }
   ],
   "source": [
    "pescado =[]\n",
    "for i in categorias:\n",
    "    if 'conservas' in i:\n",
    "        pass \n",
    "    elif 'pescado_y_marisco' in i:\n",
    "        pescado.append(i)    \n",
    "pescado"
   ]
  },
  {
   "cell_type": "markdown",
   "metadata": {},
   "source": [
    "<h3>I start cleaning the dataset, taking the products that contain the specific word of the category, for example, for the category Olive oils I take all the products contiaining the word 'olive oil'"
   ]
  },
  {
   "cell_type": "markdown",
   "metadata": {},
   "source": [
    "<h3>Olive oils"
   ]
  },
  {
   "cell_type": "code",
   "execution_count": 31,
   "metadata": {},
   "outputs": [
    {
     "data": {
      "text/html": [
       "<div>\n",
       "<style scoped>\n",
       "    .dataframe tbody tr th:only-of-type {\n",
       "        vertical-align: middle;\n",
       "    }\n",
       "\n",
       "    .dataframe tbody tr th {\n",
       "        vertical-align: top;\n",
       "    }\n",
       "\n",
       "    .dataframe thead th {\n",
       "        text-align: right;\n",
       "    }\n",
       "</style>\n",
       "<table border=\"1\" class=\"dataframe\">\n",
       "  <thead>\n",
       "    <tr style=\"text-align: right;\">\n",
       "      <th></th>\n",
       "      <th>supermarket</th>\n",
       "      <th>category</th>\n",
       "      <th>name</th>\n",
       "      <th>price</th>\n",
       "      <th>reference_price</th>\n",
       "      <th>reference_unit</th>\n",
       "    </tr>\n",
       "  </thead>\n",
       "  <tbody>\n",
       "    <tr>\n",
       "      <th>736</th>\n",
       "      <td>carrefour.es</td>\n",
       "      <td>la_despensa|alimentacion|aceites_y_vinagres</td>\n",
       "      <td>Aceite de oliva virgen extra Carrefour spray 2...</td>\n",
       "      <td>2.05</td>\n",
       "      <td>10.250</td>\n",
       "      <td>l</td>\n",
       "    </tr>\n",
       "    <tr>\n",
       "      <th>1186</th>\n",
       "      <td>mercadona.es</td>\n",
       "      <td>aceite_especias_y_salsas|aceite_vinagre_y_sal</td>\n",
       "      <td>Aceite de girasol refinado 0,2º Hacendado</td>\n",
       "      <td>8.95</td>\n",
       "      <td>1.790</td>\n",
       "      <td>l</td>\n",
       "    </tr>\n",
       "    <tr>\n",
       "      <th>...</th>\n",
       "      <td>...</td>\n",
       "      <td>...</td>\n",
       "      <td>...</td>\n",
       "      <td>...</td>\n",
       "      <td>...</td>\n",
       "      <td>...</td>\n",
       "    </tr>\n",
       "    <tr>\n",
       "      <th>4824</th>\n",
       "      <td>carrefour.es</td>\n",
       "      <td>la_despensa|alimentacion|aceites_y_vinagres</td>\n",
       "      <td>Aceite de girasol para freír Carrefour garrafa...</td>\n",
       "      <td>9.89</td>\n",
       "      <td>1.980</td>\n",
       "      <td>l</td>\n",
       "    </tr>\n",
       "    <tr>\n",
       "      <th>4948</th>\n",
       "      <td>mercadona.es</td>\n",
       "      <td>aceite_especias_y_salsas|aceite_vinagre_y_sal</td>\n",
       "      <td>Aceite de oliva 0,4º Hacendado</td>\n",
       "      <td>23.63</td>\n",
       "      <td>4.726</td>\n",
       "      <td>l</td>\n",
       "    </tr>\n",
       "  </tbody>\n",
       "</table>\n",
       "<p>8 rows × 6 columns</p>\n",
       "</div>"
      ],
      "text/plain": [
       "       supermarket                                       category  \\\n",
       "736   carrefour.es    la_despensa|alimentacion|aceites_y_vinagres   \n",
       "1186  mercadona.es  aceite_especias_y_salsas|aceite_vinagre_y_sal   \n",
       "...            ...                                            ...   \n",
       "4824  carrefour.es    la_despensa|alimentacion|aceites_y_vinagres   \n",
       "4948  mercadona.es  aceite_especias_y_salsas|aceite_vinagre_y_sal   \n",
       "\n",
       "                                                   name  price  \\\n",
       "736   Aceite de oliva virgen extra Carrefour spray 2...   2.05   \n",
       "1186          Aceite de girasol refinado 0,2º Hacendado   8.95   \n",
       "...                                                 ...    ...   \n",
       "4824  Aceite de girasol para freír Carrefour garrafa...   9.89   \n",
       "4948                     Aceite de oliva 0,4º Hacendado  23.63   \n",
       "\n",
       "      reference_price reference_unit  \n",
       "736            10.250              l  \n",
       "1186            1.790              l  \n",
       "...               ...            ...  \n",
       "4824            1.980              l  \n",
       "4948            4.726              l  \n",
       "\n",
       "[8 rows x 6 columns]"
      ]
     },
     "execution_count": 31,
     "metadata": {},
     "output_type": "execute_result"
    }
   ],
   "source": [
    "aceites_df = a[a['name'].str.startswith('Aceite de')]\n",
    "#aceites_df = aceites_df[aceites_df['category'].str.contains('aceite_cor')]\n",
    "aceites_df"
   ]
  },
  {
   "cell_type": "markdown",
   "metadata": {},
   "source": [
    "Since I don't have data from the supermarket Dia, I extract it from the web and create a Dataframe"
   ]
  },
  {
   "cell_type": "code",
   "execution_count": 32,
   "metadata": {},
   "outputs": [
    {
     "data": {
      "text/plain": [
       "27"
      ]
     },
     "execution_count": 32,
     "metadata": {},
     "output_type": "execute_result"
    }
   ],
   "source": [
    "#info from Dia website\n",
    "\n",
    "names = ['Aceite de oliva virgen extra La Almazara del Olivar garrafa 3 l', \n",
    "         'Aceite de oliva suave La Almazara del Olivar garrafa 5 l',\n",
    "         'Aceite de oliva intenso La Almazara del Olivar garrafa 5 l',\n",
    "         'Aceite de oliva suave La Almazara del Olivar botella 1 l',\n",
    "         'Aceite refinado de girasol Diasol botella 1 l',\n",
    "         'Aceite de orujo de oliva La Almazara del Olivar botella 1 l',\n",
    "         'Aceite de oliva virgen La Almazara del Olivar botella 1 l',\n",
    "         'Aceite de oliva suave Carbonell botella 1 l',\n",
    "         'Aceite de oliva suave La española botella 1 l',\n",
    "         'Aceite de oliva virgen extra Carbonell botella 750 ml',\n",
    "         'Aceite refinado de girasol Diasol garrafa 5 l',\n",
    "         'Aceite de oliva virgen extra La Almazara del Olivar botella 1 l',\n",
    "         'Aceite de oliva intenso La Almazara del Olivar botella 1 l',\n",
    "         'Aceite de oliva virgen extra La Almazara del Olivar botella 750 ml',\n",
    "         'Aceite de oliva virgen extra Dcoop garrafa 3 l',\n",
    "         'Aceite de oliva virgen extra Carbonell botella 1 l',\n",
    "         'Aceite de oliva virgen extra Hojiblanca botella 1 l',\n",
    "         'Aceite de oliva suave La masía botella 1 l',\n",
    "         'Aceite de oliva virgen extra Dcoop botella 1 l',\n",
    "         'Aceite de oliva virgen Coosur botella 1 l',\n",
    "         'Aceite de oliva virgen extra ecológico Oro de genave botella 500 ml',\n",
    "         'Aceite de oliva virgen extra Jaencoop botella 250 ml',\n",
    "         'Aceite de oliva virgen extra Jaencoop botella 1 l',\n",
    "         'Aceite de oliva intenso Carbonell botella 1 l',\n",
    "         'Aceite oliva virgen Carbonell botella 1 l',\n",
    "         'Aceite de oliva intenso La masía botella 1 l',\n",
    "         'Aceite de oliva virgen extra hojiblanca Coosur botella 1 l'\n",
    "         ]\n",
    "len(names)"
   ]
  },
  {
   "cell_type": "code",
   "execution_count": 33,
   "metadata": {},
   "outputs": [
    {
     "data": {
      "text/plain": [
       "27"
      ]
     },
     "execution_count": 33,
     "metadata": {},
     "output_type": "execute_result"
    }
   ],
   "source": [
    "descripcion = ['3 L','5 l','5 l','1 l','1 l','1 l','1 l','1 l','1 l','0.75 l','5 l','1 l','1 l','0.75 l','3 l','1 l','1 l','1 l','1 l','1 l','0.5 l','0.25 l','1 l','1 l','1 l','1 l','1 l']\n",
    "len(descripcion)"
   ]
  },
  {
   "cell_type": "code",
   "execution_count": 34,
   "metadata": {},
   "outputs": [
    {
     "data": {
      "text/plain": [
       "27"
      ]
     },
     "execution_count": 34,
     "metadata": {},
     "output_type": "execute_result"
    }
   ],
   "source": [
    "super_mal = ['dia.es']\n",
    "super = super_mal*27\n",
    "len(super)"
   ]
  },
  {
   "cell_type": "code",
   "execution_count": 35,
   "metadata": {},
   "outputs": [
    {
     "data": {
      "text/plain": [
       "27"
      ]
     },
     "execution_count": 35,
     "metadata": {},
     "output_type": "execute_result"
    }
   ],
   "source": [
    "categoria_mal= ['aceite']\n",
    "categoria = categoria_mal*27\n",
    "len(categoria)"
   ]
  },
  {
   "cell_type": "code",
   "execution_count": 36,
   "metadata": {},
   "outputs": [],
   "source": [
    "precio = [27.6,36.5,36.5, 7.35,1.6,4.95,8.25,11.99,11.5, 8.79, 7.5, 9.25,7.35,7.60,26.29,14.25,14.50,8.99,9.45,11.25,6.15,3.19,8.89,11.99,12.95,8.99,14.50]"
   ]
  },
  {
   "cell_type": "code",
   "execution_count": 37,
   "metadata": {},
   "outputs": [],
   "source": [
    "precio_ref = [9.2, 7.3,7.3,7.35,1.6,4.95,8.25,11.99,11.5,11.72,1.5, 9.25,7.35,10.13,8.76,14.25,14.50,8.99,9.45,11.25,12.30,12.76,8.89,11.99,12.95,8.99,14.50]"
   ]
  },
  {
   "cell_type": "code",
   "execution_count": 38,
   "metadata": {},
   "outputs": [
    {
     "data": {
      "text/plain": [
       "27"
      ]
     },
     "execution_count": 38,
     "metadata": {},
     "output_type": "execute_result"
    }
   ],
   "source": [
    "precio_unit_mal = ['l']\n",
    "precio_unit = precio_unit_mal*27\n",
    "len(precio_unit)"
   ]
  },
  {
   "cell_type": "code",
   "execution_count": 39,
   "metadata": {},
   "outputs": [],
   "source": [
    "aceites_dia = {'supermarket': super,\n",
    "               'category': categoria,\n",
    "               'name': names,\n",
    "               'price': precio,\n",
    "               'reference_price': precio_ref,\n",
    "               'reference_unit':precio_unit }"
   ]
  },
  {
   "cell_type": "markdown",
   "metadata": {},
   "source": [
    "Same with oils from carrefour supermarket, I extract them from the website"
   ]
  },
  {
   "cell_type": "code",
   "execution_count": 40,
   "metadata": {},
   "outputs": [
    {
     "data": {
      "text/plain": [
       "15"
      ]
     },
     "execution_count": 40,
     "metadata": {},
     "output_type": "execute_result"
    }
   ],
   "source": [
    "#info from carrefour website\n",
    "\n",
    "names_car = ['Aceite de oliva suave 0,4º Carrefour 1 l.',\n",
    "        'Aceite de oliva intenso 1º Carrefour garrafa 5 l.',\n",
    "        'Aceite de girasol para freír Carrefour garrafa 5 l.',\n",
    "        'Aceite de oliva suave 0,4º La Española 1 l.',\n",
    "        'Aceite de oliva intenso 1º La Masía garrafa 5 l.',\n",
    "        'Aceite de oliva suave 0,4º Carbonell 1 l.',\n",
    "        'Aceite de oliva virgen extra Carrefour 1 l.',\n",
    "        'Aceite de girasol Koipe Fritos 1 l.',\n",
    "        'Aceite de oliva virgen Carbonell 1 l.',\n",
    "        'Aceite de oliva virgen extra Carrefour garrafa 5 l.',\n",
    "        'Aceite de oliva virgen extra Carbonell 1 l.',\n",
    "        'Aceite de oliva virgen serie oro Coosur 1 l.',\n",
    "        'Aceite de oliva virgen extra Carrefour 750 ml.',\n",
    "        'Aceite de oliva intenso 1º Carrefour 1 l.',\n",
    "        'Aceite de oliva virgen extra hojiblanca Coosur 1 l.'\n",
    "\n",
    "\n",
    "         ]\n",
    "len(names_car)"
   ]
  },
  {
   "cell_type": "code",
   "execution_count": 41,
   "metadata": {},
   "outputs": [
    {
     "data": {
      "text/plain": [
       "27"
      ]
     },
     "execution_count": 41,
     "metadata": {},
     "output_type": "execute_result"
    }
   ],
   "source": [
    "super_car = ['carrefour.es']\n",
    "super_car = super_car*15\n",
    "len(super)"
   ]
  },
  {
   "cell_type": "code",
   "execution_count": 42,
   "metadata": {},
   "outputs": [
    {
     "data": {
      "text/plain": [
       "15"
      ]
     },
     "execution_count": 42,
     "metadata": {},
     "output_type": "execute_result"
    }
   ],
   "source": [
    "categoria_car= ['aceite']\n",
    "categoria_car = categoria_car*15\n",
    "len(categoria_car)"
   ]
  },
  {
   "cell_type": "code",
   "execution_count": 43,
   "metadata": {},
   "outputs": [],
   "source": [
    "precio_car =[7.25,35.90, 7.19,11.55,44.85,11.99,9.25,2.69,12.50,45.90,14.25,12.95,7.19,7.25,14.50]"
   ]
  },
  {
   "cell_type": "code",
   "execution_count": 44,
   "metadata": {},
   "outputs": [],
   "source": [
    "precio_ref_car=[7.25, 7.18,1.44,11.55,7.39,11.99,9.25,2.69,12.50,9.18,14.25,12.95,10.12,7.25,14.50]"
   ]
  },
  {
   "cell_type": "code",
   "execution_count": 45,
   "metadata": {},
   "outputs": [],
   "source": [
    "ref_unit_car = ['l']\n",
    "ref_unit_car = ref_unit_car*15"
   ]
  },
  {
   "cell_type": "code",
   "execution_count": 46,
   "metadata": {},
   "outputs": [],
   "source": [
    "aceites_car = {'supermarket': super_car,\n",
    "               'category': categoria_car,\n",
    "               'name': names_car,\n",
    "               'price': precio_car,\n",
    "               'reference_price': precio_ref_car,\n",
    "               'reference_unit':ref_unit_car }"
   ]
  },
  {
   "cell_type": "code",
   "execution_count": 47,
   "metadata": {},
   "outputs": [],
   "source": [
    "#add to my dataframe"
   ]
  },
  {
   "cell_type": "code",
   "execution_count": 48,
   "metadata": {},
   "outputs": [],
   "source": [
    "aceites_car_df = pd.DataFrame(aceites_car)\n",
    "aceites_car_df.to_csv('Aceites_car_df')"
   ]
  },
  {
   "cell_type": "code",
   "execution_count": 49,
   "metadata": {},
   "outputs": [],
   "source": [
    "aceites_dia_df = pd.DataFrame(aceites_dia)\n",
    "aceites_dia_df.to_csv('Aceites_dia_df')"
   ]
  },
  {
   "cell_type": "code",
   "execution_count": 50,
   "metadata": {},
   "outputs": [
    {
     "data": {
      "text/html": [
       "<div>\n",
       "<style scoped>\n",
       "    .dataframe tbody tr th:only-of-type {\n",
       "        vertical-align: middle;\n",
       "    }\n",
       "\n",
       "    .dataframe tbody tr th {\n",
       "        vertical-align: top;\n",
       "    }\n",
       "\n",
       "    .dataframe thead th {\n",
       "        text-align: right;\n",
       "    }\n",
       "</style>\n",
       "<table border=\"1\" class=\"dataframe\">\n",
       "  <thead>\n",
       "    <tr style=\"text-align: right;\">\n",
       "      <th></th>\n",
       "      <th>supermarket</th>\n",
       "      <th>category</th>\n",
       "      <th>name</th>\n",
       "      <th>price</th>\n",
       "      <th>reference_price</th>\n",
       "      <th>reference_unit</th>\n",
       "    </tr>\n",
       "  </thead>\n",
       "  <tbody>\n",
       "    <tr>\n",
       "      <th>0</th>\n",
       "      <td>dia.es</td>\n",
       "      <td>aceite</td>\n",
       "      <td>Aceite de oliva virgen extra La Almazara del O...</td>\n",
       "      <td>27.60</td>\n",
       "      <td>9.20</td>\n",
       "      <td>l</td>\n",
       "    </tr>\n",
       "    <tr>\n",
       "      <th>1</th>\n",
       "      <td>dia.es</td>\n",
       "      <td>aceite</td>\n",
       "      <td>Aceite de oliva suave La Almazara del Olivar g...</td>\n",
       "      <td>36.50</td>\n",
       "      <td>7.30</td>\n",
       "      <td>l</td>\n",
       "    </tr>\n",
       "    <tr>\n",
       "      <th>...</th>\n",
       "      <td>...</td>\n",
       "      <td>...</td>\n",
       "      <td>...</td>\n",
       "      <td>...</td>\n",
       "      <td>...</td>\n",
       "      <td>...</td>\n",
       "    </tr>\n",
       "    <tr>\n",
       "      <th>25</th>\n",
       "      <td>dia.es</td>\n",
       "      <td>aceite</td>\n",
       "      <td>Aceite de oliva intenso La masía botella 1 l</td>\n",
       "      <td>8.99</td>\n",
       "      <td>8.99</td>\n",
       "      <td>l</td>\n",
       "    </tr>\n",
       "    <tr>\n",
       "      <th>26</th>\n",
       "      <td>dia.es</td>\n",
       "      <td>aceite</td>\n",
       "      <td>Aceite de oliva virgen extra hojiblanca Coosur...</td>\n",
       "      <td>14.50</td>\n",
       "      <td>14.50</td>\n",
       "      <td>l</td>\n",
       "    </tr>\n",
       "  </tbody>\n",
       "</table>\n",
       "<p>27 rows × 6 columns</p>\n",
       "</div>"
      ],
      "text/plain": [
       "   supermarket category                                               name  \\\n",
       "0       dia.es   aceite  Aceite de oliva virgen extra La Almazara del O...   \n",
       "1       dia.es   aceite  Aceite de oliva suave La Almazara del Olivar g...   \n",
       "..         ...      ...                                                ...   \n",
       "25      dia.es   aceite       Aceite de oliva intenso La masía botella 1 l   \n",
       "26      dia.es   aceite  Aceite de oliva virgen extra hojiblanca Coosur...   \n",
       "\n",
       "    price  reference_price reference_unit  \n",
       "0   27.60             9.20              l  \n",
       "1   36.50             7.30              l  \n",
       "..    ...              ...            ...  \n",
       "25   8.99             8.99              l  \n",
       "26  14.50            14.50              l  \n",
       "\n",
       "[27 rows x 6 columns]"
      ]
     },
     "execution_count": 50,
     "metadata": {},
     "output_type": "execute_result"
    }
   ],
   "source": [
    "aceites_dia_df"
   ]
  },
  {
   "cell_type": "markdown",
   "metadata": {},
   "source": [
    "<h3> Adding this data to my Olive oil dataframe that I created before"
   ]
  },
  {
   "cell_type": "code",
   "execution_count": 52,
   "metadata": {},
   "outputs": [],
   "source": [
    "aceites_dia = pd.read_csv(r'código\\Notebooks\\Aceites_dia_df')"
   ]
  },
  {
   "cell_type": "code",
   "execution_count": 53,
   "metadata": {},
   "outputs": [],
   "source": [
    "aceites_car = pd.read_csv(r'código\\Notebooks\\Aceites_car_df')"
   ]
  },
  {
   "cell_type": "code",
   "execution_count": 54,
   "metadata": {},
   "outputs": [
    {
     "data": {
      "text/html": [
       "<div>\n",
       "<style scoped>\n",
       "    .dataframe tbody tr th:only-of-type {\n",
       "        vertical-align: middle;\n",
       "    }\n",
       "\n",
       "    .dataframe tbody tr th {\n",
       "        vertical-align: top;\n",
       "    }\n",
       "\n",
       "    .dataframe thead th {\n",
       "        text-align: right;\n",
       "    }\n",
       "</style>\n",
       "<table border=\"1\" class=\"dataframe\">\n",
       "  <thead>\n",
       "    <tr style=\"text-align: right;\">\n",
       "      <th></th>\n",
       "      <th>supermarket</th>\n",
       "      <th>category</th>\n",
       "      <th>name</th>\n",
       "      <th>price</th>\n",
       "      <th>reference_price</th>\n",
       "      <th>reference_unit</th>\n",
       "    </tr>\n",
       "  </thead>\n",
       "  <tbody>\n",
       "    <tr>\n",
       "      <th>736</th>\n",
       "      <td>carrefour.es</td>\n",
       "      <td>la_despensa|alimentacion|aceites_y_vinagres</td>\n",
       "      <td>Aceite de oliva virgen extra Carrefour spray 2...</td>\n",
       "      <td>2.05</td>\n",
       "      <td>10.25</td>\n",
       "      <td>l</td>\n",
       "    </tr>\n",
       "    <tr>\n",
       "      <th>1186</th>\n",
       "      <td>mercadona.es</td>\n",
       "      <td>aceite_especias_y_salsas|aceite_vinagre_y_sal</td>\n",
       "      <td>Aceite de girasol refinado 0,2º Hacendado</td>\n",
       "      <td>8.95</td>\n",
       "      <td>1.79</td>\n",
       "      <td>l</td>\n",
       "    </tr>\n",
       "    <tr>\n",
       "      <th>...</th>\n",
       "      <td>...</td>\n",
       "      <td>...</td>\n",
       "      <td>...</td>\n",
       "      <td>...</td>\n",
       "      <td>...</td>\n",
       "      <td>...</td>\n",
       "    </tr>\n",
       "    <tr>\n",
       "      <th>13</th>\n",
       "      <td>carrefour.es</td>\n",
       "      <td>aceite</td>\n",
       "      <td>Aceite de oliva intenso 1º Carrefour 1 l.</td>\n",
       "      <td>7.25</td>\n",
       "      <td>7.25</td>\n",
       "      <td>l</td>\n",
       "    </tr>\n",
       "    <tr>\n",
       "      <th>14</th>\n",
       "      <td>carrefour.es</td>\n",
       "      <td>aceite</td>\n",
       "      <td>Aceite de oliva virgen extra hojiblanca Coosur...</td>\n",
       "      <td>14.50</td>\n",
       "      <td>14.50</td>\n",
       "      <td>l</td>\n",
       "    </tr>\n",
       "  </tbody>\n",
       "</table>\n",
       "<p>50 rows × 6 columns</p>\n",
       "</div>"
      ],
      "text/plain": [
       "       supermarket                                       category  \\\n",
       "736   carrefour.es    la_despensa|alimentacion|aceites_y_vinagres   \n",
       "1186  mercadona.es  aceite_especias_y_salsas|aceite_vinagre_y_sal   \n",
       "...            ...                                            ...   \n",
       "13    carrefour.es                                         aceite   \n",
       "14    carrefour.es                                         aceite   \n",
       "\n",
       "                                                   name  price  \\\n",
       "736   Aceite de oliva virgen extra Carrefour spray 2...   2.05   \n",
       "1186          Aceite de girasol refinado 0,2º Hacendado   8.95   \n",
       "...                                                 ...    ...   \n",
       "13            Aceite de oliva intenso 1º Carrefour 1 l.   7.25   \n",
       "14    Aceite de oliva virgen extra hojiblanca Coosur...  14.50   \n",
       "\n",
       "      reference_price reference_unit  \n",
       "736             10.25              l  \n",
       "1186             1.79              l  \n",
       "...               ...            ...  \n",
       "13               7.25              l  \n",
       "14              14.50              l  \n",
       "\n",
       "[50 rows x 6 columns]"
      ]
     },
     "execution_count": 54,
     "metadata": {},
     "output_type": "execute_result"
    }
   ],
   "source": [
    "Aceites = pd.concat([aceites_df,aceites_dia_df,aceites_car_df])\n",
    "#Aceites = Aceites.drop(['Unnamed: 0'], axis=1)\n",
    "Aceites"
   ]
  },
  {
   "cell_type": "code",
   "execution_count": 69,
   "metadata": {},
   "outputs": [],
   "source": [
    "#Save it as a csv\n",
    "Aceites.to_csv(r'código\\Notebooks\\Aceites_23')"
   ]
  },
  {
   "cell_type": "markdown",
   "metadata": {},
   "source": [
    "<h3>In the meat category, I eliminate sauces, prepared dishes and baby food."
   ]
  },
  {
   "cell_type": "code",
   "execution_count": 72,
   "metadata": {},
   "outputs": [],
   "source": [
    "carnes_df = a[a['category'].str.contains('carne')]\n",
    "carnes_df_filtro1 = carnes_df[carnes_df['category'].str.contains('salsas')]\n",
    "filas_fuera = carnes_df_filtro1.index\n",
    "filas_fuera\n",
    "carnes_df_1 = carnes_df.drop(filas_fuera, axis= 0)\n"
   ]
  },
  {
   "cell_type": "code",
   "execution_count": 73,
   "metadata": {},
   "outputs": [
    {
     "data": {
      "text/html": [
       "<div>\n",
       "<style scoped>\n",
       "    .dataframe tbody tr th:only-of-type {\n",
       "        vertical-align: middle;\n",
       "    }\n",
       "\n",
       "    .dataframe tbody tr th {\n",
       "        vertical-align: top;\n",
       "    }\n",
       "\n",
       "    .dataframe thead th {\n",
       "        text-align: right;\n",
       "    }\n",
       "</style>\n",
       "<table border=\"1\" class=\"dataframe\">\n",
       "  <thead>\n",
       "    <tr style=\"text-align: right;\">\n",
       "      <th></th>\n",
       "      <th>supermarket</th>\n",
       "      <th>category</th>\n",
       "      <th>name</th>\n",
       "      <th>price</th>\n",
       "      <th>reference_price</th>\n",
       "      <th>reference_unit</th>\n",
       "    </tr>\n",
       "  </thead>\n",
       "  <tbody>\n",
       "  </tbody>\n",
       "</table>\n",
       "</div>"
      ],
      "text/plain": [
       "Empty DataFrame\n",
       "Columns: [supermarket, category, name, price, reference_price, reference_unit]\n",
       "Index: []"
      ]
     },
     "execution_count": 73,
     "metadata": {},
     "output_type": "execute_result"
    }
   ],
   "source": [
    "string_buscar = ['platos_preparados', 'potitos']\n",
    "carnes_df_1_filtro2 = carnes_df_1[carnes_df_1['category'].str.contains('|'.join(string_buscar))]\n",
    "filas_fuera2 = carnes_df_1_filtro2.index\n",
    "carnes_df_2 = carnes_df_1.drop(filas_fuera2, axis= 0)\n",
    "carnes_df_2"
   ]
  },
  {
   "cell_type": "markdown",
   "metadata": {},
   "source": [
    "<h3> Fruits and vegetables"
   ]
  },
  {
   "cell_type": "markdown",
   "metadata": {},
   "source": [
    "I do the same with fruits and vegetables, I delete everything that is not considered fresh products"
   ]
  },
  {
   "cell_type": "code",
   "execution_count": 74,
   "metadata": {},
   "outputs": [],
   "source": [
    "frutas_df = a[a['category'].str.contains('fruta')]"
   ]
  },
  {
   "cell_type": "code",
   "execution_count": 75,
   "metadata": {},
   "outputs": [
    {
     "data": {
      "text/plain": [
       "array([], dtype=object)"
      ]
     },
     "execution_count": 75,
     "metadata": {},
     "output_type": "execute_result"
    }
   ],
   "source": [
    "frutas_df.category.unique()"
   ]
  },
  {
   "cell_type": "code",
   "execution_count": 60,
   "metadata": {},
   "outputs": [],
   "source": [
    "string_buscar_f = ['aperitivos', 'despensa', 'conservas','la_despensa','congelados', 'lacteos','zumo','picantes','preparada','bosque']\n",
    "frutas_df_filtro1 = frutas_df[frutas_df['category'].str.contains('|'.join(string_buscar_f))]\n",
    "filas_fuera_f = frutas_df_filtro1.index\n",
    "frutas_df = frutas_df.drop(filas_fuera_f, axis= 0)\n",
    "#frutas_df = frutas_df.drop([4107,1150], axis= 0)"
   ]
  },
  {
   "cell_type": "code",
   "execution_count": 61,
   "metadata": {},
   "outputs": [
    {
     "data": {
      "text/plain": [
       "array([ 1.79 ,  4.58 ,  2.59 ,  2.88 ,  6.14 ,  6.25 ,  5.65 ,  2.11 ,\n",
       "        4.39 ,  4.89 , 17.28 ,  9.889, 17.858,  2.15 ,  5.56 ,  6.5  ,\n",
       "        2.49 ,  1.99 ,  2.39 ,  1.35 ,  2.02 ,  0.95 ,  4.75 ,  1.95 ,\n",
       "        1.82 ,  8.28 ,  1.41 ,  3.7  ,  6.92 ,  3.084, 15.3  ,  1.65 ,\n",
       "        1.056,  3.09 ,  2.29 ,  3.36 ,  1.995,  6.174,  6.   ,  2.58 ,\n",
       "        1.78 ,  5.975,  4.086,  3.25 ,  2.55 ,  2.5  ,  4.   ,  3.375,\n",
       "        4.775])"
      ]
     },
     "execution_count": 61,
     "metadata": {},
     "output_type": "execute_result"
    }
   ],
   "source": [
    "mer = frutas_df[frutas_df['supermarket'] == 'mercadona.es']\n",
    "mer.reference_price.unique()\n",
    "#mer[mer['reference_price'] == 6.174]"
   ]
  },
  {
   "cell_type": "code",
   "execution_count": 62,
   "metadata": {},
   "outputs": [
    {
     "data": {
      "text/plain": [
       "array([1.78, 3.65, 4.4 , 1.45, 2.15, 2.59, 1.7 , 3.99, 6.38, 2.75, 5.1 ,\n",
       "       2.39, 6.89, 4.99, 1.4 , 3.21])"
      ]
     },
     "execution_count": 62,
     "metadata": {},
     "output_type": "execute_result"
    }
   ],
   "source": [
    "carr = frutas_df[frutas_df['supermarket'] == 'carrefour.es']\n",
    "carr.reference_price.unique()\n"
   ]
  },
  {
   "cell_type": "markdown",
   "metadata": {},
   "source": [
    "<h3> Fish"
   ]
  },
  {
   "cell_type": "code",
   "execution_count": 63,
   "metadata": {},
   "outputs": [
    {
     "data": {
      "text/html": [
       "<div>\n",
       "<style scoped>\n",
       "    .dataframe tbody tr th:only-of-type {\n",
       "        vertical-align: middle;\n",
       "    }\n",
       "\n",
       "    .dataframe tbody tr th {\n",
       "        vertical-align: top;\n",
       "    }\n",
       "\n",
       "    .dataframe thead th {\n",
       "        text-align: right;\n",
       "    }\n",
       "</style>\n",
       "<table border=\"1\" class=\"dataframe\">\n",
       "  <thead>\n",
       "    <tr style=\"text-align: right;\">\n",
       "      <th></th>\n",
       "      <th>supermarket</th>\n",
       "      <th>category</th>\n",
       "      <th>name</th>\n",
       "      <th>price</th>\n",
       "      <th>reference_price</th>\n",
       "      <th>reference_unit</th>\n",
       "    </tr>\n",
       "  </thead>\n",
       "  <tbody>\n",
       "    <tr>\n",
       "      <th>103</th>\n",
       "      <td>carrefour.es</td>\n",
       "      <td>productos_frescos|pescaderia|bacalao_y_salazones</td>\n",
       "      <td>Bacalao desalado desmigado procedente de pesca...</td>\n",
       "      <td>4.15</td>\n",
       "      <td>16.60</td>\n",
       "      <td>kg</td>\n",
       "    </tr>\n",
       "    <tr>\n",
       "      <th>650</th>\n",
       "      <td>carrefour.es</td>\n",
       "      <td>productos_frescos|platos_preparados|platos_de_...</td>\n",
       "      <td>Oreja de cerdo cocida adobada Carrefour 400 g</td>\n",
       "      <td>3.00</td>\n",
       "      <td>7.50</td>\n",
       "      <td>kg</td>\n",
       "    </tr>\n",
       "    <tr>\n",
       "      <th>...</th>\n",
       "      <td>...</td>\n",
       "      <td>...</td>\n",
       "      <td>...</td>\n",
       "      <td>...</td>\n",
       "      <td>...</td>\n",
       "      <td>...</td>\n",
       "    </tr>\n",
       "    <tr>\n",
       "      <th>4945</th>\n",
       "      <td>carrefour.es</td>\n",
       "      <td>congelados|rebozados_y_platos_preparados|pesca...</td>\n",
       "      <td>Filetes de bacalao ultracongelado Pescanova 40...</td>\n",
       "      <td>7.95</td>\n",
       "      <td>19.87</td>\n",
       "      <td>kg</td>\n",
       "    </tr>\n",
       "    <tr>\n",
       "      <th>338</th>\n",
       "      <td>carrefour.es</td>\n",
       "      <td>mascotas|gatos|premios_y_snacks</td>\n",
       "      <td>Snack stick mini pescado omega 3 para gato adu...</td>\n",
       "      <td>0.99</td>\n",
       "      <td>18.33</td>\n",
       "      <td>kg</td>\n",
       "    </tr>\n",
       "  </tbody>\n",
       "</table>\n",
       "<p>37 rows × 6 columns</p>\n",
       "</div>"
      ],
      "text/plain": [
       "       supermarket                                           category  \\\n",
       "103   carrefour.es   productos_frescos|pescaderia|bacalao_y_salazones   \n",
       "650   carrefour.es  productos_frescos|platos_preparados|platos_de_...   \n",
       "...            ...                                                ...   \n",
       "4945  carrefour.es  congelados|rebozados_y_platos_preparados|pesca...   \n",
       "338   carrefour.es                    mascotas|gatos|premios_y_snacks   \n",
       "\n",
       "                                                   name  price  \\\n",
       "103   Bacalao desalado desmigado procedente de pesca...   4.15   \n",
       "650       Oreja de cerdo cocida adobada Carrefour 400 g   3.00   \n",
       "...                                                 ...    ...   \n",
       "4945  Filetes de bacalao ultracongelado Pescanova 40...   7.95   \n",
       "338   Snack stick mini pescado omega 3 para gato adu...   0.99   \n",
       "\n",
       "      reference_price reference_unit  \n",
       "103             16.60             kg  \n",
       "650              7.50             kg  \n",
       "...               ...            ...  \n",
       "4945            19.87             kg  \n",
       "338             18.33             kg  \n",
       "\n",
       "[37 rows x 6 columns]"
      ]
     },
     "execution_count": 63,
     "metadata": {},
     "output_type": "execute_result"
    }
   ],
   "source": [
    "pescados_df = a[a['category'].str.contains('|'.join(['pescado','pescados','pescaderia','pesca']))]\n",
    "pescados_df_car = a[a['name'].str.contains('|'.join(['pescado','pescados','pescaderia']))]\n",
    "pescados_df = pd.concat([pescados_df,pescados_df_car])\n",
    "pescados_df[pescados_df['supermarket']=='carrefour.es']"
   ]
  },
  {
   "cell_type": "markdown",
   "metadata": {},
   "source": [
    "<h4> \n",
    "I filter the fish, removing products such as preserves, prepared dishes... etc."
   ]
  },
  {
   "cell_type": "code",
   "execution_count": 64,
   "metadata": {},
   "outputs": [],
   "source": [
    "string_quitar = ['bebe','palitos','conservas','surimi','salazones','sushi','preparados','platos','mascotas','pulpo','sal']\n",
    "pescados_df_filtro1 = pescados_df[pescados_df['category'].str.contains('|'.join(string_quitar))]\n",
    "pescados_df_1 = pescados_df.drop(pescados_df_filtro1.index, axis=0)\n",
    "\n"
   ]
  },
  {
   "cell_type": "code",
   "execution_count": 65,
   "metadata": {},
   "outputs": [],
   "source": [
    "\n",
    "pescados_df_filtro2 = pescados_df_1[pescados_df_1['name'].str.contains('|'.join(['ecológico','sal','noruego']))]\n",
    "pescados_df_1 = pescados_df_1.drop(pescados_df_filtro2.index, axis=0)"
   ]
  },
  {
   "cell_type": "code",
   "execution_count": 66,
   "metadata": {},
   "outputs": [],
   "source": [
    "#when calculating the averages, they turn out to be very unalike... so I dig deeper into the data\n",
    "ab=pescados_df_1[pescados_df_1['supermarket']=='dia.es']\n"
   ]
  },
  {
   "cell_type": "code",
   "execution_count": 67,
   "metadata": {},
   "outputs": [
    {
     "data": {
      "text/plain": [
       "array([ 8.7  , 42.   ,  8.5  , 22.3  ,  9.95 , 13.167, 16.283, 15.95 ,\n",
       "       11.9  , 23.95 , 12.834,  7.217,  7.   , 11.   ,  4.566, 12.375,\n",
       "       10.95 , 17.667, 20.95 , 16.5  , 14.364, 11.95 ,  7.75 ,  7.95 ,\n",
       "       11.25 ,  7.069, 20.45 , 10.53 , 15.5  ,  5.95 , 22.1  , 12.1  ,\n",
       "        3.934,  3.95 , 12.5  ])"
      ]
     },
     "execution_count": 67,
     "metadata": {},
     "output_type": "execute_result"
    }
   ],
   "source": [
    "#when calculating the averages, they turn out to be very unalike... so I dig deeper into the data\n",
    "a=pescados_df_1[pescados_df_1['supermarket']=='mercadona.es']\n",
    "a.reference_price.unique()\n"
   ]
  },
  {
   "cell_type": "markdown",
   "metadata": {},
   "source": [
    "<h2> My 2023 cleaned datasets"
   ]
  },
  {
   "cell_type": "code",
   "execution_count": 76,
   "metadata": {},
   "outputs": [],
   "source": [
    "#mis variables finales\n",
    "aceites_df.to_csv(r'código\\Notebooks\\Aceites_23')\n",
    "carnes_df_2.to_csv(r'código\\Notebooks\\Carnes_23')\n",
    "frutas_df.to_csv(r'código\\Notebooks\\Frutas_23')\n",
    "pescados_df_1.to_csv(r'código\\Notebooks\\Pescados_23')"
   ]
  },
  {
   "cell_type": "markdown",
   "metadata": {},
   "source": [
    "<h1> Graphs"
   ]
  },
  {
   "cell_type": "markdown",
   "metadata": {},
   "source": [
    "<h2> Market share graph"
   ]
  },
  {
   "cell_type": "code",
   "execution_count": 77,
   "metadata": {},
   "outputs": [
    {
     "data": {
      "application/vnd.plotly.v1+json": {
       "config": {
        "plotlyServerURL": "https://plot.ly"
       },
       "data": [
        {
         "hole": 0.5,
         "labels": [
          "Mercadona",
          "Carrefour",
          "Día",
          "Lidl",
          "Eroski",
          "Consum",
          "Alcampo",
          "Otros"
         ],
         "marker": {
          "colors": [
           "#28B463",
           "#3399FF",
           "#FF5733",
           "#CCCCCC",
           "#CCCCCC",
           "#CCCCCC",
           "#CCCCCC",
           "#CCCCCC"
          ],
          "line": {
           "color": "white",
           "width": 3
          }
         },
         "type": "pie",
         "values": [
          27,
          10,
          4,
          6,
          4,
          3,
          3,
          43
         ]
        }
       ],
       "layout": {
        "annotations": [
         {
          "font": {
           "size": 20
          },
          "showarrow": false,
          "text": "Total 41%",
          "x": 0.2,
          "y": 0.6
         }
        ],
        "showlegend": true,
        "template": {
         "data": {
          "bar": [
           {
            "error_x": {
             "color": "#2a3f5f"
            },
            "error_y": {
             "color": "#2a3f5f"
            },
            "marker": {
             "line": {
              "color": "#E5ECF6",
              "width": 0.5
             },
             "pattern": {
              "fillmode": "overlay",
              "size": 10,
              "solidity": 0.2
             }
            },
            "type": "bar"
           }
          ],
          "barpolar": [
           {
            "marker": {
             "line": {
              "color": "#E5ECF6",
              "width": 0.5
             },
             "pattern": {
              "fillmode": "overlay",
              "size": 10,
              "solidity": 0.2
             }
            },
            "type": "barpolar"
           }
          ],
          "carpet": [
           {
            "aaxis": {
             "endlinecolor": "#2a3f5f",
             "gridcolor": "white",
             "linecolor": "white",
             "minorgridcolor": "white",
             "startlinecolor": "#2a3f5f"
            },
            "baxis": {
             "endlinecolor": "#2a3f5f",
             "gridcolor": "white",
             "linecolor": "white",
             "minorgridcolor": "white",
             "startlinecolor": "#2a3f5f"
            },
            "type": "carpet"
           }
          ],
          "choropleth": [
           {
            "colorbar": {
             "outlinewidth": 0,
             "ticks": ""
            },
            "type": "choropleth"
           }
          ],
          "contour": [
           {
            "colorbar": {
             "outlinewidth": 0,
             "ticks": ""
            },
            "colorscale": [
             [
              0,
              "#0d0887"
             ],
             [
              0.1111111111111111,
              "#46039f"
             ],
             [
              0.2222222222222222,
              "#7201a8"
             ],
             [
              0.3333333333333333,
              "#9c179e"
             ],
             [
              0.4444444444444444,
              "#bd3786"
             ],
             [
              0.5555555555555556,
              "#d8576b"
             ],
             [
              0.6666666666666666,
              "#ed7953"
             ],
             [
              0.7777777777777778,
              "#fb9f3a"
             ],
             [
              0.8888888888888888,
              "#fdca26"
             ],
             [
              1,
              "#f0f921"
             ]
            ],
            "type": "contour"
           }
          ],
          "contourcarpet": [
           {
            "colorbar": {
             "outlinewidth": 0,
             "ticks": ""
            },
            "type": "contourcarpet"
           }
          ],
          "heatmap": [
           {
            "colorbar": {
             "outlinewidth": 0,
             "ticks": ""
            },
            "colorscale": [
             [
              0,
              "#0d0887"
             ],
             [
              0.1111111111111111,
              "#46039f"
             ],
             [
              0.2222222222222222,
              "#7201a8"
             ],
             [
              0.3333333333333333,
              "#9c179e"
             ],
             [
              0.4444444444444444,
              "#bd3786"
             ],
             [
              0.5555555555555556,
              "#d8576b"
             ],
             [
              0.6666666666666666,
              "#ed7953"
             ],
             [
              0.7777777777777778,
              "#fb9f3a"
             ],
             [
              0.8888888888888888,
              "#fdca26"
             ],
             [
              1,
              "#f0f921"
             ]
            ],
            "type": "heatmap"
           }
          ],
          "heatmapgl": [
           {
            "colorbar": {
             "outlinewidth": 0,
             "ticks": ""
            },
            "colorscale": [
             [
              0,
              "#0d0887"
             ],
             [
              0.1111111111111111,
              "#46039f"
             ],
             [
              0.2222222222222222,
              "#7201a8"
             ],
             [
              0.3333333333333333,
              "#9c179e"
             ],
             [
              0.4444444444444444,
              "#bd3786"
             ],
             [
              0.5555555555555556,
              "#d8576b"
             ],
             [
              0.6666666666666666,
              "#ed7953"
             ],
             [
              0.7777777777777778,
              "#fb9f3a"
             ],
             [
              0.8888888888888888,
              "#fdca26"
             ],
             [
              1,
              "#f0f921"
             ]
            ],
            "type": "heatmapgl"
           }
          ],
          "histogram": [
           {
            "marker": {
             "pattern": {
              "fillmode": "overlay",
              "size": 10,
              "solidity": 0.2
             }
            },
            "type": "histogram"
           }
          ],
          "histogram2d": [
           {
            "colorbar": {
             "outlinewidth": 0,
             "ticks": ""
            },
            "colorscale": [
             [
              0,
              "#0d0887"
             ],
             [
              0.1111111111111111,
              "#46039f"
             ],
             [
              0.2222222222222222,
              "#7201a8"
             ],
             [
              0.3333333333333333,
              "#9c179e"
             ],
             [
              0.4444444444444444,
              "#bd3786"
             ],
             [
              0.5555555555555556,
              "#d8576b"
             ],
             [
              0.6666666666666666,
              "#ed7953"
             ],
             [
              0.7777777777777778,
              "#fb9f3a"
             ],
             [
              0.8888888888888888,
              "#fdca26"
             ],
             [
              1,
              "#f0f921"
             ]
            ],
            "type": "histogram2d"
           }
          ],
          "histogram2dcontour": [
           {
            "colorbar": {
             "outlinewidth": 0,
             "ticks": ""
            },
            "colorscale": [
             [
              0,
              "#0d0887"
             ],
             [
              0.1111111111111111,
              "#46039f"
             ],
             [
              0.2222222222222222,
              "#7201a8"
             ],
             [
              0.3333333333333333,
              "#9c179e"
             ],
             [
              0.4444444444444444,
              "#bd3786"
             ],
             [
              0.5555555555555556,
              "#d8576b"
             ],
             [
              0.6666666666666666,
              "#ed7953"
             ],
             [
              0.7777777777777778,
              "#fb9f3a"
             ],
             [
              0.8888888888888888,
              "#fdca26"
             ],
             [
              1,
              "#f0f921"
             ]
            ],
            "type": "histogram2dcontour"
           }
          ],
          "mesh3d": [
           {
            "colorbar": {
             "outlinewidth": 0,
             "ticks": ""
            },
            "type": "mesh3d"
           }
          ],
          "parcoords": [
           {
            "line": {
             "colorbar": {
              "outlinewidth": 0,
              "ticks": ""
             }
            },
            "type": "parcoords"
           }
          ],
          "pie": [
           {
            "automargin": true,
            "type": "pie"
           }
          ],
          "scatter": [
           {
            "fillpattern": {
             "fillmode": "overlay",
             "size": 10,
             "solidity": 0.2
            },
            "type": "scatter"
           }
          ],
          "scatter3d": [
           {
            "line": {
             "colorbar": {
              "outlinewidth": 0,
              "ticks": ""
             }
            },
            "marker": {
             "colorbar": {
              "outlinewidth": 0,
              "ticks": ""
             }
            },
            "type": "scatter3d"
           }
          ],
          "scattercarpet": [
           {
            "marker": {
             "colorbar": {
              "outlinewidth": 0,
              "ticks": ""
             }
            },
            "type": "scattercarpet"
           }
          ],
          "scattergeo": [
           {
            "marker": {
             "colorbar": {
              "outlinewidth": 0,
              "ticks": ""
             }
            },
            "type": "scattergeo"
           }
          ],
          "scattergl": [
           {
            "marker": {
             "colorbar": {
              "outlinewidth": 0,
              "ticks": ""
             }
            },
            "type": "scattergl"
           }
          ],
          "scattermapbox": [
           {
            "marker": {
             "colorbar": {
              "outlinewidth": 0,
              "ticks": ""
             }
            },
            "type": "scattermapbox"
           }
          ],
          "scatterpolar": [
           {
            "marker": {
             "colorbar": {
              "outlinewidth": 0,
              "ticks": ""
             }
            },
            "type": "scatterpolar"
           }
          ],
          "scatterpolargl": [
           {
            "marker": {
             "colorbar": {
              "outlinewidth": 0,
              "ticks": ""
             }
            },
            "type": "scatterpolargl"
           }
          ],
          "scatterternary": [
           {
            "marker": {
             "colorbar": {
              "outlinewidth": 0,
              "ticks": ""
             }
            },
            "type": "scatterternary"
           }
          ],
          "surface": [
           {
            "colorbar": {
             "outlinewidth": 0,
             "ticks": ""
            },
            "colorscale": [
             [
              0,
              "#0d0887"
             ],
             [
              0.1111111111111111,
              "#46039f"
             ],
             [
              0.2222222222222222,
              "#7201a8"
             ],
             [
              0.3333333333333333,
              "#9c179e"
             ],
             [
              0.4444444444444444,
              "#bd3786"
             ],
             [
              0.5555555555555556,
              "#d8576b"
             ],
             [
              0.6666666666666666,
              "#ed7953"
             ],
             [
              0.7777777777777778,
              "#fb9f3a"
             ],
             [
              0.8888888888888888,
              "#fdca26"
             ],
             [
              1,
              "#f0f921"
             ]
            ],
            "type": "surface"
           }
          ],
          "table": [
           {
            "cells": {
             "fill": {
              "color": "#EBF0F8"
             },
             "line": {
              "color": "white"
             }
            },
            "header": {
             "fill": {
              "color": "#C8D4E3"
             },
             "line": {
              "color": "white"
             }
            },
            "type": "table"
           }
          ]
         },
         "layout": {
          "annotationdefaults": {
           "arrowcolor": "#2a3f5f",
           "arrowhead": 0,
           "arrowwidth": 1
          },
          "autotypenumbers": "strict",
          "coloraxis": {
           "colorbar": {
            "outlinewidth": 0,
            "ticks": ""
           }
          },
          "colorscale": {
           "diverging": [
            [
             0,
             "#8e0152"
            ],
            [
             0.1,
             "#c51b7d"
            ],
            [
             0.2,
             "#de77ae"
            ],
            [
             0.3,
             "#f1b6da"
            ],
            [
             0.4,
             "#fde0ef"
            ],
            [
             0.5,
             "#f7f7f7"
            ],
            [
             0.6,
             "#e6f5d0"
            ],
            [
             0.7,
             "#b8e186"
            ],
            [
             0.8,
             "#7fbc41"
            ],
            [
             0.9,
             "#4d9221"
            ],
            [
             1,
             "#276419"
            ]
           ],
           "sequential": [
            [
             0,
             "#0d0887"
            ],
            [
             0.1111111111111111,
             "#46039f"
            ],
            [
             0.2222222222222222,
             "#7201a8"
            ],
            [
             0.3333333333333333,
             "#9c179e"
            ],
            [
             0.4444444444444444,
             "#bd3786"
            ],
            [
             0.5555555555555556,
             "#d8576b"
            ],
            [
             0.6666666666666666,
             "#ed7953"
            ],
            [
             0.7777777777777778,
             "#fb9f3a"
            ],
            [
             0.8888888888888888,
             "#fdca26"
            ],
            [
             1,
             "#f0f921"
            ]
           ],
           "sequentialminus": [
            [
             0,
             "#0d0887"
            ],
            [
             0.1111111111111111,
             "#46039f"
            ],
            [
             0.2222222222222222,
             "#7201a8"
            ],
            [
             0.3333333333333333,
             "#9c179e"
            ],
            [
             0.4444444444444444,
             "#bd3786"
            ],
            [
             0.5555555555555556,
             "#d8576b"
            ],
            [
             0.6666666666666666,
             "#ed7953"
            ],
            [
             0.7777777777777778,
             "#fb9f3a"
            ],
            [
             0.8888888888888888,
             "#fdca26"
            ],
            [
             1,
             "#f0f921"
            ]
           ]
          },
          "colorway": [
           "#636efa",
           "#EF553B",
           "#00cc96",
           "#ab63fa",
           "#FFA15A",
           "#19d3f3",
           "#FF6692",
           "#B6E880",
           "#FF97FF",
           "#FECB52"
          ],
          "font": {
           "color": "#2a3f5f"
          },
          "geo": {
           "bgcolor": "white",
           "lakecolor": "white",
           "landcolor": "#E5ECF6",
           "showlakes": true,
           "showland": true,
           "subunitcolor": "white"
          },
          "hoverlabel": {
           "align": "left"
          },
          "hovermode": "closest",
          "mapbox": {
           "style": "light"
          },
          "paper_bgcolor": "white",
          "plot_bgcolor": "#E5ECF6",
          "polar": {
           "angularaxis": {
            "gridcolor": "white",
            "linecolor": "white",
            "ticks": ""
           },
           "bgcolor": "#E5ECF6",
           "radialaxis": {
            "gridcolor": "white",
            "linecolor": "white",
            "ticks": ""
           }
          },
          "scene": {
           "xaxis": {
            "backgroundcolor": "#E5ECF6",
            "gridcolor": "white",
            "gridwidth": 2,
            "linecolor": "white",
            "showbackground": true,
            "ticks": "",
            "zerolinecolor": "white"
           },
           "yaxis": {
            "backgroundcolor": "#E5ECF6",
            "gridcolor": "white",
            "gridwidth": 2,
            "linecolor": "white",
            "showbackground": true,
            "ticks": "",
            "zerolinecolor": "white"
           },
           "zaxis": {
            "backgroundcolor": "#E5ECF6",
            "gridcolor": "white",
            "gridwidth": 2,
            "linecolor": "white",
            "showbackground": true,
            "ticks": "",
            "zerolinecolor": "white"
           }
          },
          "shapedefaults": {
           "line": {
            "color": "#2a3f5f"
           }
          },
          "ternary": {
           "aaxis": {
            "gridcolor": "white",
            "linecolor": "white",
            "ticks": ""
           },
           "baxis": {
            "gridcolor": "white",
            "linecolor": "white",
            "ticks": ""
           },
           "bgcolor": "#E5ECF6",
           "caxis": {
            "gridcolor": "white",
            "linecolor": "white",
            "ticks": ""
           }
          },
          "title": {
           "x": 0.05
          },
          "xaxis": {
           "automargin": true,
           "gridcolor": "white",
           "linecolor": "white",
           "ticks": "",
           "title": {
            "standoff": 15
           },
           "zerolinecolor": "white",
           "zerolinewidth": 2
          },
          "yaxis": {
           "automargin": true,
           "gridcolor": "white",
           "linecolor": "white",
           "ticks": "",
           "title": {
            "standoff": 15
           },
           "zerolinecolor": "white",
           "zerolinewidth": 2
          }
         }
        },
        "title": {
         "text": "Market share"
        }
       }
      }
     },
     "metadata": {},
     "output_type": "display_data"
    }
   ],
   "source": [
    "import plotly.graph_objects as go\n",
    "\n",
    "labels = ['Mercadona', 'Carrefour', 'Día','Lidl','Eroski','Consum','Alcampo','Otros']\n",
    "values = [27,10,4,6,4,3,3,43]\n",
    "\n",
    "# Custom colors for the chart\n",
    "colors = ['#28B463','#3399FF','#FF5733','#CCCCCC','#CCCCCC','#CCCCCC','#CCCCCC', '#CCCCCC']\n",
    "\n",
    "\n",
    "# Create a donut chart\n",
    "fig = go.Figure(data=[go.Pie(\n",
    "    labels=labels, \n",
    "    values=values, \n",
    "    hole=0.5,\n",
    "    marker=dict(colors=colors, line=dict(color='white', width=3))\n",
    ")])\n",
    "\n",
    "\n",
    "# Custom layout\n",
    "fig.update_layout(\n",
    "    title='Market share',\n",
    "    showlegend=True,\n",
    "    annotations=[dict(text='Total 41%', x=0.2, y=0.6, font_size=20, showarrow=False)],\n",
    ")\n",
    "\n",
    "# Display the chart\n",
    "fig.show()"
   ]
  },
  {
   "cell_type": "code",
   "execution_count": 78,
   "metadata": {},
   "outputs": [],
   "source": [
    "# other market share graphs\n",
    "\n",
    "trace1 = go.Bar(x = ['Mercadona', 'Carrefour', 'Día'],\n",
    "               y = [27,10,4] ,\n",
    "               name = 'Porcentaje',\n",
    "               orientation = 'v',\n",
    "               text = ['27 %','10 %','4 %'],\n",
    "               textposition= 'outside',\n",
    "               marker = dict(color = 'rgba(30,144,255, 0.5)',\n",
    "                line = dict(color='rgb(0,0,0)', width = 1.5)))\n",
    "\n",
    "data = [trace1]\n",
    "\n",
    "layout = go.Layout(barmode = \"group\", title='Cuota mercado', yaxis_title=\"Porcentaje\")\n",
    "\n",
    "fig = go.Figure(data = data, layout = layout)\n",
    "\n",
    "#display(fig)"
   ]
  },
  {
   "cell_type": "code",
   "execution_count": 79,
   "metadata": {},
   "outputs": [],
   "source": [
    "aceites = pd.read_csv(r'código\\Notebooks\\Aceites_23')"
   ]
  },
  {
   "cell_type": "code",
   "execution_count": 80,
   "metadata": {},
   "outputs": [],
   "source": [
    "carnes = pd.read_csv(r'código\\Notebooks\\Carnes_23')"
   ]
  },
  {
   "cell_type": "code",
   "execution_count": 81,
   "metadata": {},
   "outputs": [],
   "source": [
    "frutas = pd.read_csv(r'código\\Notebooks\\Frutas_23')"
   ]
  },
  {
   "cell_type": "code",
   "execution_count": 82,
   "metadata": {},
   "outputs": [],
   "source": [
    "pescados = pd.read_csv(r'código\\Notebooks\\Pescados_23')"
   ]
  },
  {
   "cell_type": "code",
   "execution_count": 83,
   "metadata": {},
   "outputs": [],
   "source": [
    "pd.options.display.max_rows = 5"
   ]
  },
  {
   "cell_type": "markdown",
   "metadata": {},
   "source": [
    "<h1> Olive oil"
   ]
  },
  {
   "cell_type": "code",
   "execution_count": 84,
   "metadata": {},
   "outputs": [
    {
     "data": {
      "text/plain": [
       "supermarket\n",
       "mercadona.es    6.6472\n",
       "carrefour.es    5.6600\n",
       "Name: reference_price, dtype: float64"
      ]
     },
     "execution_count": 84,
     "metadata": {},
     "output_type": "execute_result"
    }
   ],
   "source": [
    "ace = aceites.groupby('supermarket')['reference_price'].mean().sort_values(ascending=False)\n",
    "ace"
   ]
  },
  {
   "cell_type": "code",
   "execution_count": 85,
   "metadata": {},
   "outputs": [
    {
     "data": {
      "application/vnd.plotly.v1+json": {
       "config": {
        "plotlyServerURL": "https://plot.ly"
       },
       "data": [
        {
         "marker": {
          "color": "rgba(30,144,255, 0.5)",
          "line": {
           "color": "rgb(0,0,0)",
           "width": 1.5
          }
         },
         "name": "Precio aceite",
         "orientation": "h",
         "type": "bar",
         "x": [
          9.6,
          8.7,
          8.2
         ],
         "y": [
          "mercadona.es",
          "carrefour.es"
         ]
        }
       ],
       "layout": {
        "barmode": "group",
        "template": {
         "data": {
          "bar": [
           {
            "error_x": {
             "color": "#2a3f5f"
            },
            "error_y": {
             "color": "#2a3f5f"
            },
            "marker": {
             "line": {
              "color": "#E5ECF6",
              "width": 0.5
             },
             "pattern": {
              "fillmode": "overlay",
              "size": 10,
              "solidity": 0.2
             }
            },
            "type": "bar"
           }
          ],
          "barpolar": [
           {
            "marker": {
             "line": {
              "color": "#E5ECF6",
              "width": 0.5
             },
             "pattern": {
              "fillmode": "overlay",
              "size": 10,
              "solidity": 0.2
             }
            },
            "type": "barpolar"
           }
          ],
          "carpet": [
           {
            "aaxis": {
             "endlinecolor": "#2a3f5f",
             "gridcolor": "white",
             "linecolor": "white",
             "minorgridcolor": "white",
             "startlinecolor": "#2a3f5f"
            },
            "baxis": {
             "endlinecolor": "#2a3f5f",
             "gridcolor": "white",
             "linecolor": "white",
             "minorgridcolor": "white",
             "startlinecolor": "#2a3f5f"
            },
            "type": "carpet"
           }
          ],
          "choropleth": [
           {
            "colorbar": {
             "outlinewidth": 0,
             "ticks": ""
            },
            "type": "choropleth"
           }
          ],
          "contour": [
           {
            "colorbar": {
             "outlinewidth": 0,
             "ticks": ""
            },
            "colorscale": [
             [
              0,
              "#0d0887"
             ],
             [
              0.1111111111111111,
              "#46039f"
             ],
             [
              0.2222222222222222,
              "#7201a8"
             ],
             [
              0.3333333333333333,
              "#9c179e"
             ],
             [
              0.4444444444444444,
              "#bd3786"
             ],
             [
              0.5555555555555556,
              "#d8576b"
             ],
             [
              0.6666666666666666,
              "#ed7953"
             ],
             [
              0.7777777777777778,
              "#fb9f3a"
             ],
             [
              0.8888888888888888,
              "#fdca26"
             ],
             [
              1,
              "#f0f921"
             ]
            ],
            "type": "contour"
           }
          ],
          "contourcarpet": [
           {
            "colorbar": {
             "outlinewidth": 0,
             "ticks": ""
            },
            "type": "contourcarpet"
           }
          ],
          "heatmap": [
           {
            "colorbar": {
             "outlinewidth": 0,
             "ticks": ""
            },
            "colorscale": [
             [
              0,
              "#0d0887"
             ],
             [
              0.1111111111111111,
              "#46039f"
             ],
             [
              0.2222222222222222,
              "#7201a8"
             ],
             [
              0.3333333333333333,
              "#9c179e"
             ],
             [
              0.4444444444444444,
              "#bd3786"
             ],
             [
              0.5555555555555556,
              "#d8576b"
             ],
             [
              0.6666666666666666,
              "#ed7953"
             ],
             [
              0.7777777777777778,
              "#fb9f3a"
             ],
             [
              0.8888888888888888,
              "#fdca26"
             ],
             [
              1,
              "#f0f921"
             ]
            ],
            "type": "heatmap"
           }
          ],
          "heatmapgl": [
           {
            "colorbar": {
             "outlinewidth": 0,
             "ticks": ""
            },
            "colorscale": [
             [
              0,
              "#0d0887"
             ],
             [
              0.1111111111111111,
              "#46039f"
             ],
             [
              0.2222222222222222,
              "#7201a8"
             ],
             [
              0.3333333333333333,
              "#9c179e"
             ],
             [
              0.4444444444444444,
              "#bd3786"
             ],
             [
              0.5555555555555556,
              "#d8576b"
             ],
             [
              0.6666666666666666,
              "#ed7953"
             ],
             [
              0.7777777777777778,
              "#fb9f3a"
             ],
             [
              0.8888888888888888,
              "#fdca26"
             ],
             [
              1,
              "#f0f921"
             ]
            ],
            "type": "heatmapgl"
           }
          ],
          "histogram": [
           {
            "marker": {
             "pattern": {
              "fillmode": "overlay",
              "size": 10,
              "solidity": 0.2
             }
            },
            "type": "histogram"
           }
          ],
          "histogram2d": [
           {
            "colorbar": {
             "outlinewidth": 0,
             "ticks": ""
            },
            "colorscale": [
             [
              0,
              "#0d0887"
             ],
             [
              0.1111111111111111,
              "#46039f"
             ],
             [
              0.2222222222222222,
              "#7201a8"
             ],
             [
              0.3333333333333333,
              "#9c179e"
             ],
             [
              0.4444444444444444,
              "#bd3786"
             ],
             [
              0.5555555555555556,
              "#d8576b"
             ],
             [
              0.6666666666666666,
              "#ed7953"
             ],
             [
              0.7777777777777778,
              "#fb9f3a"
             ],
             [
              0.8888888888888888,
              "#fdca26"
             ],
             [
              1,
              "#f0f921"
             ]
            ],
            "type": "histogram2d"
           }
          ],
          "histogram2dcontour": [
           {
            "colorbar": {
             "outlinewidth": 0,
             "ticks": ""
            },
            "colorscale": [
             [
              0,
              "#0d0887"
             ],
             [
              0.1111111111111111,
              "#46039f"
             ],
             [
              0.2222222222222222,
              "#7201a8"
             ],
             [
              0.3333333333333333,
              "#9c179e"
             ],
             [
              0.4444444444444444,
              "#bd3786"
             ],
             [
              0.5555555555555556,
              "#d8576b"
             ],
             [
              0.6666666666666666,
              "#ed7953"
             ],
             [
              0.7777777777777778,
              "#fb9f3a"
             ],
             [
              0.8888888888888888,
              "#fdca26"
             ],
             [
              1,
              "#f0f921"
             ]
            ],
            "type": "histogram2dcontour"
           }
          ],
          "mesh3d": [
           {
            "colorbar": {
             "outlinewidth": 0,
             "ticks": ""
            },
            "type": "mesh3d"
           }
          ],
          "parcoords": [
           {
            "line": {
             "colorbar": {
              "outlinewidth": 0,
              "ticks": ""
             }
            },
            "type": "parcoords"
           }
          ],
          "pie": [
           {
            "automargin": true,
            "type": "pie"
           }
          ],
          "scatter": [
           {
            "fillpattern": {
             "fillmode": "overlay",
             "size": 10,
             "solidity": 0.2
            },
            "type": "scatter"
           }
          ],
          "scatter3d": [
           {
            "line": {
             "colorbar": {
              "outlinewidth": 0,
              "ticks": ""
             }
            },
            "marker": {
             "colorbar": {
              "outlinewidth": 0,
              "ticks": ""
             }
            },
            "type": "scatter3d"
           }
          ],
          "scattercarpet": [
           {
            "marker": {
             "colorbar": {
              "outlinewidth": 0,
              "ticks": ""
             }
            },
            "type": "scattercarpet"
           }
          ],
          "scattergeo": [
           {
            "marker": {
             "colorbar": {
              "outlinewidth": 0,
              "ticks": ""
             }
            },
            "type": "scattergeo"
           }
          ],
          "scattergl": [
           {
            "marker": {
             "colorbar": {
              "outlinewidth": 0,
              "ticks": ""
             }
            },
            "type": "scattergl"
           }
          ],
          "scattermapbox": [
           {
            "marker": {
             "colorbar": {
              "outlinewidth": 0,
              "ticks": ""
             }
            },
            "type": "scattermapbox"
           }
          ],
          "scatterpolar": [
           {
            "marker": {
             "colorbar": {
              "outlinewidth": 0,
              "ticks": ""
             }
            },
            "type": "scatterpolar"
           }
          ],
          "scatterpolargl": [
           {
            "marker": {
             "colorbar": {
              "outlinewidth": 0,
              "ticks": ""
             }
            },
            "type": "scatterpolargl"
           }
          ],
          "scatterternary": [
           {
            "marker": {
             "colorbar": {
              "outlinewidth": 0,
              "ticks": ""
             }
            },
            "type": "scatterternary"
           }
          ],
          "surface": [
           {
            "colorbar": {
             "outlinewidth": 0,
             "ticks": ""
            },
            "colorscale": [
             [
              0,
              "#0d0887"
             ],
             [
              0.1111111111111111,
              "#46039f"
             ],
             [
              0.2222222222222222,
              "#7201a8"
             ],
             [
              0.3333333333333333,
              "#9c179e"
             ],
             [
              0.4444444444444444,
              "#bd3786"
             ],
             [
              0.5555555555555556,
              "#d8576b"
             ],
             [
              0.6666666666666666,
              "#ed7953"
             ],
             [
              0.7777777777777778,
              "#fb9f3a"
             ],
             [
              0.8888888888888888,
              "#fdca26"
             ],
             [
              1,
              "#f0f921"
             ]
            ],
            "type": "surface"
           }
          ],
          "table": [
           {
            "cells": {
             "fill": {
              "color": "#EBF0F8"
             },
             "line": {
              "color": "white"
             }
            },
            "header": {
             "fill": {
              "color": "#C8D4E3"
             },
             "line": {
              "color": "white"
             }
            },
            "type": "table"
           }
          ]
         },
         "layout": {
          "annotationdefaults": {
           "arrowcolor": "#2a3f5f",
           "arrowhead": 0,
           "arrowwidth": 1
          },
          "autotypenumbers": "strict",
          "coloraxis": {
           "colorbar": {
            "outlinewidth": 0,
            "ticks": ""
           }
          },
          "colorscale": {
           "diverging": [
            [
             0,
             "#8e0152"
            ],
            [
             0.1,
             "#c51b7d"
            ],
            [
             0.2,
             "#de77ae"
            ],
            [
             0.3,
             "#f1b6da"
            ],
            [
             0.4,
             "#fde0ef"
            ],
            [
             0.5,
             "#f7f7f7"
            ],
            [
             0.6,
             "#e6f5d0"
            ],
            [
             0.7,
             "#b8e186"
            ],
            [
             0.8,
             "#7fbc41"
            ],
            [
             0.9,
             "#4d9221"
            ],
            [
             1,
             "#276419"
            ]
           ],
           "sequential": [
            [
             0,
             "#0d0887"
            ],
            [
             0.1111111111111111,
             "#46039f"
            ],
            [
             0.2222222222222222,
             "#7201a8"
            ],
            [
             0.3333333333333333,
             "#9c179e"
            ],
            [
             0.4444444444444444,
             "#bd3786"
            ],
            [
             0.5555555555555556,
             "#d8576b"
            ],
            [
             0.6666666666666666,
             "#ed7953"
            ],
            [
             0.7777777777777778,
             "#fb9f3a"
            ],
            [
             0.8888888888888888,
             "#fdca26"
            ],
            [
             1,
             "#f0f921"
            ]
           ],
           "sequentialminus": [
            [
             0,
             "#0d0887"
            ],
            [
             0.1111111111111111,
             "#46039f"
            ],
            [
             0.2222222222222222,
             "#7201a8"
            ],
            [
             0.3333333333333333,
             "#9c179e"
            ],
            [
             0.4444444444444444,
             "#bd3786"
            ],
            [
             0.5555555555555556,
             "#d8576b"
            ],
            [
             0.6666666666666666,
             "#ed7953"
            ],
            [
             0.7777777777777778,
             "#fb9f3a"
            ],
            [
             0.8888888888888888,
             "#fdca26"
            ],
            [
             1,
             "#f0f921"
            ]
           ]
          },
          "colorway": [
           "#636efa",
           "#EF553B",
           "#00cc96",
           "#ab63fa",
           "#FFA15A",
           "#19d3f3",
           "#FF6692",
           "#B6E880",
           "#FF97FF",
           "#FECB52"
          ],
          "font": {
           "color": "#2a3f5f"
          },
          "geo": {
           "bgcolor": "white",
           "lakecolor": "white",
           "landcolor": "#E5ECF6",
           "showlakes": true,
           "showland": true,
           "subunitcolor": "white"
          },
          "hoverlabel": {
           "align": "left"
          },
          "hovermode": "closest",
          "mapbox": {
           "style": "light"
          },
          "paper_bgcolor": "white",
          "plot_bgcolor": "#E5ECF6",
          "polar": {
           "angularaxis": {
            "gridcolor": "white",
            "linecolor": "white",
            "ticks": ""
           },
           "bgcolor": "#E5ECF6",
           "radialaxis": {
            "gridcolor": "white",
            "linecolor": "white",
            "ticks": ""
           }
          },
          "scene": {
           "xaxis": {
            "backgroundcolor": "#E5ECF6",
            "gridcolor": "white",
            "gridwidth": 2,
            "linecolor": "white",
            "showbackground": true,
            "ticks": "",
            "zerolinecolor": "white"
           },
           "yaxis": {
            "backgroundcolor": "#E5ECF6",
            "gridcolor": "white",
            "gridwidth": 2,
            "linecolor": "white",
            "showbackground": true,
            "ticks": "",
            "zerolinecolor": "white"
           },
           "zaxis": {
            "backgroundcolor": "#E5ECF6",
            "gridcolor": "white",
            "gridwidth": 2,
            "linecolor": "white",
            "showbackground": true,
            "ticks": "",
            "zerolinecolor": "white"
           }
          },
          "shapedefaults": {
           "line": {
            "color": "#2a3f5f"
           }
          },
          "ternary": {
           "aaxis": {
            "gridcolor": "white",
            "linecolor": "white",
            "ticks": ""
           },
           "baxis": {
            "gridcolor": "white",
            "linecolor": "white",
            "ticks": ""
           },
           "bgcolor": "#E5ECF6",
           "caxis": {
            "gridcolor": "white",
            "linecolor": "white",
            "ticks": ""
           }
          },
          "title": {
           "x": 0.05
          },
          "xaxis": {
           "automargin": true,
           "gridcolor": "white",
           "linecolor": "white",
           "ticks": "",
           "title": {
            "standoff": 15
           },
           "zerolinecolor": "white",
           "zerolinewidth": 2
          },
          "yaxis": {
           "automargin": true,
           "gridcolor": "white",
           "linecolor": "white",
           "ticks": "",
           "title": {
            "standoff": 15
           },
           "zerolinecolor": "white",
           "zerolinewidth": 2
          }
         }
        },
        "title": {
         "text": "Precio aceite"
        },
        "xaxis": {
         "tickfont": {
          "size": 22
         },
         "title": {
          "text": "Precio medio por kg"
         }
        }
       }
      }
     },
     "metadata": {},
     "output_type": "display_data"
    }
   ],
   "source": [
    "trace1 = go.Bar(x = [9.6,8.7,8.2],\n",
    "               y =ace.index ,\n",
    "               name = 'Precio aceite',\n",
    "               orientation = 'h',\n",
    "               marker = dict(color = 'rgba(30,144,255, 0.5)',\n",
    "                line = dict(color='rgb(0,0,0)', width = 1.5)))\n",
    "\n",
    "data = [trace1]\n",
    "\n",
    "layout = go.Layout(barmode = \"group\", title='Precio aceite', xaxis_title=\"Precio medio por kg\",xaxis=dict(tickfont=dict(size=22)))\n",
    "\n",
    "fig = go.Figure(data = data, layout = layout)\n",
    "\n",
    "display(fig)"
   ]
  },
  {
   "cell_type": "code",
   "execution_count": 86,
   "metadata": {},
   "outputs": [],
   "source": [
    "#carbonell = aceites[aceites['supermarket'].str.contains('mercadona.es')]\n",
    "#carbonell[carbonell['supermarket'] == 'mercadona-es' ]\n",
    "#carbonell.name.unique()"
   ]
  },
  {
   "cell_type": "markdown",
   "metadata": {},
   "source": [
    "<h1> Meat"
   ]
  },
  {
   "cell_type": "code",
   "execution_count": 87,
   "metadata": {},
   "outputs": [],
   "source": [
    "pd.options.display.max_rows = 90"
   ]
  },
  {
   "cell_type": "code",
   "execution_count": 88,
   "metadata": {},
   "outputs": [
    {
     "data": {
      "text/plain": [
       "Series([], Name: price, dtype: object)"
      ]
     },
     "execution_count": 88,
     "metadata": {},
     "output_type": "execute_result"
    }
   ],
   "source": [
    "# calculo la media de la columna precios. Este dato lo descartaria y me quedaria con la media de precio por litro\n",
    "carnes.groupby('supermarket')['price'].mean()"
   ]
  },
  {
   "cell_type": "code",
   "execution_count": 89,
   "metadata": {},
   "outputs": [
    {
     "data": {
      "text/plain": [
       "array([], dtype=object)"
      ]
     },
     "execution_count": 89,
     "metadata": {},
     "output_type": "execute_result"
    }
   ],
   "source": [
    "carnes.reference_unit.unique()"
   ]
  },
  {
   "cell_type": "code",
   "execution_count": 90,
   "metadata": {},
   "outputs": [],
   "source": [
    "#to calculate the average per kg I get rid of the elements whose measurement is not expressed in €/kg (for example trays)\n",
    "carnes_unidad = carnes[carnes['reference_unit'] == 'kg' ]\n"
   ]
  },
  {
   "cell_type": "code",
   "execution_count": 91,
   "metadata": {},
   "outputs": [
    {
     "data": {
      "text/plain": [
       "Series([], Name: reference_price, dtype: object)"
      ]
     },
     "execution_count": 91,
     "metadata": {},
     "output_type": "execute_result"
    }
   ],
   "source": [
    "#average meat price in €/kg\n",
    "car = carnes_unidad.groupby('supermarket')['reference_price'].mean().sort_values(ascending=False)\n",
    "car"
   ]
  },
  {
   "cell_type": "code",
   "execution_count": 92,
   "metadata": {},
   "outputs": [
    {
     "data": {
      "application/vnd.plotly.v1+json": {
       "config": {
        "plotlyServerURL": "https://plot.ly"
       },
       "data": [
        {
         "marker": {
          "color": "rgba(30,144,255, 0.5)",
          "line": {
           "color": "rgb(0,0,0)",
           "width": 1.5
          }
         },
         "name": "Precio carne",
         "orientation": "h",
         "type": "bar",
         "x": [],
         "y": []
        }
       ],
       "layout": {
        "barmode": "group",
        "template": {
         "data": {
          "bar": [
           {
            "error_x": {
             "color": "#2a3f5f"
            },
            "error_y": {
             "color": "#2a3f5f"
            },
            "marker": {
             "line": {
              "color": "#E5ECF6",
              "width": 0.5
             },
             "pattern": {
              "fillmode": "overlay",
              "size": 10,
              "solidity": 0.2
             }
            },
            "type": "bar"
           }
          ],
          "barpolar": [
           {
            "marker": {
             "line": {
              "color": "#E5ECF6",
              "width": 0.5
             },
             "pattern": {
              "fillmode": "overlay",
              "size": 10,
              "solidity": 0.2
             }
            },
            "type": "barpolar"
           }
          ],
          "carpet": [
           {
            "aaxis": {
             "endlinecolor": "#2a3f5f",
             "gridcolor": "white",
             "linecolor": "white",
             "minorgridcolor": "white",
             "startlinecolor": "#2a3f5f"
            },
            "baxis": {
             "endlinecolor": "#2a3f5f",
             "gridcolor": "white",
             "linecolor": "white",
             "minorgridcolor": "white",
             "startlinecolor": "#2a3f5f"
            },
            "type": "carpet"
           }
          ],
          "choropleth": [
           {
            "colorbar": {
             "outlinewidth": 0,
             "ticks": ""
            },
            "type": "choropleth"
           }
          ],
          "contour": [
           {
            "colorbar": {
             "outlinewidth": 0,
             "ticks": ""
            },
            "colorscale": [
             [
              0,
              "#0d0887"
             ],
             [
              0.1111111111111111,
              "#46039f"
             ],
             [
              0.2222222222222222,
              "#7201a8"
             ],
             [
              0.3333333333333333,
              "#9c179e"
             ],
             [
              0.4444444444444444,
              "#bd3786"
             ],
             [
              0.5555555555555556,
              "#d8576b"
             ],
             [
              0.6666666666666666,
              "#ed7953"
             ],
             [
              0.7777777777777778,
              "#fb9f3a"
             ],
             [
              0.8888888888888888,
              "#fdca26"
             ],
             [
              1,
              "#f0f921"
             ]
            ],
            "type": "contour"
           }
          ],
          "contourcarpet": [
           {
            "colorbar": {
             "outlinewidth": 0,
             "ticks": ""
            },
            "type": "contourcarpet"
           }
          ],
          "heatmap": [
           {
            "colorbar": {
             "outlinewidth": 0,
             "ticks": ""
            },
            "colorscale": [
             [
              0,
              "#0d0887"
             ],
             [
              0.1111111111111111,
              "#46039f"
             ],
             [
              0.2222222222222222,
              "#7201a8"
             ],
             [
              0.3333333333333333,
              "#9c179e"
             ],
             [
              0.4444444444444444,
              "#bd3786"
             ],
             [
              0.5555555555555556,
              "#d8576b"
             ],
             [
              0.6666666666666666,
              "#ed7953"
             ],
             [
              0.7777777777777778,
              "#fb9f3a"
             ],
             [
              0.8888888888888888,
              "#fdca26"
             ],
             [
              1,
              "#f0f921"
             ]
            ],
            "type": "heatmap"
           }
          ],
          "heatmapgl": [
           {
            "colorbar": {
             "outlinewidth": 0,
             "ticks": ""
            },
            "colorscale": [
             [
              0,
              "#0d0887"
             ],
             [
              0.1111111111111111,
              "#46039f"
             ],
             [
              0.2222222222222222,
              "#7201a8"
             ],
             [
              0.3333333333333333,
              "#9c179e"
             ],
             [
              0.4444444444444444,
              "#bd3786"
             ],
             [
              0.5555555555555556,
              "#d8576b"
             ],
             [
              0.6666666666666666,
              "#ed7953"
             ],
             [
              0.7777777777777778,
              "#fb9f3a"
             ],
             [
              0.8888888888888888,
              "#fdca26"
             ],
             [
              1,
              "#f0f921"
             ]
            ],
            "type": "heatmapgl"
           }
          ],
          "histogram": [
           {
            "marker": {
             "pattern": {
              "fillmode": "overlay",
              "size": 10,
              "solidity": 0.2
             }
            },
            "type": "histogram"
           }
          ],
          "histogram2d": [
           {
            "colorbar": {
             "outlinewidth": 0,
             "ticks": ""
            },
            "colorscale": [
             [
              0,
              "#0d0887"
             ],
             [
              0.1111111111111111,
              "#46039f"
             ],
             [
              0.2222222222222222,
              "#7201a8"
             ],
             [
              0.3333333333333333,
              "#9c179e"
             ],
             [
              0.4444444444444444,
              "#bd3786"
             ],
             [
              0.5555555555555556,
              "#d8576b"
             ],
             [
              0.6666666666666666,
              "#ed7953"
             ],
             [
              0.7777777777777778,
              "#fb9f3a"
             ],
             [
              0.8888888888888888,
              "#fdca26"
             ],
             [
              1,
              "#f0f921"
             ]
            ],
            "type": "histogram2d"
           }
          ],
          "histogram2dcontour": [
           {
            "colorbar": {
             "outlinewidth": 0,
             "ticks": ""
            },
            "colorscale": [
             [
              0,
              "#0d0887"
             ],
             [
              0.1111111111111111,
              "#46039f"
             ],
             [
              0.2222222222222222,
              "#7201a8"
             ],
             [
              0.3333333333333333,
              "#9c179e"
             ],
             [
              0.4444444444444444,
              "#bd3786"
             ],
             [
              0.5555555555555556,
              "#d8576b"
             ],
             [
              0.6666666666666666,
              "#ed7953"
             ],
             [
              0.7777777777777778,
              "#fb9f3a"
             ],
             [
              0.8888888888888888,
              "#fdca26"
             ],
             [
              1,
              "#f0f921"
             ]
            ],
            "type": "histogram2dcontour"
           }
          ],
          "mesh3d": [
           {
            "colorbar": {
             "outlinewidth": 0,
             "ticks": ""
            },
            "type": "mesh3d"
           }
          ],
          "parcoords": [
           {
            "line": {
             "colorbar": {
              "outlinewidth": 0,
              "ticks": ""
             }
            },
            "type": "parcoords"
           }
          ],
          "pie": [
           {
            "automargin": true,
            "type": "pie"
           }
          ],
          "scatter": [
           {
            "fillpattern": {
             "fillmode": "overlay",
             "size": 10,
             "solidity": 0.2
            },
            "type": "scatter"
           }
          ],
          "scatter3d": [
           {
            "line": {
             "colorbar": {
              "outlinewidth": 0,
              "ticks": ""
             }
            },
            "marker": {
             "colorbar": {
              "outlinewidth": 0,
              "ticks": ""
             }
            },
            "type": "scatter3d"
           }
          ],
          "scattercarpet": [
           {
            "marker": {
             "colorbar": {
              "outlinewidth": 0,
              "ticks": ""
             }
            },
            "type": "scattercarpet"
           }
          ],
          "scattergeo": [
           {
            "marker": {
             "colorbar": {
              "outlinewidth": 0,
              "ticks": ""
             }
            },
            "type": "scattergeo"
           }
          ],
          "scattergl": [
           {
            "marker": {
             "colorbar": {
              "outlinewidth": 0,
              "ticks": ""
             }
            },
            "type": "scattergl"
           }
          ],
          "scattermapbox": [
           {
            "marker": {
             "colorbar": {
              "outlinewidth": 0,
              "ticks": ""
             }
            },
            "type": "scattermapbox"
           }
          ],
          "scatterpolar": [
           {
            "marker": {
             "colorbar": {
              "outlinewidth": 0,
              "ticks": ""
             }
            },
            "type": "scatterpolar"
           }
          ],
          "scatterpolargl": [
           {
            "marker": {
             "colorbar": {
              "outlinewidth": 0,
              "ticks": ""
             }
            },
            "type": "scatterpolargl"
           }
          ],
          "scatterternary": [
           {
            "marker": {
             "colorbar": {
              "outlinewidth": 0,
              "ticks": ""
             }
            },
            "type": "scatterternary"
           }
          ],
          "surface": [
           {
            "colorbar": {
             "outlinewidth": 0,
             "ticks": ""
            },
            "colorscale": [
             [
              0,
              "#0d0887"
             ],
             [
              0.1111111111111111,
              "#46039f"
             ],
             [
              0.2222222222222222,
              "#7201a8"
             ],
             [
              0.3333333333333333,
              "#9c179e"
             ],
             [
              0.4444444444444444,
              "#bd3786"
             ],
             [
              0.5555555555555556,
              "#d8576b"
             ],
             [
              0.6666666666666666,
              "#ed7953"
             ],
             [
              0.7777777777777778,
              "#fb9f3a"
             ],
             [
              0.8888888888888888,
              "#fdca26"
             ],
             [
              1,
              "#f0f921"
             ]
            ],
            "type": "surface"
           }
          ],
          "table": [
           {
            "cells": {
             "fill": {
              "color": "#EBF0F8"
             },
             "line": {
              "color": "white"
             }
            },
            "header": {
             "fill": {
              "color": "#C8D4E3"
             },
             "line": {
              "color": "white"
             }
            },
            "type": "table"
           }
          ]
         },
         "layout": {
          "annotationdefaults": {
           "arrowcolor": "#2a3f5f",
           "arrowhead": 0,
           "arrowwidth": 1
          },
          "autotypenumbers": "strict",
          "coloraxis": {
           "colorbar": {
            "outlinewidth": 0,
            "ticks": ""
           }
          },
          "colorscale": {
           "diverging": [
            [
             0,
             "#8e0152"
            ],
            [
             0.1,
             "#c51b7d"
            ],
            [
             0.2,
             "#de77ae"
            ],
            [
             0.3,
             "#f1b6da"
            ],
            [
             0.4,
             "#fde0ef"
            ],
            [
             0.5,
             "#f7f7f7"
            ],
            [
             0.6,
             "#e6f5d0"
            ],
            [
             0.7,
             "#b8e186"
            ],
            [
             0.8,
             "#7fbc41"
            ],
            [
             0.9,
             "#4d9221"
            ],
            [
             1,
             "#276419"
            ]
           ],
           "sequential": [
            [
             0,
             "#0d0887"
            ],
            [
             0.1111111111111111,
             "#46039f"
            ],
            [
             0.2222222222222222,
             "#7201a8"
            ],
            [
             0.3333333333333333,
             "#9c179e"
            ],
            [
             0.4444444444444444,
             "#bd3786"
            ],
            [
             0.5555555555555556,
             "#d8576b"
            ],
            [
             0.6666666666666666,
             "#ed7953"
            ],
            [
             0.7777777777777778,
             "#fb9f3a"
            ],
            [
             0.8888888888888888,
             "#fdca26"
            ],
            [
             1,
             "#f0f921"
            ]
           ],
           "sequentialminus": [
            [
             0,
             "#0d0887"
            ],
            [
             0.1111111111111111,
             "#46039f"
            ],
            [
             0.2222222222222222,
             "#7201a8"
            ],
            [
             0.3333333333333333,
             "#9c179e"
            ],
            [
             0.4444444444444444,
             "#bd3786"
            ],
            [
             0.5555555555555556,
             "#d8576b"
            ],
            [
             0.6666666666666666,
             "#ed7953"
            ],
            [
             0.7777777777777778,
             "#fb9f3a"
            ],
            [
             0.8888888888888888,
             "#fdca26"
            ],
            [
             1,
             "#f0f921"
            ]
           ]
          },
          "colorway": [
           "#636efa",
           "#EF553B",
           "#00cc96",
           "#ab63fa",
           "#FFA15A",
           "#19d3f3",
           "#FF6692",
           "#B6E880",
           "#FF97FF",
           "#FECB52"
          ],
          "font": {
           "color": "#2a3f5f"
          },
          "geo": {
           "bgcolor": "white",
           "lakecolor": "white",
           "landcolor": "#E5ECF6",
           "showlakes": true,
           "showland": true,
           "subunitcolor": "white"
          },
          "hoverlabel": {
           "align": "left"
          },
          "hovermode": "closest",
          "mapbox": {
           "style": "light"
          },
          "paper_bgcolor": "white",
          "plot_bgcolor": "#E5ECF6",
          "polar": {
           "angularaxis": {
            "gridcolor": "white",
            "linecolor": "white",
            "ticks": ""
           },
           "bgcolor": "#E5ECF6",
           "radialaxis": {
            "gridcolor": "white",
            "linecolor": "white",
            "ticks": ""
           }
          },
          "scene": {
           "xaxis": {
            "backgroundcolor": "#E5ECF6",
            "gridcolor": "white",
            "gridwidth": 2,
            "linecolor": "white",
            "showbackground": true,
            "ticks": "",
            "zerolinecolor": "white"
           },
           "yaxis": {
            "backgroundcolor": "#E5ECF6",
            "gridcolor": "white",
            "gridwidth": 2,
            "linecolor": "white",
            "showbackground": true,
            "ticks": "",
            "zerolinecolor": "white"
           },
           "zaxis": {
            "backgroundcolor": "#E5ECF6",
            "gridcolor": "white",
            "gridwidth": 2,
            "linecolor": "white",
            "showbackground": true,
            "ticks": "",
            "zerolinecolor": "white"
           }
          },
          "shapedefaults": {
           "line": {
            "color": "#2a3f5f"
           }
          },
          "ternary": {
           "aaxis": {
            "gridcolor": "white",
            "linecolor": "white",
            "ticks": ""
           },
           "baxis": {
            "gridcolor": "white",
            "linecolor": "white",
            "ticks": ""
           },
           "bgcolor": "#E5ECF6",
           "caxis": {
            "gridcolor": "white",
            "linecolor": "white",
            "ticks": ""
           }
          },
          "title": {
           "x": 0.05
          },
          "xaxis": {
           "automargin": true,
           "gridcolor": "white",
           "linecolor": "white",
           "ticks": "",
           "title": {
            "standoff": 15
           },
           "zerolinecolor": "white",
           "zerolinewidth": 2
          },
          "yaxis": {
           "automargin": true,
           "gridcolor": "white",
           "linecolor": "white",
           "ticks": "",
           "title": {
            "standoff": 15
           },
           "zerolinecolor": "white",
           "zerolinewidth": 2
          }
         }
        },
        "title": {
         "text": "Precio carne"
        },
        "xaxis": {
         "tickfont": {
          "size": 18
         },
         "title": {
          "text": "Precio medio por kg"
         }
        }
       }
      }
     },
     "metadata": {},
     "output_type": "display_data"
    }
   ],
   "source": [
    "trace1 = go.Bar(x = car.values,\n",
    "               y = car.index,\n",
    "               name = 'Precio carne',\n",
    "               orientation = 'h',\n",
    "               marker = dict(color = 'rgba(30,144,255, 0.5)',\n",
    "                line = dict(color='rgb(0,0,0)', width = 1.5)))\n",
    "\n",
    "data = [trace1]\n",
    "\n",
    "layout = go.Layout(barmode = \"group\", title='Precio carne', xaxis_title=\"Precio medio por kg\", xaxis=dict(tickfont=dict(size=18)))\n",
    "\n",
    "fig = go.Figure(data = data, layout = layout)\n",
    "\n",
    "display(fig)"
   ]
  },
  {
   "cell_type": "markdown",
   "metadata": {},
   "source": [
    "<h1> Fruits and vegetables"
   ]
  },
  {
   "cell_type": "code",
   "execution_count": 93,
   "metadata": {},
   "outputs": [
    {
     "data": {
      "text/plain": [
       "Series([], Name: price, dtype: object)"
      ]
     },
     "execution_count": 93,
     "metadata": {},
     "output_type": "execute_result"
    }
   ],
   "source": [
    "#I would discard this price and take the average price per kilo\n",
    "frutas.groupby('supermarket')['price'].mean()"
   ]
  },
  {
   "cell_type": "code",
   "execution_count": 94,
   "metadata": {},
   "outputs": [
    {
     "data": {
      "text/plain": [
       "Series([], Name: reference_price, dtype: object)"
      ]
     },
     "execution_count": 94,
     "metadata": {},
     "output_type": "execute_result"
    }
   ],
   "source": [
    "#to calculate the average per kg I get rid of the elements whose measurement is not expressed in €/kg (for example trays)\n",
    "frutas_unidad = frutas[frutas['reference_unit'] == 'kg' ]\n",
    "frut = frutas_unidad.groupby('supermarket')['reference_price'].mean().sort_values(ascending=False)\n",
    "frut"
   ]
  },
  {
   "cell_type": "code",
   "execution_count": 95,
   "metadata": {},
   "outputs": [
    {
     "data": {
      "application/vnd.plotly.v1+json": {
       "config": {
        "plotlyServerURL": "https://plot.ly"
       },
       "data": [
        {
         "marker": {
          "color": "rgba(30,144,255, 0.5)",
          "line": {
           "color": "rgb(0,0,0)",
           "width": 1.5
          }
         },
         "name": "Precio fruta",
         "orientation": "h",
         "type": "bar",
         "x": [],
         "y": []
        }
       ],
       "layout": {
        "barmode": "group",
        "template": {
         "data": {
          "bar": [
           {
            "error_x": {
             "color": "#2a3f5f"
            },
            "error_y": {
             "color": "#2a3f5f"
            },
            "marker": {
             "line": {
              "color": "#E5ECF6",
              "width": 0.5
             },
             "pattern": {
              "fillmode": "overlay",
              "size": 10,
              "solidity": 0.2
             }
            },
            "type": "bar"
           }
          ],
          "barpolar": [
           {
            "marker": {
             "line": {
              "color": "#E5ECF6",
              "width": 0.5
             },
             "pattern": {
              "fillmode": "overlay",
              "size": 10,
              "solidity": 0.2
             }
            },
            "type": "barpolar"
           }
          ],
          "carpet": [
           {
            "aaxis": {
             "endlinecolor": "#2a3f5f",
             "gridcolor": "white",
             "linecolor": "white",
             "minorgridcolor": "white",
             "startlinecolor": "#2a3f5f"
            },
            "baxis": {
             "endlinecolor": "#2a3f5f",
             "gridcolor": "white",
             "linecolor": "white",
             "minorgridcolor": "white",
             "startlinecolor": "#2a3f5f"
            },
            "type": "carpet"
           }
          ],
          "choropleth": [
           {
            "colorbar": {
             "outlinewidth": 0,
             "ticks": ""
            },
            "type": "choropleth"
           }
          ],
          "contour": [
           {
            "colorbar": {
             "outlinewidth": 0,
             "ticks": ""
            },
            "colorscale": [
             [
              0,
              "#0d0887"
             ],
             [
              0.1111111111111111,
              "#46039f"
             ],
             [
              0.2222222222222222,
              "#7201a8"
             ],
             [
              0.3333333333333333,
              "#9c179e"
             ],
             [
              0.4444444444444444,
              "#bd3786"
             ],
             [
              0.5555555555555556,
              "#d8576b"
             ],
             [
              0.6666666666666666,
              "#ed7953"
             ],
             [
              0.7777777777777778,
              "#fb9f3a"
             ],
             [
              0.8888888888888888,
              "#fdca26"
             ],
             [
              1,
              "#f0f921"
             ]
            ],
            "type": "contour"
           }
          ],
          "contourcarpet": [
           {
            "colorbar": {
             "outlinewidth": 0,
             "ticks": ""
            },
            "type": "contourcarpet"
           }
          ],
          "heatmap": [
           {
            "colorbar": {
             "outlinewidth": 0,
             "ticks": ""
            },
            "colorscale": [
             [
              0,
              "#0d0887"
             ],
             [
              0.1111111111111111,
              "#46039f"
             ],
             [
              0.2222222222222222,
              "#7201a8"
             ],
             [
              0.3333333333333333,
              "#9c179e"
             ],
             [
              0.4444444444444444,
              "#bd3786"
             ],
             [
              0.5555555555555556,
              "#d8576b"
             ],
             [
              0.6666666666666666,
              "#ed7953"
             ],
             [
              0.7777777777777778,
              "#fb9f3a"
             ],
             [
              0.8888888888888888,
              "#fdca26"
             ],
             [
              1,
              "#f0f921"
             ]
            ],
            "type": "heatmap"
           }
          ],
          "heatmapgl": [
           {
            "colorbar": {
             "outlinewidth": 0,
             "ticks": ""
            },
            "colorscale": [
             [
              0,
              "#0d0887"
             ],
             [
              0.1111111111111111,
              "#46039f"
             ],
             [
              0.2222222222222222,
              "#7201a8"
             ],
             [
              0.3333333333333333,
              "#9c179e"
             ],
             [
              0.4444444444444444,
              "#bd3786"
             ],
             [
              0.5555555555555556,
              "#d8576b"
             ],
             [
              0.6666666666666666,
              "#ed7953"
             ],
             [
              0.7777777777777778,
              "#fb9f3a"
             ],
             [
              0.8888888888888888,
              "#fdca26"
             ],
             [
              1,
              "#f0f921"
             ]
            ],
            "type": "heatmapgl"
           }
          ],
          "histogram": [
           {
            "marker": {
             "pattern": {
              "fillmode": "overlay",
              "size": 10,
              "solidity": 0.2
             }
            },
            "type": "histogram"
           }
          ],
          "histogram2d": [
           {
            "colorbar": {
             "outlinewidth": 0,
             "ticks": ""
            },
            "colorscale": [
             [
              0,
              "#0d0887"
             ],
             [
              0.1111111111111111,
              "#46039f"
             ],
             [
              0.2222222222222222,
              "#7201a8"
             ],
             [
              0.3333333333333333,
              "#9c179e"
             ],
             [
              0.4444444444444444,
              "#bd3786"
             ],
             [
              0.5555555555555556,
              "#d8576b"
             ],
             [
              0.6666666666666666,
              "#ed7953"
             ],
             [
              0.7777777777777778,
              "#fb9f3a"
             ],
             [
              0.8888888888888888,
              "#fdca26"
             ],
             [
              1,
              "#f0f921"
             ]
            ],
            "type": "histogram2d"
           }
          ],
          "histogram2dcontour": [
           {
            "colorbar": {
             "outlinewidth": 0,
             "ticks": ""
            },
            "colorscale": [
             [
              0,
              "#0d0887"
             ],
             [
              0.1111111111111111,
              "#46039f"
             ],
             [
              0.2222222222222222,
              "#7201a8"
             ],
             [
              0.3333333333333333,
              "#9c179e"
             ],
             [
              0.4444444444444444,
              "#bd3786"
             ],
             [
              0.5555555555555556,
              "#d8576b"
             ],
             [
              0.6666666666666666,
              "#ed7953"
             ],
             [
              0.7777777777777778,
              "#fb9f3a"
             ],
             [
              0.8888888888888888,
              "#fdca26"
             ],
             [
              1,
              "#f0f921"
             ]
            ],
            "type": "histogram2dcontour"
           }
          ],
          "mesh3d": [
           {
            "colorbar": {
             "outlinewidth": 0,
             "ticks": ""
            },
            "type": "mesh3d"
           }
          ],
          "parcoords": [
           {
            "line": {
             "colorbar": {
              "outlinewidth": 0,
              "ticks": ""
             }
            },
            "type": "parcoords"
           }
          ],
          "pie": [
           {
            "automargin": true,
            "type": "pie"
           }
          ],
          "scatter": [
           {
            "fillpattern": {
             "fillmode": "overlay",
             "size": 10,
             "solidity": 0.2
            },
            "type": "scatter"
           }
          ],
          "scatter3d": [
           {
            "line": {
             "colorbar": {
              "outlinewidth": 0,
              "ticks": ""
             }
            },
            "marker": {
             "colorbar": {
              "outlinewidth": 0,
              "ticks": ""
             }
            },
            "type": "scatter3d"
           }
          ],
          "scattercarpet": [
           {
            "marker": {
             "colorbar": {
              "outlinewidth": 0,
              "ticks": ""
             }
            },
            "type": "scattercarpet"
           }
          ],
          "scattergeo": [
           {
            "marker": {
             "colorbar": {
              "outlinewidth": 0,
              "ticks": ""
             }
            },
            "type": "scattergeo"
           }
          ],
          "scattergl": [
           {
            "marker": {
             "colorbar": {
              "outlinewidth": 0,
              "ticks": ""
             }
            },
            "type": "scattergl"
           }
          ],
          "scattermapbox": [
           {
            "marker": {
             "colorbar": {
              "outlinewidth": 0,
              "ticks": ""
             }
            },
            "type": "scattermapbox"
           }
          ],
          "scatterpolar": [
           {
            "marker": {
             "colorbar": {
              "outlinewidth": 0,
              "ticks": ""
             }
            },
            "type": "scatterpolar"
           }
          ],
          "scatterpolargl": [
           {
            "marker": {
             "colorbar": {
              "outlinewidth": 0,
              "ticks": ""
             }
            },
            "type": "scatterpolargl"
           }
          ],
          "scatterternary": [
           {
            "marker": {
             "colorbar": {
              "outlinewidth": 0,
              "ticks": ""
             }
            },
            "type": "scatterternary"
           }
          ],
          "surface": [
           {
            "colorbar": {
             "outlinewidth": 0,
             "ticks": ""
            },
            "colorscale": [
             [
              0,
              "#0d0887"
             ],
             [
              0.1111111111111111,
              "#46039f"
             ],
             [
              0.2222222222222222,
              "#7201a8"
             ],
             [
              0.3333333333333333,
              "#9c179e"
             ],
             [
              0.4444444444444444,
              "#bd3786"
             ],
             [
              0.5555555555555556,
              "#d8576b"
             ],
             [
              0.6666666666666666,
              "#ed7953"
             ],
             [
              0.7777777777777778,
              "#fb9f3a"
             ],
             [
              0.8888888888888888,
              "#fdca26"
             ],
             [
              1,
              "#f0f921"
             ]
            ],
            "type": "surface"
           }
          ],
          "table": [
           {
            "cells": {
             "fill": {
              "color": "#EBF0F8"
             },
             "line": {
              "color": "white"
             }
            },
            "header": {
             "fill": {
              "color": "#C8D4E3"
             },
             "line": {
              "color": "white"
             }
            },
            "type": "table"
           }
          ]
         },
         "layout": {
          "annotationdefaults": {
           "arrowcolor": "#2a3f5f",
           "arrowhead": 0,
           "arrowwidth": 1
          },
          "autotypenumbers": "strict",
          "coloraxis": {
           "colorbar": {
            "outlinewidth": 0,
            "ticks": ""
           }
          },
          "colorscale": {
           "diverging": [
            [
             0,
             "#8e0152"
            ],
            [
             0.1,
             "#c51b7d"
            ],
            [
             0.2,
             "#de77ae"
            ],
            [
             0.3,
             "#f1b6da"
            ],
            [
             0.4,
             "#fde0ef"
            ],
            [
             0.5,
             "#f7f7f7"
            ],
            [
             0.6,
             "#e6f5d0"
            ],
            [
             0.7,
             "#b8e186"
            ],
            [
             0.8,
             "#7fbc41"
            ],
            [
             0.9,
             "#4d9221"
            ],
            [
             1,
             "#276419"
            ]
           ],
           "sequential": [
            [
             0,
             "#0d0887"
            ],
            [
             0.1111111111111111,
             "#46039f"
            ],
            [
             0.2222222222222222,
             "#7201a8"
            ],
            [
             0.3333333333333333,
             "#9c179e"
            ],
            [
             0.4444444444444444,
             "#bd3786"
            ],
            [
             0.5555555555555556,
             "#d8576b"
            ],
            [
             0.6666666666666666,
             "#ed7953"
            ],
            [
             0.7777777777777778,
             "#fb9f3a"
            ],
            [
             0.8888888888888888,
             "#fdca26"
            ],
            [
             1,
             "#f0f921"
            ]
           ],
           "sequentialminus": [
            [
             0,
             "#0d0887"
            ],
            [
             0.1111111111111111,
             "#46039f"
            ],
            [
             0.2222222222222222,
             "#7201a8"
            ],
            [
             0.3333333333333333,
             "#9c179e"
            ],
            [
             0.4444444444444444,
             "#bd3786"
            ],
            [
             0.5555555555555556,
             "#d8576b"
            ],
            [
             0.6666666666666666,
             "#ed7953"
            ],
            [
             0.7777777777777778,
             "#fb9f3a"
            ],
            [
             0.8888888888888888,
             "#fdca26"
            ],
            [
             1,
             "#f0f921"
            ]
           ]
          },
          "colorway": [
           "#636efa",
           "#EF553B",
           "#00cc96",
           "#ab63fa",
           "#FFA15A",
           "#19d3f3",
           "#FF6692",
           "#B6E880",
           "#FF97FF",
           "#FECB52"
          ],
          "font": {
           "color": "#2a3f5f"
          },
          "geo": {
           "bgcolor": "white",
           "lakecolor": "white",
           "landcolor": "#E5ECF6",
           "showlakes": true,
           "showland": true,
           "subunitcolor": "white"
          },
          "hoverlabel": {
           "align": "left"
          },
          "hovermode": "closest",
          "mapbox": {
           "style": "light"
          },
          "paper_bgcolor": "white",
          "plot_bgcolor": "#E5ECF6",
          "polar": {
           "angularaxis": {
            "gridcolor": "white",
            "linecolor": "white",
            "ticks": ""
           },
           "bgcolor": "#E5ECF6",
           "radialaxis": {
            "gridcolor": "white",
            "linecolor": "white",
            "ticks": ""
           }
          },
          "scene": {
           "xaxis": {
            "backgroundcolor": "#E5ECF6",
            "gridcolor": "white",
            "gridwidth": 2,
            "linecolor": "white",
            "showbackground": true,
            "ticks": "",
            "zerolinecolor": "white"
           },
           "yaxis": {
            "backgroundcolor": "#E5ECF6",
            "gridcolor": "white",
            "gridwidth": 2,
            "linecolor": "white",
            "showbackground": true,
            "ticks": "",
            "zerolinecolor": "white"
           },
           "zaxis": {
            "backgroundcolor": "#E5ECF6",
            "gridcolor": "white",
            "gridwidth": 2,
            "linecolor": "white",
            "showbackground": true,
            "ticks": "",
            "zerolinecolor": "white"
           }
          },
          "shapedefaults": {
           "line": {
            "color": "#2a3f5f"
           }
          },
          "ternary": {
           "aaxis": {
            "gridcolor": "white",
            "linecolor": "white",
            "ticks": ""
           },
           "baxis": {
            "gridcolor": "white",
            "linecolor": "white",
            "ticks": ""
           },
           "bgcolor": "#E5ECF6",
           "caxis": {
            "gridcolor": "white",
            "linecolor": "white",
            "ticks": ""
           }
          },
          "title": {
           "x": 0.05
          },
          "xaxis": {
           "automargin": true,
           "gridcolor": "white",
           "linecolor": "white",
           "ticks": "",
           "title": {
            "standoff": 15
           },
           "zerolinecolor": "white",
           "zerolinewidth": 2
          },
          "yaxis": {
           "automargin": true,
           "gridcolor": "white",
           "linecolor": "white",
           "ticks": "",
           "title": {
            "standoff": 15
           },
           "zerolinecolor": "white",
           "zerolinewidth": 2
          }
         }
        },
        "title": {
         "text": "Precio fruta"
        },
        "xaxis": {
         "tickfont": {
          "size": 18
         },
         "title": {
          "text": "Precio medio por kg"
         }
        }
       }
      }
     },
     "metadata": {},
     "output_type": "display_data"
    }
   ],
   "source": [
    "trace1 = go.Bar(x = frut.values,\n",
    "               y = frut.index ,\n",
    "               name = 'Precio fruta',\n",
    "               orientation = 'h',\n",
    "               marker = dict(color = 'rgba(30,144,255, 0.5)',\n",
    "                line = dict(color='rgb(0,0,0)', width = 1.5)))\n",
    "\n",
    "data = [trace1]\n",
    "\n",
    "layout = go.Layout(barmode = \"group\", title='Precio fruta', xaxis_title=\"Precio medio por kg\", xaxis=dict(tickfont=dict(size=18)))\n",
    "\n",
    "fig = go.Figure(data = data, layout = layout)\n",
    "\n",
    "display(fig)"
   ]
  },
  {
   "cell_type": "markdown",
   "metadata": {},
   "source": [
    "<h1> Fish"
   ]
  },
  {
   "cell_type": "code",
   "execution_count": 96,
   "metadata": {},
   "outputs": [
    {
     "data": {
      "text/plain": [
       "supermarket\n",
       "dia.es          12.937857\n",
       "mercadona.es    12.692356\n",
       "carrefour.es    12.164286\n",
       "Name: reference_price, dtype: float64"
      ]
     },
     "execution_count": 96,
     "metadata": {},
     "output_type": "execute_result"
    }
   ],
   "source": [
    "#to calculate the average per kg I get rid of the elements whose measurement is not expressed in €/kg (for example trays)\n",
    "pescados_unidad = pescados[pescados['reference_unit'] == 'kg' ]\n",
    "pesc = pescados_unidad.groupby('supermarket')['reference_price'].mean().sort_values(ascending=False)\n",
    "pesc"
   ]
  },
  {
   "cell_type": "code",
   "execution_count": 97,
   "metadata": {},
   "outputs": [
    {
     "data": {
      "application/vnd.plotly.v1+json": {
       "config": {
        "plotlyServerURL": "https://plot.ly"
       },
       "data": [
        {
         "marker": {
          "color": "rgba(30,144,255, 0.5)",
          "line": {
           "color": "rgb(0,0,0)",
           "width": 1.5
          }
         },
         "name": "Precio pescado2",
         "orientation": "h",
         "type": "bar",
         "x": [
          12.937857142857142,
          12.692355555555555,
          12.164285714285713
         ],
         "y": [
          "dia.es",
          "mercadona.es",
          "carrefour.es"
         ]
        }
       ],
       "layout": {
        "barmode": "group",
        "template": {
         "data": {
          "bar": [
           {
            "error_x": {
             "color": "#2a3f5f"
            },
            "error_y": {
             "color": "#2a3f5f"
            },
            "marker": {
             "line": {
              "color": "#E5ECF6",
              "width": 0.5
             },
             "pattern": {
              "fillmode": "overlay",
              "size": 10,
              "solidity": 0.2
             }
            },
            "type": "bar"
           }
          ],
          "barpolar": [
           {
            "marker": {
             "line": {
              "color": "#E5ECF6",
              "width": 0.5
             },
             "pattern": {
              "fillmode": "overlay",
              "size": 10,
              "solidity": 0.2
             }
            },
            "type": "barpolar"
           }
          ],
          "carpet": [
           {
            "aaxis": {
             "endlinecolor": "#2a3f5f",
             "gridcolor": "white",
             "linecolor": "white",
             "minorgridcolor": "white",
             "startlinecolor": "#2a3f5f"
            },
            "baxis": {
             "endlinecolor": "#2a3f5f",
             "gridcolor": "white",
             "linecolor": "white",
             "minorgridcolor": "white",
             "startlinecolor": "#2a3f5f"
            },
            "type": "carpet"
           }
          ],
          "choropleth": [
           {
            "colorbar": {
             "outlinewidth": 0,
             "ticks": ""
            },
            "type": "choropleth"
           }
          ],
          "contour": [
           {
            "colorbar": {
             "outlinewidth": 0,
             "ticks": ""
            },
            "colorscale": [
             [
              0,
              "#0d0887"
             ],
             [
              0.1111111111111111,
              "#46039f"
             ],
             [
              0.2222222222222222,
              "#7201a8"
             ],
             [
              0.3333333333333333,
              "#9c179e"
             ],
             [
              0.4444444444444444,
              "#bd3786"
             ],
             [
              0.5555555555555556,
              "#d8576b"
             ],
             [
              0.6666666666666666,
              "#ed7953"
             ],
             [
              0.7777777777777778,
              "#fb9f3a"
             ],
             [
              0.8888888888888888,
              "#fdca26"
             ],
             [
              1,
              "#f0f921"
             ]
            ],
            "type": "contour"
           }
          ],
          "contourcarpet": [
           {
            "colorbar": {
             "outlinewidth": 0,
             "ticks": ""
            },
            "type": "contourcarpet"
           }
          ],
          "heatmap": [
           {
            "colorbar": {
             "outlinewidth": 0,
             "ticks": ""
            },
            "colorscale": [
             [
              0,
              "#0d0887"
             ],
             [
              0.1111111111111111,
              "#46039f"
             ],
             [
              0.2222222222222222,
              "#7201a8"
             ],
             [
              0.3333333333333333,
              "#9c179e"
             ],
             [
              0.4444444444444444,
              "#bd3786"
             ],
             [
              0.5555555555555556,
              "#d8576b"
             ],
             [
              0.6666666666666666,
              "#ed7953"
             ],
             [
              0.7777777777777778,
              "#fb9f3a"
             ],
             [
              0.8888888888888888,
              "#fdca26"
             ],
             [
              1,
              "#f0f921"
             ]
            ],
            "type": "heatmap"
           }
          ],
          "heatmapgl": [
           {
            "colorbar": {
             "outlinewidth": 0,
             "ticks": ""
            },
            "colorscale": [
             [
              0,
              "#0d0887"
             ],
             [
              0.1111111111111111,
              "#46039f"
             ],
             [
              0.2222222222222222,
              "#7201a8"
             ],
             [
              0.3333333333333333,
              "#9c179e"
             ],
             [
              0.4444444444444444,
              "#bd3786"
             ],
             [
              0.5555555555555556,
              "#d8576b"
             ],
             [
              0.6666666666666666,
              "#ed7953"
             ],
             [
              0.7777777777777778,
              "#fb9f3a"
             ],
             [
              0.8888888888888888,
              "#fdca26"
             ],
             [
              1,
              "#f0f921"
             ]
            ],
            "type": "heatmapgl"
           }
          ],
          "histogram": [
           {
            "marker": {
             "pattern": {
              "fillmode": "overlay",
              "size": 10,
              "solidity": 0.2
             }
            },
            "type": "histogram"
           }
          ],
          "histogram2d": [
           {
            "colorbar": {
             "outlinewidth": 0,
             "ticks": ""
            },
            "colorscale": [
             [
              0,
              "#0d0887"
             ],
             [
              0.1111111111111111,
              "#46039f"
             ],
             [
              0.2222222222222222,
              "#7201a8"
             ],
             [
              0.3333333333333333,
              "#9c179e"
             ],
             [
              0.4444444444444444,
              "#bd3786"
             ],
             [
              0.5555555555555556,
              "#d8576b"
             ],
             [
              0.6666666666666666,
              "#ed7953"
             ],
             [
              0.7777777777777778,
              "#fb9f3a"
             ],
             [
              0.8888888888888888,
              "#fdca26"
             ],
             [
              1,
              "#f0f921"
             ]
            ],
            "type": "histogram2d"
           }
          ],
          "histogram2dcontour": [
           {
            "colorbar": {
             "outlinewidth": 0,
             "ticks": ""
            },
            "colorscale": [
             [
              0,
              "#0d0887"
             ],
             [
              0.1111111111111111,
              "#46039f"
             ],
             [
              0.2222222222222222,
              "#7201a8"
             ],
             [
              0.3333333333333333,
              "#9c179e"
             ],
             [
              0.4444444444444444,
              "#bd3786"
             ],
             [
              0.5555555555555556,
              "#d8576b"
             ],
             [
              0.6666666666666666,
              "#ed7953"
             ],
             [
              0.7777777777777778,
              "#fb9f3a"
             ],
             [
              0.8888888888888888,
              "#fdca26"
             ],
             [
              1,
              "#f0f921"
             ]
            ],
            "type": "histogram2dcontour"
           }
          ],
          "mesh3d": [
           {
            "colorbar": {
             "outlinewidth": 0,
             "ticks": ""
            },
            "type": "mesh3d"
           }
          ],
          "parcoords": [
           {
            "line": {
             "colorbar": {
              "outlinewidth": 0,
              "ticks": ""
             }
            },
            "type": "parcoords"
           }
          ],
          "pie": [
           {
            "automargin": true,
            "type": "pie"
           }
          ],
          "scatter": [
           {
            "fillpattern": {
             "fillmode": "overlay",
             "size": 10,
             "solidity": 0.2
            },
            "type": "scatter"
           }
          ],
          "scatter3d": [
           {
            "line": {
             "colorbar": {
              "outlinewidth": 0,
              "ticks": ""
             }
            },
            "marker": {
             "colorbar": {
              "outlinewidth": 0,
              "ticks": ""
             }
            },
            "type": "scatter3d"
           }
          ],
          "scattercarpet": [
           {
            "marker": {
             "colorbar": {
              "outlinewidth": 0,
              "ticks": ""
             }
            },
            "type": "scattercarpet"
           }
          ],
          "scattergeo": [
           {
            "marker": {
             "colorbar": {
              "outlinewidth": 0,
              "ticks": ""
             }
            },
            "type": "scattergeo"
           }
          ],
          "scattergl": [
           {
            "marker": {
             "colorbar": {
              "outlinewidth": 0,
              "ticks": ""
             }
            },
            "type": "scattergl"
           }
          ],
          "scattermapbox": [
           {
            "marker": {
             "colorbar": {
              "outlinewidth": 0,
              "ticks": ""
             }
            },
            "type": "scattermapbox"
           }
          ],
          "scatterpolar": [
           {
            "marker": {
             "colorbar": {
              "outlinewidth": 0,
              "ticks": ""
             }
            },
            "type": "scatterpolar"
           }
          ],
          "scatterpolargl": [
           {
            "marker": {
             "colorbar": {
              "outlinewidth": 0,
              "ticks": ""
             }
            },
            "type": "scatterpolargl"
           }
          ],
          "scatterternary": [
           {
            "marker": {
             "colorbar": {
              "outlinewidth": 0,
              "ticks": ""
             }
            },
            "type": "scatterternary"
           }
          ],
          "surface": [
           {
            "colorbar": {
             "outlinewidth": 0,
             "ticks": ""
            },
            "colorscale": [
             [
              0,
              "#0d0887"
             ],
             [
              0.1111111111111111,
              "#46039f"
             ],
             [
              0.2222222222222222,
              "#7201a8"
             ],
             [
              0.3333333333333333,
              "#9c179e"
             ],
             [
              0.4444444444444444,
              "#bd3786"
             ],
             [
              0.5555555555555556,
              "#d8576b"
             ],
             [
              0.6666666666666666,
              "#ed7953"
             ],
             [
              0.7777777777777778,
              "#fb9f3a"
             ],
             [
              0.8888888888888888,
              "#fdca26"
             ],
             [
              1,
              "#f0f921"
             ]
            ],
            "type": "surface"
           }
          ],
          "table": [
           {
            "cells": {
             "fill": {
              "color": "#EBF0F8"
             },
             "line": {
              "color": "white"
             }
            },
            "header": {
             "fill": {
              "color": "#C8D4E3"
             },
             "line": {
              "color": "white"
             }
            },
            "type": "table"
           }
          ]
         },
         "layout": {
          "annotationdefaults": {
           "arrowcolor": "#2a3f5f",
           "arrowhead": 0,
           "arrowwidth": 1
          },
          "autotypenumbers": "strict",
          "coloraxis": {
           "colorbar": {
            "outlinewidth": 0,
            "ticks": ""
           }
          },
          "colorscale": {
           "diverging": [
            [
             0,
             "#8e0152"
            ],
            [
             0.1,
             "#c51b7d"
            ],
            [
             0.2,
             "#de77ae"
            ],
            [
             0.3,
             "#f1b6da"
            ],
            [
             0.4,
             "#fde0ef"
            ],
            [
             0.5,
             "#f7f7f7"
            ],
            [
             0.6,
             "#e6f5d0"
            ],
            [
             0.7,
             "#b8e186"
            ],
            [
             0.8,
             "#7fbc41"
            ],
            [
             0.9,
             "#4d9221"
            ],
            [
             1,
             "#276419"
            ]
           ],
           "sequential": [
            [
             0,
             "#0d0887"
            ],
            [
             0.1111111111111111,
             "#46039f"
            ],
            [
             0.2222222222222222,
             "#7201a8"
            ],
            [
             0.3333333333333333,
             "#9c179e"
            ],
            [
             0.4444444444444444,
             "#bd3786"
            ],
            [
             0.5555555555555556,
             "#d8576b"
            ],
            [
             0.6666666666666666,
             "#ed7953"
            ],
            [
             0.7777777777777778,
             "#fb9f3a"
            ],
            [
             0.8888888888888888,
             "#fdca26"
            ],
            [
             1,
             "#f0f921"
            ]
           ],
           "sequentialminus": [
            [
             0,
             "#0d0887"
            ],
            [
             0.1111111111111111,
             "#46039f"
            ],
            [
             0.2222222222222222,
             "#7201a8"
            ],
            [
             0.3333333333333333,
             "#9c179e"
            ],
            [
             0.4444444444444444,
             "#bd3786"
            ],
            [
             0.5555555555555556,
             "#d8576b"
            ],
            [
             0.6666666666666666,
             "#ed7953"
            ],
            [
             0.7777777777777778,
             "#fb9f3a"
            ],
            [
             0.8888888888888888,
             "#fdca26"
            ],
            [
             1,
             "#f0f921"
            ]
           ]
          },
          "colorway": [
           "#636efa",
           "#EF553B",
           "#00cc96",
           "#ab63fa",
           "#FFA15A",
           "#19d3f3",
           "#FF6692",
           "#B6E880",
           "#FF97FF",
           "#FECB52"
          ],
          "font": {
           "color": "#2a3f5f"
          },
          "geo": {
           "bgcolor": "white",
           "lakecolor": "white",
           "landcolor": "#E5ECF6",
           "showlakes": true,
           "showland": true,
           "subunitcolor": "white"
          },
          "hoverlabel": {
           "align": "left"
          },
          "hovermode": "closest",
          "mapbox": {
           "style": "light"
          },
          "paper_bgcolor": "white",
          "plot_bgcolor": "#E5ECF6",
          "polar": {
           "angularaxis": {
            "gridcolor": "white",
            "linecolor": "white",
            "ticks": ""
           },
           "bgcolor": "#E5ECF6",
           "radialaxis": {
            "gridcolor": "white",
            "linecolor": "white",
            "ticks": ""
           }
          },
          "scene": {
           "xaxis": {
            "backgroundcolor": "#E5ECF6",
            "gridcolor": "white",
            "gridwidth": 2,
            "linecolor": "white",
            "showbackground": true,
            "ticks": "",
            "zerolinecolor": "white"
           },
           "yaxis": {
            "backgroundcolor": "#E5ECF6",
            "gridcolor": "white",
            "gridwidth": 2,
            "linecolor": "white",
            "showbackground": true,
            "ticks": "",
            "zerolinecolor": "white"
           },
           "zaxis": {
            "backgroundcolor": "#E5ECF6",
            "gridcolor": "white",
            "gridwidth": 2,
            "linecolor": "white",
            "showbackground": true,
            "ticks": "",
            "zerolinecolor": "white"
           }
          },
          "shapedefaults": {
           "line": {
            "color": "#2a3f5f"
           }
          },
          "ternary": {
           "aaxis": {
            "gridcolor": "white",
            "linecolor": "white",
            "ticks": ""
           },
           "baxis": {
            "gridcolor": "white",
            "linecolor": "white",
            "ticks": ""
           },
           "bgcolor": "#E5ECF6",
           "caxis": {
            "gridcolor": "white",
            "linecolor": "white",
            "ticks": ""
           }
          },
          "title": {
           "x": 0.05
          },
          "xaxis": {
           "automargin": true,
           "gridcolor": "white",
           "linecolor": "white",
           "ticks": "",
           "title": {
            "standoff": 15
           },
           "zerolinecolor": "white",
           "zerolinewidth": 2
          },
          "yaxis": {
           "automargin": true,
           "gridcolor": "white",
           "linecolor": "white",
           "ticks": "",
           "title": {
            "standoff": 15
           },
           "zerolinecolor": "white",
           "zerolinewidth": 2
          }
         }
        },
        "title": {
         "text": "Precio pescado"
        },
        "xaxis": {
         "tickfont": {
          "size": 22
         },
         "title": {
          "text": "Precio medio por kg"
         }
        }
       }
      }
     },
     "metadata": {},
     "output_type": "display_data"
    }
   ],
   "source": [
    "trace1 = go.Bar(x = pesc.values,\n",
    "               y =pesc.index ,\n",
    "               name = 'Precio pescado2',\n",
    "               orientation = 'h',\n",
    "               marker = dict(color = 'rgba(30,144,255, 0.5)',\n",
    "                line = dict(color='rgb(0,0,0)', width = 1.5)))\n",
    "\n",
    "data = [trace1]\n",
    "\n",
    "layout = go.Layout(barmode = \"group\", title='Precio pescado', xaxis_title=\"Precio medio por kg\",xaxis=dict(tickfont=dict(size=22)))\n",
    "\n",
    "fig = go.Figure(data = data, layout = layout)\n",
    "\n",
    "display(fig)"
   ]
  },
  {
   "cell_type": "markdown",
   "metadata": {},
   "source": [
    "I make more filters and take specific products to compare them."
   ]
  },
  {
   "cell_type": "code",
   "execution_count": 98,
   "metadata": {},
   "outputs": [],
   "source": [
    "aceite_merca = aceites[aceites['supermarket'].str.contains('mercadona-es')]\n",
    "#aceite_merca.loc[758]"
   ]
  },
  {
   "cell_type": "code",
   "execution_count": 99,
   "metadata": {},
   "outputs": [],
   "source": [
    "aceite_carre = aceites[aceites['supermarket'].str.contains('carrefour-es')]\n",
    "aceite_carre2 = aceite_carre[aceite_carre['name'].str.contains('Carrefour')]\n",
    "#aceite_carre2.loc[28]"
   ]
  },
  {
   "cell_type": "markdown",
   "metadata": {},
   "source": [
    "<h1> Meat"
   ]
  },
  {
   "cell_type": "code",
   "execution_count": 100,
   "metadata": {},
   "outputs": [
    {
     "data": {
      "text/plain": [
       "array([], dtype=object)"
      ]
     },
     "execution_count": 100,
     "metadata": {},
     "output_type": "execute_result"
    }
   ],
   "source": [
    "#I take out all the meat from Carrefour, and I see that some fish has slipped in, so I get rid of it\n",
    "carre = carnes[carnes['supermarket'] == 'carrefour-es']\n",
    "carre.category.unique()"
   ]
  },
  {
   "cell_type": "code",
   "execution_count": 101,
   "metadata": {},
   "outputs": [
    {
     "data": {
      "text/plain": [
       "array([], dtype=object)"
      ]
     },
     "execution_count": 101,
     "metadata": {},
     "output_type": "execute_result"
    }
   ],
   "source": [
    "#deleting fish\n",
    "filas_quitar = carre[(carre['category'] == 'el_mercado_la_cocina_de_carrefour_platos_de_carne_y_pescado') | (carre['category'] == 'la_despensa_conservas_sopas_y_precocinados_conservas_de_carne')]\n",
    "carre_2 = carre.drop(filas_quitar.index)\n",
    "carre_2.category.unique()\n"
   ]
  },
  {
   "cell_type": "code",
   "execution_count": 102,
   "metadata": {},
   "outputs": [],
   "source": [
    "#remove all the carrefour meat from the dataframe\n",
    "carnes_sin = carnes.drop(carre.index)"
   ]
  },
  {
   "cell_type": "code",
   "execution_count": 103,
   "metadata": {},
   "outputs": [],
   "source": [
    "#I add the meat from Carrefour with the categories filtered well (without fish)\n",
    "carnes_b = pd.concat([carnes_sin,carre_2])"
   ]
  },
  {
   "cell_type": "code",
   "execution_count": 104,
   "metadata": {},
   "outputs": [],
   "source": [
    "carnes_unidad = carnes_b[(carnes_b['reference_unit'] == 'kg') | (carnes_b['reference_unit'] == '€/Kg.') ]"
   ]
  },
  {
   "cell_type": "code",
   "execution_count": 105,
   "metadata": {},
   "outputs": [],
   "source": [
    "chuleta_merca = carnes_unidad[(carnes_unidad['name'].str.contains('cerdo')) & (carnes_unidad['supermarket'].str.contains('mercadona-es')) ]\n",
    "#jamoncitos_merca.loc[148]\n",
    "#chuleta_merca.loc[2113]"
   ]
  },
  {
   "cell_type": "code",
   "execution_count": 106,
   "metadata": {},
   "outputs": [],
   "source": [
    "jamoncitos_merca = carnes_unidad[(carnes_unidad['name'].str.contains('Jamoncito')) & (carnes_unidad['supermarket'].str.contains('mercadona-es')) ]\n",
    "#jamoncitos_merca.loc[148]\n",
    "#jamoncitos_merca.loc[172]"
   ]
  },
  {
   "cell_type": "code",
   "execution_count": 113,
   "metadata": {},
   "outputs": [
    {
     "data": {
      "text/html": [
       "<div>\n",
       "<style scoped>\n",
       "    .dataframe tbody tr th:only-of-type {\n",
       "        vertical-align: middle;\n",
       "    }\n",
       "\n",
       "    .dataframe tbody tr th {\n",
       "        vertical-align: top;\n",
       "    }\n",
       "\n",
       "    .dataframe thead th {\n",
       "        text-align: right;\n",
       "    }\n",
       "</style>\n",
       "<table border=\"1\" class=\"dataframe\">\n",
       "  <thead>\n",
       "    <tr style=\"text-align: right;\">\n",
       "      <th></th>\n",
       "      <th>Unnamed: 0</th>\n",
       "      <th>supermarket</th>\n",
       "      <th>category</th>\n",
       "      <th>name</th>\n",
       "      <th>price</th>\n",
       "      <th>reference_price</th>\n",
       "      <th>reference_unit</th>\n",
       "    </tr>\n",
       "  </thead>\n",
       "  <tbody>\n",
       "  </tbody>\n",
       "</table>\n",
       "</div>"
      ],
      "text/plain": [
       "Empty DataFrame\n",
       "Columns: [Unnamed: 0, supermarket, category, name, price, reference_price, reference_unit]\n",
       "Index: []"
      ]
     },
     "execution_count": 113,
     "metadata": {},
     "output_type": "execute_result"
    }
   ],
   "source": [
    "#precio por 1,2kg\n",
    "jamoncitos_dia = carnes_unidad[(carnes_unidad['name'].str.contains('Jamoncitos')) & (carnes_unidad['supermarket'].str.contains('dia-es')) ]\n",
    "jamoncitos_dia\n",
    "#jamoncitos_dia.loc[1524]\n"
   ]
  },
  {
   "cell_type": "code",
   "execution_count": 108,
   "metadata": {},
   "outputs": [
    {
     "data": {
      "text/html": [
       "<div>\n",
       "<style scoped>\n",
       "    .dataframe tbody tr th:only-of-type {\n",
       "        vertical-align: middle;\n",
       "    }\n",
       "\n",
       "    .dataframe tbody tr th {\n",
       "        vertical-align: top;\n",
       "    }\n",
       "\n",
       "    .dataframe thead th {\n",
       "        text-align: right;\n",
       "    }\n",
       "</style>\n",
       "<table border=\"1\" class=\"dataframe\">\n",
       "  <thead>\n",
       "    <tr style=\"text-align: right;\">\n",
       "      <th></th>\n",
       "      <th>Unnamed: 0</th>\n",
       "      <th>supermarket</th>\n",
       "      <th>category</th>\n",
       "      <th>name</th>\n",
       "      <th>price</th>\n",
       "      <th>reference_price</th>\n",
       "      <th>reference_unit</th>\n",
       "    </tr>\n",
       "  </thead>\n",
       "  <tbody>\n",
       "  </tbody>\n",
       "</table>\n",
       "</div>"
      ],
      "text/plain": [
       "Empty DataFrame\n",
       "Columns: [Unnamed: 0, supermarket, category, name, price, reference_price, reference_unit]\n",
       "Index: []"
      ]
     },
     "execution_count": 108,
     "metadata": {},
     "output_type": "execute_result"
    }
   ],
   "source": [
    "jamoncitos_carre = carnes_unidad[(carnes_unidad['name'].str.contains('Jamoncitos')) & (carnes_unidad['supermarket'].str.contains('carrefour-es')) ]\n",
    "jamoncitos_carre"
   ]
  },
  {
   "cell_type": "markdown",
   "metadata": {},
   "source": [
    "<h1> Fruits and vegetables"
   ]
  },
  {
   "cell_type": "code",
   "execution_count": 109,
   "metadata": {},
   "outputs": [],
   "source": [
    "frutas_unidad = frutas[(frutas['reference_unit'] == 'kg') | (frutas['reference_unit'] == '€/Kg.') ]\n"
   ]
  },
  {
   "cell_type": "code",
   "execution_count": 110,
   "metadata": {},
   "outputs": [],
   "source": [
    "naranjas = frutas_unidad[frutas_unidad['name'].str.startswith('Naranja')]\n",
    "nar_carre = naranjas[naranjas['supermarket'] == 'carrefour-es']\n",
    "#nar_carre.loc[2843]"
   ]
  },
  {
   "cell_type": "code",
   "execution_count": 114,
   "metadata": {},
   "outputs": [],
   "source": [
    "naranjas_dia = frutas_unidad[frutas_unidad['name'].str.startswith('Naranja')]\n",
    "#naranjas_dia.loc[706]"
   ]
  },
  {
   "cell_type": "code",
   "execution_count": 115,
   "metadata": {},
   "outputs": [],
   "source": [
    "naranjas_merca = frutas_unidad[frutas_unidad['name'].str.startswith('Naranja')]\n",
    "#naranjas_merca.loc[462]"
   ]
  },
  {
   "cell_type": "markdown",
   "metadata": {},
   "source": [
    "<h1> Fish"
   ]
  },
  {
   "cell_type": "code",
   "execution_count": 116,
   "metadata": {},
   "outputs": [],
   "source": [
    "pescados_unidad = pescados[(pescados['reference_unit'] == 'kg') | (pescados['reference_unit'] == '€/Kg.') ]"
   ]
  },
  {
   "cell_type": "code",
   "execution_count": 117,
   "metadata": {},
   "outputs": [
    {
     "data": {
      "text/plain": [
       "array(['DIA MARI MARINERA caprichos a la romana bolsa 400 gr', 'Chirla',\n",
       "       'Patas de pulpo cocido',\n",
       "       'AGUINAMAR mejillones cocidos envasado al vacío 1 Kg',\n",
       "       'Lubina limpia con cabeza',\n",
       "       'DIA MARI MARINERA carne de mejillón cocido bolsa 250 gr',\n",
       "       'Filetes de lubina',\n",
       "       'DIA MARI MARINERA filetes de abadejo de Alaska bolsa 850 gr',\n",
       "       'Merluza a rodajas',\n",
       "       'COCINARTE filete de merluza empanado bolsa 600 gr',\n",
       "       'DIA MARI MARINERA gambón crudo caja 800 gr',\n",
       "       'Salpicón de marisco Hacendado',\n",
       "       'Lomo de bacalao sin espinas Hacendado congelado',\n",
       "       'FINDUS nuggets de pescado extracrujientes caja 245 gr',\n",
       "       'Cola de rape Hacendado ultracongelada',\n",
       "       'DIA MARI MARINERA colas de gambón pelado crudo envase 200 gr',\n",
       "       'Rape abierto en libro sin cabeza y sin espina',\n",
       "       'Lenguado sin limpiar',\n",
       "       'Migas de bacalao sin espinas y sin piel Hacendado congeladas',\n",
       "       'Medallones de merluza Hacendado ultracongelados',\n",
       "       'ALIGATOR sepia limpia bandeja 350 gr',\n",
       "       'Filetes de bacaladilla Hacendado ultracongelado',\n",
       "       'PESCANOVA corazones de merluza caja 500 gr',\n",
       "       'Langostino cocido Hacendado',\n",
       "       'DIA MARI MARINERA gambas medianas 70/90 piezas bolsa 350 gr',\n",
       "       'Palitos de surimi Pescanova',\n",
       "       'Tacos de bacalao sin espinas Hacendado congelado',\n",
       "       'FINDUS varitas de pescado caja 280 gr',\n",
       "       'Gallo mediano sin limpiar',\n",
       "       'Rodaja de emperador Hacendado ultracongelado',\n",
       "       'Porciones de merluza del cabo Hacendado',\n",
       "       'PESCANOVA merluza rebozada al huevo 320 gr',\n",
       "       'Calamar pequeño limpio patagónico Hacendado',\n",
       "       'Salmón al curry con arroz',\n",
       "       'DIA MARI MARINERA solomillo de atún MSC bandeja 250 gr',\n",
       "       'Dorada de ración Carrefour 600 g aprox',\n",
       "       'Salmón media pieza abierto en libro sin cabeza y sin espina',\n",
       "       'Trucha sin aletas', 'Merluza sin aletas y sin escamas',\n",
       "       'SELECCIÓN DE DIA langostino cocido bandeja 400 gr',\n",
       "       'PESCANOVA filete de bacalao envase 400 gr',\n",
       "       'Bacalao media pieza abierto en libro sin cabeza y sin espina',\n",
       "       'Merluza abierta en libro sin cabeza y sin espina',\n",
       "       'Sepia limpia troceada Hacendado congelada',\n",
       "       'Filetes de merluza sin piel Hacendado ultracongelados',\n",
       "       'PESCANOVA nuggets de merluza bolsa 300 gr', 'Lubina 600 g aprox',\n",
       "       'NOS supremas de merluza bolsa 400 gr',\n",
       "       'PESCANOVA calamar limpio envase 400 gr',\n",
       "       'AGUINAMAR rodaja de pulpo envase 225 gr', 'Rodaja de emperador',\n",
       "       'Filetes de abadejo sin piel Hacendado ultracongelados',\n",
       "       'DIMAR lomos de bacalao sin piel envase 300 gr',\n",
       "       'Filete de fletán negro Hacendado congelado', 'Tiras de potón',\n",
       "       'DIA MARI MARINERA rodajas de merluza del Cabo MSC bolsa 550 gr',\n",
       "       'Salmón sin aletas y sin escamas',\n",
       "       'PESCANOVA surfers de merluza rebozada caja 400 gr',\n",
       "       'DIA MARI MARINERA navajas crudas MSC bandeja 400 gr',\n",
       "       'Mejillón fresco cocido en su jugo 900 g', 'Salmón ahumado 100 g.',\n",
       "       'Filetes de dorada', 'Trucha abierta en libro con cabeza',\n",
       "       'Merluza media pieza abierta en libro sin cabeza y sin espina',\n",
       "       'Filetes de merluza',\n",
       "       'Pargo rosado abierto a la espalda con espinas y con cabeza',\n",
       "       'Tubo de pota congelado', 'Merluza media pieza a rodajas',\n",
       "       'Rape sin aletas y sin dientes', 'Mejillón vivo y limpio',\n",
       "       'Mejillón grande', 'Langostino cocido (40/60 ud) 1 kg aprox',\n",
       "       'Salmón 3 kg aprox',\n",
       "       'Mejillón Gallego Cocido Carrefour El Mercado 1 kg',\n",
       "       'PESCANOVA caprichos a la romana bolsa 400 gr',\n",
       "       'Trucha abierta en libro sin cabeza y sin espina',\n",
       "       'DIA MARI MARINERA merluza rebozada al huevo MSC caja 340 gr',\n",
       "       'Rodaballo a filetes y sin piel'], dtype=object)"
      ]
     },
     "execution_count": 117,
     "metadata": {},
     "output_type": "execute_result"
    }
   ],
   "source": [
    "pescados_unidad.name.unique()"
   ]
  },
  {
   "cell_type": "code",
   "execution_count": 119,
   "metadata": {},
   "outputs": [],
   "source": [
    "pesc_carre = pescados_unidad[(pescados_unidad['name'].str.contains('bacalao')) & (pescados_unidad['supermarket'].str.contains('carrefour-es')) ]\n",
    "#pesc_carre.loc[1248]"
   ]
  },
  {
   "cell_type": "code",
   "execution_count": 120,
   "metadata": {},
   "outputs": [],
   "source": [
    "pesc_merca = pescados_unidad[(pescados_unidad['name'].str.contains('Filetes de bacalao')) & (pescados_unidad['supermarket'].str.contains('mercadona-es')) ]\n",
    "#pesc_merca.loc[341]"
   ]
  },
  {
   "cell_type": "code",
   "execution_count": 121,
   "metadata": {},
   "outputs": [],
   "source": [
    "pesc_dia= pescados_unidad[(pescados_unidad['name'].str.contains('bacalao')) & (pescados_unidad['supermarket'].str.contains('dia-es')) ]\n",
    "#pesc_dia.loc[1232]"
   ]
  },
  {
   "cell_type": "markdown",
   "metadata": {},
   "source": [
    "No saco conclusiones de valor asi que decido sacar los datos de la web donde me resulta más facil filtrar y tengo mas productos"
   ]
  },
  {
   "cell_type": "markdown",
   "metadata": {},
   "source": [
    "<h1> Price evolution"
   ]
  },
  {
   "cell_type": "code",
   "execution_count": 122,
   "metadata": {},
   "outputs": [],
   "source": [
    "#Data from the Ministry of Agriculture, Fisheries and Food website\n",
    "years = [2018,2019,2020,2021,2022,2023]\n",
    "avg_carne = [6.69, 6.86,7.01, 7.17, 7.77,8.49]\n",
    "avg_pesca = [8.42, 8.66, 8.92, 9.30, 9.99, 10.53]\n",
    "avg_frut = [1.67,1.71, 1.83, 1.83, 2.03, 2.05]\n",
    "avg_ace = [3.81,3.21, 2.95, 3.31, 4.27, 6.54]"
   ]
  },
  {
   "cell_type": "code",
   "execution_count": 123,
   "metadata": {},
   "outputs": [
    {
     "data": {
      "text/html": [
       "<div>\n",
       "<style scoped>\n",
       "    .dataframe tbody tr th:only-of-type {\n",
       "        vertical-align: middle;\n",
       "    }\n",
       "\n",
       "    .dataframe tbody tr th {\n",
       "        vertical-align: top;\n",
       "    }\n",
       "\n",
       "    .dataframe thead th {\n",
       "        text-align: right;\n",
       "    }\n",
       "</style>\n",
       "<table border=\"1\" class=\"dataframe\">\n",
       "  <thead>\n",
       "    <tr style=\"text-align: right;\">\n",
       "      <th></th>\n",
       "      <th>año</th>\n",
       "      <th>media carne</th>\n",
       "      <th>media pesca</th>\n",
       "      <th>media fruta</th>\n",
       "      <th>media aceite</th>\n",
       "    </tr>\n",
       "  </thead>\n",
       "  <tbody>\n",
       "    <tr>\n",
       "      <th>0</th>\n",
       "      <td>2018</td>\n",
       "      <td>6.69</td>\n",
       "      <td>8.42</td>\n",
       "      <td>1.67</td>\n",
       "      <td>3.81</td>\n",
       "    </tr>\n",
       "    <tr>\n",
       "      <th>1</th>\n",
       "      <td>2019</td>\n",
       "      <td>6.86</td>\n",
       "      <td>8.66</td>\n",
       "      <td>1.71</td>\n",
       "      <td>3.21</td>\n",
       "    </tr>\n",
       "    <tr>\n",
       "      <th>2</th>\n",
       "      <td>2020</td>\n",
       "      <td>7.01</td>\n",
       "      <td>8.92</td>\n",
       "      <td>1.83</td>\n",
       "      <td>2.95</td>\n",
       "    </tr>\n",
       "    <tr>\n",
       "      <th>3</th>\n",
       "      <td>2021</td>\n",
       "      <td>7.17</td>\n",
       "      <td>9.30</td>\n",
       "      <td>1.83</td>\n",
       "      <td>3.31</td>\n",
       "    </tr>\n",
       "    <tr>\n",
       "      <th>4</th>\n",
       "      <td>2022</td>\n",
       "      <td>7.77</td>\n",
       "      <td>9.99</td>\n",
       "      <td>2.03</td>\n",
       "      <td>4.27</td>\n",
       "    </tr>\n",
       "    <tr>\n",
       "      <th>5</th>\n",
       "      <td>2023</td>\n",
       "      <td>8.49</td>\n",
       "      <td>10.53</td>\n",
       "      <td>2.05</td>\n",
       "      <td>6.54</td>\n",
       "    </tr>\n",
       "  </tbody>\n",
       "</table>\n",
       "</div>"
      ],
      "text/plain": [
       "    año  media carne  media pesca  media fruta  media aceite\n",
       "0  2018         6.69         8.42         1.67          3.81\n",
       "1  2019         6.86         8.66         1.71          3.21\n",
       "2  2020         7.01         8.92         1.83          2.95\n",
       "3  2021         7.17         9.30         1.83          3.31\n",
       "4  2022         7.77         9.99         2.03          4.27\n",
       "5  2023         8.49        10.53         2.05          6.54"
      ]
     },
     "execution_count": 123,
     "metadata": {},
     "output_type": "execute_result"
    }
   ],
   "source": [
    "diccionario = {'año':years,\n",
    "                'media carne': avg_carne,\n",
    "                'media pesca': avg_pesca,\n",
    "                'media fruta': avg_frut,\n",
    "                'media aceite': avg_ace}\n",
    "\n",
    "evol = pd.DataFrame(diccionario)\n",
    "evol"
   ]
  },
  {
   "cell_type": "code",
   "execution_count": 124,
   "metadata": {},
   "outputs": [
    {
     "name": "stdout",
     "output_type": "stream",
     "text": [
      "aumento carne 1.7999999999999998\n",
      "aumento pesca 2.1099999999999994\n",
      "aumento fruta 0.3799999999999999\n",
      "aumento aceite 3.59\n"
     ]
    }
   ],
   "source": [
    "print('aumento carne',evol.iloc[:,1].max()-evol.iloc[:,1].min())\n",
    "print('aumento pesca',evol.iloc[:,2].max()-evol.iloc[:,2].min())\n",
    "print('aumento fruta',evol.iloc[:,3].max()-evol.iloc[:,3].min())\n",
    "print('aumento aceite',evol.iloc[:,4].max()-evol.iloc[:,4].min())\n"
   ]
  },
  {
   "cell_type": "code",
   "execution_count": 125,
   "metadata": {},
   "outputs": [
    {
     "data": {
      "application/vnd.plotly.v1+json": {
       "config": {
        "plotlyServerURL": "https://plot.ly"
       },
       "data": [
        {
         "marker": {
          "color": "rgba(198, 0, 32, 0.8)"
         },
         "mode": "lines+markers",
         "name": "Carne",
         "text": "Carne",
         "type": "scatter",
         "x": [
          2018,
          2019,
          2020,
          2021,
          2022,
          2023
         ],
         "y": [
          6.69,
          6.86,
          7.01,
          7.17,
          7.77,
          8.49
         ]
        },
        {
         "marker": {
          "color": "rgba(0, 0, 200, 0.8)"
         },
         "mode": "lines+markers",
         "name": "Pescado",
         "text": "Pescado",
         "type": "scatter",
         "x": [
          2018,
          2019,
          2020,
          2021,
          2022,
          2023
         ],
         "y": [
          8.42,
          8.66,
          8.92,
          9.3,
          9.99,
          10.53
         ]
        },
        {
         "marker": {
          "color": "rgba(0, 200, 0, 0.8)"
         },
         "mode": "lines+markers",
         "name": "Fruta y verdura",
         "text": "Fruta",
         "type": "scatter",
         "x": [
          2018,
          2019,
          2020,
          2021,
          2022,
          2023
         ],
         "y": [
          1.67,
          1.71,
          1.83,
          1.83,
          2.03,
          2.05
         ]
        },
        {
         "marker": {
          "color": "rgba(255, 190, 0, 0.8)"
         },
         "mode": "lines+markers",
         "name": "Aceite",
         "text": "Aceite",
         "type": "scatter",
         "x": [
          2018,
          2019,
          2020,
          2021,
          2022,
          2023
         ],
         "y": [
          3.81,
          3.21,
          2.95,
          3.31,
          4.27,
          6.54
         ]
        }
       ],
       "layout": {
        "legend": {
         "font": {
          "size": 20
         }
        },
        "template": {
         "data": {
          "bar": [
           {
            "error_x": {
             "color": "#2a3f5f"
            },
            "error_y": {
             "color": "#2a3f5f"
            },
            "marker": {
             "line": {
              "color": "#E5ECF6",
              "width": 0.5
             },
             "pattern": {
              "fillmode": "overlay",
              "size": 10,
              "solidity": 0.2
             }
            },
            "type": "bar"
           }
          ],
          "barpolar": [
           {
            "marker": {
             "line": {
              "color": "#E5ECF6",
              "width": 0.5
             },
             "pattern": {
              "fillmode": "overlay",
              "size": 10,
              "solidity": 0.2
             }
            },
            "type": "barpolar"
           }
          ],
          "carpet": [
           {
            "aaxis": {
             "endlinecolor": "#2a3f5f",
             "gridcolor": "white",
             "linecolor": "white",
             "minorgridcolor": "white",
             "startlinecolor": "#2a3f5f"
            },
            "baxis": {
             "endlinecolor": "#2a3f5f",
             "gridcolor": "white",
             "linecolor": "white",
             "minorgridcolor": "white",
             "startlinecolor": "#2a3f5f"
            },
            "type": "carpet"
           }
          ],
          "choropleth": [
           {
            "colorbar": {
             "outlinewidth": 0,
             "ticks": ""
            },
            "type": "choropleth"
           }
          ],
          "contour": [
           {
            "colorbar": {
             "outlinewidth": 0,
             "ticks": ""
            },
            "colorscale": [
             [
              0,
              "#0d0887"
             ],
             [
              0.1111111111111111,
              "#46039f"
             ],
             [
              0.2222222222222222,
              "#7201a8"
             ],
             [
              0.3333333333333333,
              "#9c179e"
             ],
             [
              0.4444444444444444,
              "#bd3786"
             ],
             [
              0.5555555555555556,
              "#d8576b"
             ],
             [
              0.6666666666666666,
              "#ed7953"
             ],
             [
              0.7777777777777778,
              "#fb9f3a"
             ],
             [
              0.8888888888888888,
              "#fdca26"
             ],
             [
              1,
              "#f0f921"
             ]
            ],
            "type": "contour"
           }
          ],
          "contourcarpet": [
           {
            "colorbar": {
             "outlinewidth": 0,
             "ticks": ""
            },
            "type": "contourcarpet"
           }
          ],
          "heatmap": [
           {
            "colorbar": {
             "outlinewidth": 0,
             "ticks": ""
            },
            "colorscale": [
             [
              0,
              "#0d0887"
             ],
             [
              0.1111111111111111,
              "#46039f"
             ],
             [
              0.2222222222222222,
              "#7201a8"
             ],
             [
              0.3333333333333333,
              "#9c179e"
             ],
             [
              0.4444444444444444,
              "#bd3786"
             ],
             [
              0.5555555555555556,
              "#d8576b"
             ],
             [
              0.6666666666666666,
              "#ed7953"
             ],
             [
              0.7777777777777778,
              "#fb9f3a"
             ],
             [
              0.8888888888888888,
              "#fdca26"
             ],
             [
              1,
              "#f0f921"
             ]
            ],
            "type": "heatmap"
           }
          ],
          "heatmapgl": [
           {
            "colorbar": {
             "outlinewidth": 0,
             "ticks": ""
            },
            "colorscale": [
             [
              0,
              "#0d0887"
             ],
             [
              0.1111111111111111,
              "#46039f"
             ],
             [
              0.2222222222222222,
              "#7201a8"
             ],
             [
              0.3333333333333333,
              "#9c179e"
             ],
             [
              0.4444444444444444,
              "#bd3786"
             ],
             [
              0.5555555555555556,
              "#d8576b"
             ],
             [
              0.6666666666666666,
              "#ed7953"
             ],
             [
              0.7777777777777778,
              "#fb9f3a"
             ],
             [
              0.8888888888888888,
              "#fdca26"
             ],
             [
              1,
              "#f0f921"
             ]
            ],
            "type": "heatmapgl"
           }
          ],
          "histogram": [
           {
            "marker": {
             "pattern": {
              "fillmode": "overlay",
              "size": 10,
              "solidity": 0.2
             }
            },
            "type": "histogram"
           }
          ],
          "histogram2d": [
           {
            "colorbar": {
             "outlinewidth": 0,
             "ticks": ""
            },
            "colorscale": [
             [
              0,
              "#0d0887"
             ],
             [
              0.1111111111111111,
              "#46039f"
             ],
             [
              0.2222222222222222,
              "#7201a8"
             ],
             [
              0.3333333333333333,
              "#9c179e"
             ],
             [
              0.4444444444444444,
              "#bd3786"
             ],
             [
              0.5555555555555556,
              "#d8576b"
             ],
             [
              0.6666666666666666,
              "#ed7953"
             ],
             [
              0.7777777777777778,
              "#fb9f3a"
             ],
             [
              0.8888888888888888,
              "#fdca26"
             ],
             [
              1,
              "#f0f921"
             ]
            ],
            "type": "histogram2d"
           }
          ],
          "histogram2dcontour": [
           {
            "colorbar": {
             "outlinewidth": 0,
             "ticks": ""
            },
            "colorscale": [
             [
              0,
              "#0d0887"
             ],
             [
              0.1111111111111111,
              "#46039f"
             ],
             [
              0.2222222222222222,
              "#7201a8"
             ],
             [
              0.3333333333333333,
              "#9c179e"
             ],
             [
              0.4444444444444444,
              "#bd3786"
             ],
             [
              0.5555555555555556,
              "#d8576b"
             ],
             [
              0.6666666666666666,
              "#ed7953"
             ],
             [
              0.7777777777777778,
              "#fb9f3a"
             ],
             [
              0.8888888888888888,
              "#fdca26"
             ],
             [
              1,
              "#f0f921"
             ]
            ],
            "type": "histogram2dcontour"
           }
          ],
          "mesh3d": [
           {
            "colorbar": {
             "outlinewidth": 0,
             "ticks": ""
            },
            "type": "mesh3d"
           }
          ],
          "parcoords": [
           {
            "line": {
             "colorbar": {
              "outlinewidth": 0,
              "ticks": ""
             }
            },
            "type": "parcoords"
           }
          ],
          "pie": [
           {
            "automargin": true,
            "type": "pie"
           }
          ],
          "scatter": [
           {
            "fillpattern": {
             "fillmode": "overlay",
             "size": 10,
             "solidity": 0.2
            },
            "type": "scatter"
           }
          ],
          "scatter3d": [
           {
            "line": {
             "colorbar": {
              "outlinewidth": 0,
              "ticks": ""
             }
            },
            "marker": {
             "colorbar": {
              "outlinewidth": 0,
              "ticks": ""
             }
            },
            "type": "scatter3d"
           }
          ],
          "scattercarpet": [
           {
            "marker": {
             "colorbar": {
              "outlinewidth": 0,
              "ticks": ""
             }
            },
            "type": "scattercarpet"
           }
          ],
          "scattergeo": [
           {
            "marker": {
             "colorbar": {
              "outlinewidth": 0,
              "ticks": ""
             }
            },
            "type": "scattergeo"
           }
          ],
          "scattergl": [
           {
            "marker": {
             "colorbar": {
              "outlinewidth": 0,
              "ticks": ""
             }
            },
            "type": "scattergl"
           }
          ],
          "scattermapbox": [
           {
            "marker": {
             "colorbar": {
              "outlinewidth": 0,
              "ticks": ""
             }
            },
            "type": "scattermapbox"
           }
          ],
          "scatterpolar": [
           {
            "marker": {
             "colorbar": {
              "outlinewidth": 0,
              "ticks": ""
             }
            },
            "type": "scatterpolar"
           }
          ],
          "scatterpolargl": [
           {
            "marker": {
             "colorbar": {
              "outlinewidth": 0,
              "ticks": ""
             }
            },
            "type": "scatterpolargl"
           }
          ],
          "scatterternary": [
           {
            "marker": {
             "colorbar": {
              "outlinewidth": 0,
              "ticks": ""
             }
            },
            "type": "scatterternary"
           }
          ],
          "surface": [
           {
            "colorbar": {
             "outlinewidth": 0,
             "ticks": ""
            },
            "colorscale": [
             [
              0,
              "#0d0887"
             ],
             [
              0.1111111111111111,
              "#46039f"
             ],
             [
              0.2222222222222222,
              "#7201a8"
             ],
             [
              0.3333333333333333,
              "#9c179e"
             ],
             [
              0.4444444444444444,
              "#bd3786"
             ],
             [
              0.5555555555555556,
              "#d8576b"
             ],
             [
              0.6666666666666666,
              "#ed7953"
             ],
             [
              0.7777777777777778,
              "#fb9f3a"
             ],
             [
              0.8888888888888888,
              "#fdca26"
             ],
             [
              1,
              "#f0f921"
             ]
            ],
            "type": "surface"
           }
          ],
          "table": [
           {
            "cells": {
             "fill": {
              "color": "#EBF0F8"
             },
             "line": {
              "color": "white"
             }
            },
            "header": {
             "fill": {
              "color": "#C8D4E3"
             },
             "line": {
              "color": "white"
             }
            },
            "type": "table"
           }
          ]
         },
         "layout": {
          "annotationdefaults": {
           "arrowcolor": "#2a3f5f",
           "arrowhead": 0,
           "arrowwidth": 1
          },
          "autotypenumbers": "strict",
          "coloraxis": {
           "colorbar": {
            "outlinewidth": 0,
            "ticks": ""
           }
          },
          "colorscale": {
           "diverging": [
            [
             0,
             "#8e0152"
            ],
            [
             0.1,
             "#c51b7d"
            ],
            [
             0.2,
             "#de77ae"
            ],
            [
             0.3,
             "#f1b6da"
            ],
            [
             0.4,
             "#fde0ef"
            ],
            [
             0.5,
             "#f7f7f7"
            ],
            [
             0.6,
             "#e6f5d0"
            ],
            [
             0.7,
             "#b8e186"
            ],
            [
             0.8,
             "#7fbc41"
            ],
            [
             0.9,
             "#4d9221"
            ],
            [
             1,
             "#276419"
            ]
           ],
           "sequential": [
            [
             0,
             "#0d0887"
            ],
            [
             0.1111111111111111,
             "#46039f"
            ],
            [
             0.2222222222222222,
             "#7201a8"
            ],
            [
             0.3333333333333333,
             "#9c179e"
            ],
            [
             0.4444444444444444,
             "#bd3786"
            ],
            [
             0.5555555555555556,
             "#d8576b"
            ],
            [
             0.6666666666666666,
             "#ed7953"
            ],
            [
             0.7777777777777778,
             "#fb9f3a"
            ],
            [
             0.8888888888888888,
             "#fdca26"
            ],
            [
             1,
             "#f0f921"
            ]
           ],
           "sequentialminus": [
            [
             0,
             "#0d0887"
            ],
            [
             0.1111111111111111,
             "#46039f"
            ],
            [
             0.2222222222222222,
             "#7201a8"
            ],
            [
             0.3333333333333333,
             "#9c179e"
            ],
            [
             0.4444444444444444,
             "#bd3786"
            ],
            [
             0.5555555555555556,
             "#d8576b"
            ],
            [
             0.6666666666666666,
             "#ed7953"
            ],
            [
             0.7777777777777778,
             "#fb9f3a"
            ],
            [
             0.8888888888888888,
             "#fdca26"
            ],
            [
             1,
             "#f0f921"
            ]
           ]
          },
          "colorway": [
           "#636efa",
           "#EF553B",
           "#00cc96",
           "#ab63fa",
           "#FFA15A",
           "#19d3f3",
           "#FF6692",
           "#B6E880",
           "#FF97FF",
           "#FECB52"
          ],
          "font": {
           "color": "#2a3f5f"
          },
          "geo": {
           "bgcolor": "white",
           "lakecolor": "white",
           "landcolor": "#E5ECF6",
           "showlakes": true,
           "showland": true,
           "subunitcolor": "white"
          },
          "hoverlabel": {
           "align": "left"
          },
          "hovermode": "closest",
          "mapbox": {
           "style": "light"
          },
          "paper_bgcolor": "white",
          "plot_bgcolor": "#E5ECF6",
          "polar": {
           "angularaxis": {
            "gridcolor": "white",
            "linecolor": "white",
            "ticks": ""
           },
           "bgcolor": "#E5ECF6",
           "radialaxis": {
            "gridcolor": "white",
            "linecolor": "white",
            "ticks": ""
           }
          },
          "scene": {
           "xaxis": {
            "backgroundcolor": "#E5ECF6",
            "gridcolor": "white",
            "gridwidth": 2,
            "linecolor": "white",
            "showbackground": true,
            "ticks": "",
            "zerolinecolor": "white"
           },
           "yaxis": {
            "backgroundcolor": "#E5ECF6",
            "gridcolor": "white",
            "gridwidth": 2,
            "linecolor": "white",
            "showbackground": true,
            "ticks": "",
            "zerolinecolor": "white"
           },
           "zaxis": {
            "backgroundcolor": "#E5ECF6",
            "gridcolor": "white",
            "gridwidth": 2,
            "linecolor": "white",
            "showbackground": true,
            "ticks": "",
            "zerolinecolor": "white"
           }
          },
          "shapedefaults": {
           "line": {
            "color": "#2a3f5f"
           }
          },
          "ternary": {
           "aaxis": {
            "gridcolor": "white",
            "linecolor": "white",
            "ticks": ""
           },
           "baxis": {
            "gridcolor": "white",
            "linecolor": "white",
            "ticks": ""
           },
           "bgcolor": "#E5ECF6",
           "caxis": {
            "gridcolor": "white",
            "linecolor": "white",
            "ticks": ""
           }
          },
          "title": {
           "x": 0.05
          },
          "xaxis": {
           "automargin": true,
           "gridcolor": "white",
           "linecolor": "white",
           "ticks": "",
           "title": {
            "standoff": 15
           },
           "zerolinecolor": "white",
           "zerolinewidth": 2
          },
          "yaxis": {
           "automargin": true,
           "gridcolor": "white",
           "linecolor": "white",
           "ticks": "",
           "title": {
            "standoff": 15
           },
           "zerolinecolor": "white",
           "zerolinewidth": 2
          }
         }
        },
        "title": {
         "text": "Subida de precios"
        },
        "width": 800,
        "xaxis": {
         "nticks": 6,
         "tickfont": {
          "size": 20
         },
         "title": {
          "text": "Años"
         }
        },
        "yaxis": {
         "nticks": 10,
         "tickfont": {
          "size": 20
         },
         "title": {
          "text": "Precio medio  €/kg"
         }
        }
       }
      }
     },
     "metadata": {},
     "output_type": "display_data"
    }
   ],
   "source": [
    "trace1 = go.Scatter(\n",
    "                    x = years,\n",
    "                    y = avg_carne,\n",
    "                    name = 'Carne',\n",
    "                    mode= 'lines+markers',\n",
    "                    marker = dict(color = 'rgba(198, 0, 32, 0.8)'),\n",
    "                    text = 'Carne')\n",
    "\n",
    "\n",
    "trace2 = go.Scatter(\n",
    "                    x = years,\n",
    "                    y = avg_pesca,\n",
    "                    name = 'Pescado',\n",
    "                    mode= 'lines+markers',\n",
    "                    marker = dict(color = 'rgba(0, 0, 200, 0.8)'),\n",
    "                    text = 'Pescado')\n",
    "\n",
    "\n",
    "trace3 = go.Scatter(\n",
    "                    x = years,\n",
    "                    y = avg_frut,\n",
    "                    name = 'Fruta y verdura',\n",
    "                    mode= 'lines+markers',\n",
    "                    marker = dict(color = 'rgba(0, 200, 0, 0.8)'),\n",
    "                    text = 'Fruta')\n",
    "\n",
    "\n",
    "trace4 = go.Scatter(\n",
    "                    x = years,\n",
    "                    y = avg_ace,\n",
    "                    name = 'Aceite',\n",
    "                    mode= 'lines+markers',\n",
    "                    marker = dict(color = 'rgba(255, 190, 0, 0.8)'),\n",
    "                    text = 'Aceite')\n",
    "\n",
    "\n",
    "data = [trace1, trace2, trace3, trace4]\n",
    "\n",
    "layout = dict(title = 'Subida de precios',\n",
    "             xaxis= dict(title= 'Años', nticks=6, tickfont=dict(size=20)),  \n",
    "             yaxis=dict(title= 'Precio medio  €/kg',nticks=10,tickfont=dict(size=20)),\n",
    "             width=800,\n",
    "             legend=dict(font=dict(size=20))\n",
    "           )\n",
    "\n",
    "fig = go.Figure(data = data, layout=layout)\n",
    "\n",
    "fig"
   ]
  }
 ],
 "metadata": {
  "kernelspec": {
   "display_name": "eda_env",
   "language": "python",
   "name": "python3"
  },
  "language_info": {
   "codemirror_mode": {
    "name": "ipython",
    "version": 3
   },
   "file_extension": ".py",
   "mimetype": "text/x-python",
   "name": "python",
   "nbconvert_exporter": "python",
   "pygments_lexer": "ipython3",
   "version": "3.9.18"
  }
 },
 "nbformat": 4,
 "nbformat_minor": 2
}
